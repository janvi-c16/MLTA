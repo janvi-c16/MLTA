{
  "nbformat": 4,
  "nbformat_minor": 0,
  "metadata": {
    "colab": {
      "provenance": []
    },
    "kernelspec": {
      "name": "python3",
      "display_name": "Python 3"
    },
    "language_info": {
      "name": "python"
    }
  },
  "cells": [
    {
      "cell_type": "markdown",
      "source": [
        "# **Building a Naive Bayes Classifier for Spam Detection**\n",
        "\n",
        "Naïve Bayes classifier is a supervised learning algorithm, which is based on Bayes theorem and used for solving classification problems.\n",
        "It is mainly used in text classification that includes a high-dimensional training dataset.\n",
        "Naïve Bayes Classifier is one of the simple and most effective Classification algorithms which helps in building the fast machine learning models that can make quick predictions.\n"
      ],
      "metadata": {
        "id": "oZy2MDocaQd3"
      }
    },
    {
      "cell_type": "markdown",
      "source": [
        "**About dataset:**\n",
        "\n",
        "The ***SMS Spam Collection*** dataset is a set of SMS tagged messages that have been collected for SMS Spam research. It contains one set of SMS messages in English of 5,574 messages, tagged acording being ham (legitimate) or spam. The files contain one message per line. Each line is composed of two columns: v1 contains the label (ham or spam) and v2 contains the raw text. For more information about dataset please follow the link: https://www.kaggle.com/datasets/uciml/sms-spam-collection-dataset"
      ],
      "metadata": {
        "id": "2nuTA3K0bbyt"
      }
    },
    {
      "cell_type": "markdown",
      "source": [
        "**Import necessary libraries**"
      ],
      "metadata": {
        "id": "8BRd1uR_ce1p"
      }
    },
    {
      "cell_type": "code",
      "execution_count": 3,
      "metadata": {
        "id": "fZsKejYsZ08O"
      },
      "outputs": [],
      "source": [
        "import pandas as pd\n",
        "from sklearn.feature_extraction.text import CountVectorizer\n",
        "from sklearn.naive_bayes import MultinomialNB\n",
        "from sklearn.metrics import accuracy_score, confusion_matrix\n",
        "import seaborn as sns\n",
        "import matplotlib.pyplot as plt"
      ]
    },
    {
      "cell_type": "markdown",
      "source": [
        "**Load the dataset**"
      ],
      "metadata": {
        "id": "i_eQ8FIcclcn"
      }
    },
    {
      "cell_type": "code",
      "source": [
        "spam_df = pd.read_csv('spam.csv', encoding='latin-1')"
      ],
      "metadata": {
        "id": "SSXJrIbxaWbu"
      },
      "execution_count": 4,
      "outputs": []
    },
    {
      "cell_type": "markdown",
      "source": [
        "**Preview the data**"
      ],
      "metadata": {
        "id": "c3YrTNnHicuB"
      }
    },
    {
      "cell_type": "code",
      "source": [
        "spam_df.head()"
      ],
      "metadata": {
        "colab": {
          "base_uri": "https://localhost:8080/",
          "height": 206
        },
        "id": "lFijOx0sidn9",
        "outputId": "42df34bf-5400-4578-d6de-d5b2ceaeba94"
      },
      "execution_count": 5,
      "outputs": [
        {
          "output_type": "execute_result",
          "data": {
            "text/plain": [
              "     v1                                                 v2 Unnamed: 2  \\\n",
              "0   ham  Go until jurong point, crazy.. Available only ...        NaN   \n",
              "1   ham                      Ok lar... Joking wif u oni...        NaN   \n",
              "2  spam  Free entry in 2 a wkly comp to win FA Cup fina...        NaN   \n",
              "3   ham  U dun say so early hor... U c already then say...        NaN   \n",
              "4   ham  Nah I don't think he goes to usf, he lives aro...        NaN   \n",
              "\n",
              "  Unnamed: 3 Unnamed: 4  \n",
              "0        NaN        NaN  \n",
              "1        NaN        NaN  \n",
              "2        NaN        NaN  \n",
              "3        NaN        NaN  \n",
              "4        NaN        NaN  "
            ],
            "text/html": [
              "\n",
              "  <div id=\"df-a53592f0-3c78-4448-980f-7190e256c6b4\">\n",
              "    <div class=\"colab-df-container\">\n",
              "      <div>\n",
              "<style scoped>\n",
              "    .dataframe tbody tr th:only-of-type {\n",
              "        vertical-align: middle;\n",
              "    }\n",
              "\n",
              "    .dataframe tbody tr th {\n",
              "        vertical-align: top;\n",
              "    }\n",
              "\n",
              "    .dataframe thead th {\n",
              "        text-align: right;\n",
              "    }\n",
              "</style>\n",
              "<table border=\"1\" class=\"dataframe\">\n",
              "  <thead>\n",
              "    <tr style=\"text-align: right;\">\n",
              "      <th></th>\n",
              "      <th>v1</th>\n",
              "      <th>v2</th>\n",
              "      <th>Unnamed: 2</th>\n",
              "      <th>Unnamed: 3</th>\n",
              "      <th>Unnamed: 4</th>\n",
              "    </tr>\n",
              "  </thead>\n",
              "  <tbody>\n",
              "    <tr>\n",
              "      <th>0</th>\n",
              "      <td>ham</td>\n",
              "      <td>Go until jurong point, crazy.. Available only ...</td>\n",
              "      <td>NaN</td>\n",
              "      <td>NaN</td>\n",
              "      <td>NaN</td>\n",
              "    </tr>\n",
              "    <tr>\n",
              "      <th>1</th>\n",
              "      <td>ham</td>\n",
              "      <td>Ok lar... Joking wif u oni...</td>\n",
              "      <td>NaN</td>\n",
              "      <td>NaN</td>\n",
              "      <td>NaN</td>\n",
              "    </tr>\n",
              "    <tr>\n",
              "      <th>2</th>\n",
              "      <td>spam</td>\n",
              "      <td>Free entry in 2 a wkly comp to win FA Cup fina...</td>\n",
              "      <td>NaN</td>\n",
              "      <td>NaN</td>\n",
              "      <td>NaN</td>\n",
              "    </tr>\n",
              "    <tr>\n",
              "      <th>3</th>\n",
              "      <td>ham</td>\n",
              "      <td>U dun say so early hor... U c already then say...</td>\n",
              "      <td>NaN</td>\n",
              "      <td>NaN</td>\n",
              "      <td>NaN</td>\n",
              "    </tr>\n",
              "    <tr>\n",
              "      <th>4</th>\n",
              "      <td>ham</td>\n",
              "      <td>Nah I don't think he goes to usf, he lives aro...</td>\n",
              "      <td>NaN</td>\n",
              "      <td>NaN</td>\n",
              "      <td>NaN</td>\n",
              "    </tr>\n",
              "  </tbody>\n",
              "</table>\n",
              "</div>\n",
              "      <button class=\"colab-df-convert\" onclick=\"convertToInteractive('df-a53592f0-3c78-4448-980f-7190e256c6b4')\"\n",
              "              title=\"Convert this dataframe to an interactive table.\"\n",
              "              style=\"display:none;\">\n",
              "        \n",
              "  <svg xmlns=\"http://www.w3.org/2000/svg\" height=\"24px\"viewBox=\"0 0 24 24\"\n",
              "       width=\"24px\">\n",
              "    <path d=\"M0 0h24v24H0V0z\" fill=\"none\"/>\n",
              "    <path d=\"M18.56 5.44l.94 2.06.94-2.06 2.06-.94-2.06-.94-.94-2.06-.94 2.06-2.06.94zm-11 1L8.5 8.5l.94-2.06 2.06-.94-2.06-.94L8.5 2.5l-.94 2.06-2.06.94zm10 10l.94 2.06.94-2.06 2.06-.94-2.06-.94-.94-2.06-.94 2.06-2.06.94z\"/><path d=\"M17.41 7.96l-1.37-1.37c-.4-.4-.92-.59-1.43-.59-.52 0-1.04.2-1.43.59L10.3 9.45l-7.72 7.72c-.78.78-.78 2.05 0 2.83L4 21.41c.39.39.9.59 1.41.59.51 0 1.02-.2 1.41-.59l7.78-7.78 2.81-2.81c.8-.78.8-2.07 0-2.86zM5.41 20L4 18.59l7.72-7.72 1.47 1.35L5.41 20z\"/>\n",
              "  </svg>\n",
              "      </button>\n",
              "      \n",
              "  <style>\n",
              "    .colab-df-container {\n",
              "      display:flex;\n",
              "      flex-wrap:wrap;\n",
              "      gap: 12px;\n",
              "    }\n",
              "\n",
              "    .colab-df-convert {\n",
              "      background-color: #E8F0FE;\n",
              "      border: none;\n",
              "      border-radius: 50%;\n",
              "      cursor: pointer;\n",
              "      display: none;\n",
              "      fill: #1967D2;\n",
              "      height: 32px;\n",
              "      padding: 0 0 0 0;\n",
              "      width: 32px;\n",
              "    }\n",
              "\n",
              "    .colab-df-convert:hover {\n",
              "      background-color: #E2EBFA;\n",
              "      box-shadow: 0px 1px 2px rgba(60, 64, 67, 0.3), 0px 1px 3px 1px rgba(60, 64, 67, 0.15);\n",
              "      fill: #174EA6;\n",
              "    }\n",
              "\n",
              "    [theme=dark] .colab-df-convert {\n",
              "      background-color: #3B4455;\n",
              "      fill: #D2E3FC;\n",
              "    }\n",
              "\n",
              "    [theme=dark] .colab-df-convert:hover {\n",
              "      background-color: #434B5C;\n",
              "      box-shadow: 0px 1px 3px 1px rgba(0, 0, 0, 0.15);\n",
              "      filter: drop-shadow(0px 1px 2px rgba(0, 0, 0, 0.3));\n",
              "      fill: #FFFFFF;\n",
              "    }\n",
              "  </style>\n",
              "\n",
              "      <script>\n",
              "        const buttonEl =\n",
              "          document.querySelector('#df-a53592f0-3c78-4448-980f-7190e256c6b4 button.colab-df-convert');\n",
              "        buttonEl.style.display =\n",
              "          google.colab.kernel.accessAllowed ? 'block' : 'none';\n",
              "\n",
              "        async function convertToInteractive(key) {\n",
              "          const element = document.querySelector('#df-a53592f0-3c78-4448-980f-7190e256c6b4');\n",
              "          const dataTable =\n",
              "            await google.colab.kernel.invokeFunction('convertToInteractive',\n",
              "                                                     [key], {});\n",
              "          if (!dataTable) return;\n",
              "\n",
              "          const docLinkHtml = 'Like what you see? Visit the ' +\n",
              "            '<a target=\"_blank\" href=https://colab.research.google.com/notebooks/data_table.ipynb>data table notebook</a>'\n",
              "            + ' to learn more about interactive tables.';\n",
              "          element.innerHTML = '';\n",
              "          dataTable['output_type'] = 'display_data';\n",
              "          await google.colab.output.renderOutput(dataTable, element);\n",
              "          const docLink = document.createElement('div');\n",
              "          docLink.innerHTML = docLinkHtml;\n",
              "          element.appendChild(docLink);\n",
              "        }\n",
              "      </script>\n",
              "    </div>\n",
              "  </div>\n",
              "  "
            ]
          },
          "metadata": {},
          "execution_count": 5
        }
      ]
    },
    {
      "cell_type": "code",
      "source": [
        "spam_df.shape"
      ],
      "metadata": {
        "colab": {
          "base_uri": "https://localhost:8080/"
        },
        "id": "i84Lusg4jmpX",
        "outputId": "85d6090e-ce8e-440a-c0b9-404524d9fed9"
      },
      "execution_count": 6,
      "outputs": [
        {
          "output_type": "execute_result",
          "data": {
            "text/plain": [
              "(5572, 5)"
            ]
          },
          "metadata": {},
          "execution_count": 6
        }
      ]
    },
    {
      "cell_type": "code",
      "source": [
        "spam_df.info()"
      ],
      "metadata": {
        "colab": {
          "base_uri": "https://localhost:8080/"
        },
        "id": "ZMLnz_sVjs-Z",
        "outputId": "a05312c8-fd5e-445b-82f8-d33ed4b00479"
      },
      "execution_count": 7,
      "outputs": [
        {
          "output_type": "stream",
          "name": "stdout",
          "text": [
            "<class 'pandas.core.frame.DataFrame'>\n",
            "RangeIndex: 5572 entries, 0 to 5571\n",
            "Data columns (total 5 columns):\n",
            " #   Column      Non-Null Count  Dtype \n",
            "---  ------      --------------  ----- \n",
            " 0   v1          5572 non-null   object\n",
            " 1   v2          5572 non-null   object\n",
            " 2   Unnamed: 2  50 non-null     object\n",
            " 3   Unnamed: 3  12 non-null     object\n",
            " 4   Unnamed: 4  6 non-null      object\n",
            "dtypes: object(5)\n",
            "memory usage: 217.8+ KB\n"
          ]
        }
      ]
    },
    {
      "cell_type": "markdown",
      "source": [
        "***Drop unnecessary features***"
      ],
      "metadata": {
        "id": "__lK97t6jjS7"
      }
    },
    {
      "cell_type": "code",
      "source": [
        "spam_df = spam_df.drop(['Unnamed: 2', 'Unnamed: 3', 'Unnamed: 4'], axis=1)"
      ],
      "metadata": {
        "id": "fDspa8P2j_5d"
      },
      "execution_count": 8,
      "outputs": []
    },
    {
      "cell_type": "code",
      "source": [
        "spam_df.head()"
      ],
      "metadata": {
        "colab": {
          "base_uri": "https://localhost:8080/",
          "height": 206
        },
        "id": "6mJpEP1bk0Dh",
        "outputId": "b45a0643-6ed7-43c6-bf12-aec3dde7642a"
      },
      "execution_count": 9,
      "outputs": [
        {
          "output_type": "execute_result",
          "data": {
            "text/plain": [
              "     v1                                                 v2\n",
              "0   ham  Go until jurong point, crazy.. Available only ...\n",
              "1   ham                      Ok lar... Joking wif u oni...\n",
              "2  spam  Free entry in 2 a wkly comp to win FA Cup fina...\n",
              "3   ham  U dun say so early hor... U c already then say...\n",
              "4   ham  Nah I don't think he goes to usf, he lives aro..."
            ],
            "text/html": [
              "\n",
              "  <div id=\"df-39f397ee-f7f3-44f3-8698-dead1568761b\">\n",
              "    <div class=\"colab-df-container\">\n",
              "      <div>\n",
              "<style scoped>\n",
              "    .dataframe tbody tr th:only-of-type {\n",
              "        vertical-align: middle;\n",
              "    }\n",
              "\n",
              "    .dataframe tbody tr th {\n",
              "        vertical-align: top;\n",
              "    }\n",
              "\n",
              "    .dataframe thead th {\n",
              "        text-align: right;\n",
              "    }\n",
              "</style>\n",
              "<table border=\"1\" class=\"dataframe\">\n",
              "  <thead>\n",
              "    <tr style=\"text-align: right;\">\n",
              "      <th></th>\n",
              "      <th>v1</th>\n",
              "      <th>v2</th>\n",
              "    </tr>\n",
              "  </thead>\n",
              "  <tbody>\n",
              "    <tr>\n",
              "      <th>0</th>\n",
              "      <td>ham</td>\n",
              "      <td>Go until jurong point, crazy.. Available only ...</td>\n",
              "    </tr>\n",
              "    <tr>\n",
              "      <th>1</th>\n",
              "      <td>ham</td>\n",
              "      <td>Ok lar... Joking wif u oni...</td>\n",
              "    </tr>\n",
              "    <tr>\n",
              "      <th>2</th>\n",
              "      <td>spam</td>\n",
              "      <td>Free entry in 2 a wkly comp to win FA Cup fina...</td>\n",
              "    </tr>\n",
              "    <tr>\n",
              "      <th>3</th>\n",
              "      <td>ham</td>\n",
              "      <td>U dun say so early hor... U c already then say...</td>\n",
              "    </tr>\n",
              "    <tr>\n",
              "      <th>4</th>\n",
              "      <td>ham</td>\n",
              "      <td>Nah I don't think he goes to usf, he lives aro...</td>\n",
              "    </tr>\n",
              "  </tbody>\n",
              "</table>\n",
              "</div>\n",
              "      <button class=\"colab-df-convert\" onclick=\"convertToInteractive('df-39f397ee-f7f3-44f3-8698-dead1568761b')\"\n",
              "              title=\"Convert this dataframe to an interactive table.\"\n",
              "              style=\"display:none;\">\n",
              "        \n",
              "  <svg xmlns=\"http://www.w3.org/2000/svg\" height=\"24px\"viewBox=\"0 0 24 24\"\n",
              "       width=\"24px\">\n",
              "    <path d=\"M0 0h24v24H0V0z\" fill=\"none\"/>\n",
              "    <path d=\"M18.56 5.44l.94 2.06.94-2.06 2.06-.94-2.06-.94-.94-2.06-.94 2.06-2.06.94zm-11 1L8.5 8.5l.94-2.06 2.06-.94-2.06-.94L8.5 2.5l-.94 2.06-2.06.94zm10 10l.94 2.06.94-2.06 2.06-.94-2.06-.94-.94-2.06-.94 2.06-2.06.94z\"/><path d=\"M17.41 7.96l-1.37-1.37c-.4-.4-.92-.59-1.43-.59-.52 0-1.04.2-1.43.59L10.3 9.45l-7.72 7.72c-.78.78-.78 2.05 0 2.83L4 21.41c.39.39.9.59 1.41.59.51 0 1.02-.2 1.41-.59l7.78-7.78 2.81-2.81c.8-.78.8-2.07 0-2.86zM5.41 20L4 18.59l7.72-7.72 1.47 1.35L5.41 20z\"/>\n",
              "  </svg>\n",
              "      </button>\n",
              "      \n",
              "  <style>\n",
              "    .colab-df-container {\n",
              "      display:flex;\n",
              "      flex-wrap:wrap;\n",
              "      gap: 12px;\n",
              "    }\n",
              "\n",
              "    .colab-df-convert {\n",
              "      background-color: #E8F0FE;\n",
              "      border: none;\n",
              "      border-radius: 50%;\n",
              "      cursor: pointer;\n",
              "      display: none;\n",
              "      fill: #1967D2;\n",
              "      height: 32px;\n",
              "      padding: 0 0 0 0;\n",
              "      width: 32px;\n",
              "    }\n",
              "\n",
              "    .colab-df-convert:hover {\n",
              "      background-color: #E2EBFA;\n",
              "      box-shadow: 0px 1px 2px rgba(60, 64, 67, 0.3), 0px 1px 3px 1px rgba(60, 64, 67, 0.15);\n",
              "      fill: #174EA6;\n",
              "    }\n",
              "\n",
              "    [theme=dark] .colab-df-convert {\n",
              "      background-color: #3B4455;\n",
              "      fill: #D2E3FC;\n",
              "    }\n",
              "\n",
              "    [theme=dark] .colab-df-convert:hover {\n",
              "      background-color: #434B5C;\n",
              "      box-shadow: 0px 1px 3px 1px rgba(0, 0, 0, 0.15);\n",
              "      filter: drop-shadow(0px 1px 2px rgba(0, 0, 0, 0.3));\n",
              "      fill: #FFFFFF;\n",
              "    }\n",
              "  </style>\n",
              "\n",
              "      <script>\n",
              "        const buttonEl =\n",
              "          document.querySelector('#df-39f397ee-f7f3-44f3-8698-dead1568761b button.colab-df-convert');\n",
              "        buttonEl.style.display =\n",
              "          google.colab.kernel.accessAllowed ? 'block' : 'none';\n",
              "\n",
              "        async function convertToInteractive(key) {\n",
              "          const element = document.querySelector('#df-39f397ee-f7f3-44f3-8698-dead1568761b');\n",
              "          const dataTable =\n",
              "            await google.colab.kernel.invokeFunction('convertToInteractive',\n",
              "                                                     [key], {});\n",
              "          if (!dataTable) return;\n",
              "\n",
              "          const docLinkHtml = 'Like what you see? Visit the ' +\n",
              "            '<a target=\"_blank\" href=https://colab.research.google.com/notebooks/data_table.ipynb>data table notebook</a>'\n",
              "            + ' to learn more about interactive tables.';\n",
              "          element.innerHTML = '';\n",
              "          dataTable['output_type'] = 'display_data';\n",
              "          await google.colab.output.renderOutput(dataTable, element);\n",
              "          const docLink = document.createElement('div');\n",
              "          docLink.innerHTML = docLinkHtml;\n",
              "          element.appendChild(docLink);\n",
              "        }\n",
              "      </script>\n",
              "    </div>\n",
              "  </div>\n",
              "  "
            ]
          },
          "metadata": {},
          "execution_count": 9
        }
      ]
    },
    {
      "cell_type": "code",
      "source": [
        "spam_df.shape"
      ],
      "metadata": {
        "colab": {
          "base_uri": "https://localhost:8080/"
        },
        "id": "0Vd-ha4ylnVW",
        "outputId": "ea74d61c-3d0f-48bb-a4a5-8add9eac5ff5"
      },
      "execution_count": 10,
      "outputs": [
        {
          "output_type": "execute_result",
          "data": {
            "text/plain": [
              "(5572, 2)"
            ]
          },
          "metadata": {},
          "execution_count": 10
        }
      ]
    },
    {
      "cell_type": "markdown",
      "source": [
        "***Rename the remaining columns***"
      ],
      "metadata": {
        "id": "WFBwJnJQl2sw"
      }
    },
    {
      "cell_type": "code",
      "source": [
        "spam_df = spam_df.rename(columns={'v1': 'label', 'v2': 'text'})"
      ],
      "metadata": {
        "id": "N1xmKAWYlrbB"
      },
      "execution_count": 11,
      "outputs": []
    },
    {
      "cell_type": "code",
      "source": [
        "spam_df.head()"
      ],
      "metadata": {
        "colab": {
          "base_uri": "https://localhost:8080/",
          "height": 206
        },
        "id": "T5mZhKUUlx9t",
        "outputId": "7c18105c-51af-4064-d5f5-ea8896f4d240"
      },
      "execution_count": 12,
      "outputs": [
        {
          "output_type": "execute_result",
          "data": {
            "text/plain": [
              "  label                                               text\n",
              "0   ham  Go until jurong point, crazy.. Available only ...\n",
              "1   ham                      Ok lar... Joking wif u oni...\n",
              "2  spam  Free entry in 2 a wkly comp to win FA Cup fina...\n",
              "3   ham  U dun say so early hor... U c already then say...\n",
              "4   ham  Nah I don't think he goes to usf, he lives aro..."
            ],
            "text/html": [
              "\n",
              "  <div id=\"df-06da5fa0-f778-48c9-81d7-dc4659afce43\">\n",
              "    <div class=\"colab-df-container\">\n",
              "      <div>\n",
              "<style scoped>\n",
              "    .dataframe tbody tr th:only-of-type {\n",
              "        vertical-align: middle;\n",
              "    }\n",
              "\n",
              "    .dataframe tbody tr th {\n",
              "        vertical-align: top;\n",
              "    }\n",
              "\n",
              "    .dataframe thead th {\n",
              "        text-align: right;\n",
              "    }\n",
              "</style>\n",
              "<table border=\"1\" class=\"dataframe\">\n",
              "  <thead>\n",
              "    <tr style=\"text-align: right;\">\n",
              "      <th></th>\n",
              "      <th>label</th>\n",
              "      <th>text</th>\n",
              "    </tr>\n",
              "  </thead>\n",
              "  <tbody>\n",
              "    <tr>\n",
              "      <th>0</th>\n",
              "      <td>ham</td>\n",
              "      <td>Go until jurong point, crazy.. Available only ...</td>\n",
              "    </tr>\n",
              "    <tr>\n",
              "      <th>1</th>\n",
              "      <td>ham</td>\n",
              "      <td>Ok lar... Joking wif u oni...</td>\n",
              "    </tr>\n",
              "    <tr>\n",
              "      <th>2</th>\n",
              "      <td>spam</td>\n",
              "      <td>Free entry in 2 a wkly comp to win FA Cup fina...</td>\n",
              "    </tr>\n",
              "    <tr>\n",
              "      <th>3</th>\n",
              "      <td>ham</td>\n",
              "      <td>U dun say so early hor... U c already then say...</td>\n",
              "    </tr>\n",
              "    <tr>\n",
              "      <th>4</th>\n",
              "      <td>ham</td>\n",
              "      <td>Nah I don't think he goes to usf, he lives aro...</td>\n",
              "    </tr>\n",
              "  </tbody>\n",
              "</table>\n",
              "</div>\n",
              "      <button class=\"colab-df-convert\" onclick=\"convertToInteractive('df-06da5fa0-f778-48c9-81d7-dc4659afce43')\"\n",
              "              title=\"Convert this dataframe to an interactive table.\"\n",
              "              style=\"display:none;\">\n",
              "        \n",
              "  <svg xmlns=\"http://www.w3.org/2000/svg\" height=\"24px\"viewBox=\"0 0 24 24\"\n",
              "       width=\"24px\">\n",
              "    <path d=\"M0 0h24v24H0V0z\" fill=\"none\"/>\n",
              "    <path d=\"M18.56 5.44l.94 2.06.94-2.06 2.06-.94-2.06-.94-.94-2.06-.94 2.06-2.06.94zm-11 1L8.5 8.5l.94-2.06 2.06-.94-2.06-.94L8.5 2.5l-.94 2.06-2.06.94zm10 10l.94 2.06.94-2.06 2.06-.94-2.06-.94-.94-2.06-.94 2.06-2.06.94z\"/><path d=\"M17.41 7.96l-1.37-1.37c-.4-.4-.92-.59-1.43-.59-.52 0-1.04.2-1.43.59L10.3 9.45l-7.72 7.72c-.78.78-.78 2.05 0 2.83L4 21.41c.39.39.9.59 1.41.59.51 0 1.02-.2 1.41-.59l7.78-7.78 2.81-2.81c.8-.78.8-2.07 0-2.86zM5.41 20L4 18.59l7.72-7.72 1.47 1.35L5.41 20z\"/>\n",
              "  </svg>\n",
              "      </button>\n",
              "      \n",
              "  <style>\n",
              "    .colab-df-container {\n",
              "      display:flex;\n",
              "      flex-wrap:wrap;\n",
              "      gap: 12px;\n",
              "    }\n",
              "\n",
              "    .colab-df-convert {\n",
              "      background-color: #E8F0FE;\n",
              "      border: none;\n",
              "      border-radius: 50%;\n",
              "      cursor: pointer;\n",
              "      display: none;\n",
              "      fill: #1967D2;\n",
              "      height: 32px;\n",
              "      padding: 0 0 0 0;\n",
              "      width: 32px;\n",
              "    }\n",
              "\n",
              "    .colab-df-convert:hover {\n",
              "      background-color: #E2EBFA;\n",
              "      box-shadow: 0px 1px 2px rgba(60, 64, 67, 0.3), 0px 1px 3px 1px rgba(60, 64, 67, 0.15);\n",
              "      fill: #174EA6;\n",
              "    }\n",
              "\n",
              "    [theme=dark] .colab-df-convert {\n",
              "      background-color: #3B4455;\n",
              "      fill: #D2E3FC;\n",
              "    }\n",
              "\n",
              "    [theme=dark] .colab-df-convert:hover {\n",
              "      background-color: #434B5C;\n",
              "      box-shadow: 0px 1px 3px 1px rgba(0, 0, 0, 0.15);\n",
              "      filter: drop-shadow(0px 1px 2px rgba(0, 0, 0, 0.3));\n",
              "      fill: #FFFFFF;\n",
              "    }\n",
              "  </style>\n",
              "\n",
              "      <script>\n",
              "        const buttonEl =\n",
              "          document.querySelector('#df-06da5fa0-f778-48c9-81d7-dc4659afce43 button.colab-df-convert');\n",
              "        buttonEl.style.display =\n",
              "          google.colab.kernel.accessAllowed ? 'block' : 'none';\n",
              "\n",
              "        async function convertToInteractive(key) {\n",
              "          const element = document.querySelector('#df-06da5fa0-f778-48c9-81d7-dc4659afce43');\n",
              "          const dataTable =\n",
              "            await google.colab.kernel.invokeFunction('convertToInteractive',\n",
              "                                                     [key], {});\n",
              "          if (!dataTable) return;\n",
              "\n",
              "          const docLinkHtml = 'Like what you see? Visit the ' +\n",
              "            '<a target=\"_blank\" href=https://colab.research.google.com/notebooks/data_table.ipynb>data table notebook</a>'\n",
              "            + ' to learn more about interactive tables.';\n",
              "          element.innerHTML = '';\n",
              "          dataTable['output_type'] = 'display_data';\n",
              "          await google.colab.output.renderOutput(dataTable, element);\n",
              "          const docLink = document.createElement('div');\n",
              "          docLink.innerHTML = docLinkHtml;\n",
              "          element.appendChild(docLink);\n",
              "        }\n",
              "      </script>\n",
              "    </div>\n",
              "  </div>\n",
              "  "
            ]
          },
          "metadata": {},
          "execution_count": 12
        }
      ]
    },
    {
      "cell_type": "markdown",
      "source": [
        "***Split data into training and testing set***"
      ],
      "metadata": {
        "id": "bNpm2mdemi8Q"
      }
    },
    {
      "cell_type": "code",
      "source": [
        "train_data = spam_df[:4400]\n",
        "test_data = spam_df[4400:]\n",
        "print(train_data.shape)\n",
        "print(test_data.shape)"
      ],
      "metadata": {
        "id": "UmvczmyOmCX1",
        "colab": {
          "base_uri": "https://localhost:8080/"
        },
        "outputId": "aaa75d6e-dbf9-41b9-fa65-fdbe3da4c6f1"
      },
      "execution_count": 13,
      "outputs": [
        {
          "output_type": "stream",
          "name": "stdout",
          "text": [
            "(4400, 2)\n",
            "(1172, 2)\n"
          ]
        }
      ]
    },
    {
      "cell_type": "markdown",
      "source": [
        "***Vectorize the text data***\n",
        "\n",
        "Convert the text data into numerical format that can be used by the Naive Bayes classifier. We'll use the **CountVectorizer** class from scikit-learn to do this.\n"
      ],
      "metadata": {
        "id": "AncfdxlWnZ2e"
      }
    },
    {
      "cell_type": "code",
      "source": [
        "# Create a CountVectorizer object\n",
        "vectorizer = CountVectorizer()\n",
        "\n",
        "# Fit the vectorizer on the training data to transform it into vectors\n",
        "train_vectors = vectorizer.fit_transform(train_data[\"text\"])"
      ],
      "metadata": {
        "id": "OzPfAzvfmyno"
      },
      "execution_count": 14,
      "outputs": []
    },
    {
      "cell_type": "markdown",
      "source": [
        "The fit_transform() method first fits the CountVectorizer object on the training data, which means it learns the vocabulary of all unique words present in the sentences. After learning the vocabulary, fit_transform() then transforms the training data into vectors, where each vector represents the frequency of each word in the vocabulary in the corresponding sentence. "
      ],
      "metadata": {
        "id": "Y8p5FNTIUi-T"
      }
    },
    {
      "cell_type": "code",
      "source": [
        "#print the vocabulary learnt by vectoriser\n",
        "print(vectorizer.vocabulary_)"
      ],
      "metadata": {
        "colab": {
          "base_uri": "https://localhost:8080/"
        },
        "id": "8KOFE1r0PmWU",
        "outputId": "33297f23-1ddd-4dbb-fe4a-a0fe6492c9aa"
      },
      "execution_count": 15,
      "outputs": [
        {
          "output_type": "stream",
          "name": "stdout",
          "text": [
            "{'go': 3139, 'until': 7131, 'jurong': 3857, 'point': 5256, 'crazy': 2041, 'available': 1131, 'only': 4919, 'in': 3613, 'bugis': 1536, 'great': 3210, 'world': 7545, 'la': 3970, 'buffet': 1534, 'cine': 1798, 'there': 6784, 'got': 3178, 'amore': 919, 'wat': 7341, 'ok': 4889, 'lar': 4001, 'joking': 3827, 'wif': 7453, 'oni': 4915, 'free': 2965, 'entry': 2601, 'wkly': 7507, 'comp': 1898, 'to': 6889, 'win': 7466, 'fa': 2726, 'cup': 2095, 'final': 2833, 'tkts': 6877, '21st': 356, 'may': 4376, '2005': 348, 'text': 6740, '87121': 673, 'receive': 5591, 'question': 5498, 'std': 6423, 'txt': 7046, 'rate': 5545, 'apply': 999, '08452810075over18': 68, 'dun': 2465, 'say': 5887, 'so': 6238, 'early': 2483, 'hor': 3463, 'already': 893, 'then': 6780, 'nah': 4650, 'don': 2381, 'think': 6799, 'he': 3338, 'goes': 3146, 'usf': 7171, 'lives': 4138, 'around': 1045, 'here': 3377, 'though': 6817, 'freemsg': 2971, 'hey': 3387, 'darling': 2146, 'it': 3732, 'been': 1273, 'week': 7381, 'now': 4814, 'and': 933, 'no': 4768, 'word': 7536, 'back': 1175, 'like': 4096, 'some': 6252, 'fun': 3021, 'you': 7655, 'up': 7133, 'for': 2921, 'still': 6443, 'tb': 6681, 'xxx': 7604, 'chgs': 1761, 'send': 5968, '50': 519, 'rcv': 5556, 'even': 2644, 'my': 4636, 'brother': 1509, 'is': 3721, 'not': 4801, 'speak': 6317, 'with': 7493, 'me': 4385, 'they': 6792, 'treat': 6982, 'aids': 850, 'patent': 5079, 'as': 1062, 'per': 5115, 'your': 7658, 'request': 5691, 'melle': 4413, 'oru': 4966, 'minnaminunginte': 4475, 'nurungu': 4832, 'vettam': 7222, 'has': 3318, 'set': 5992, 'callertune': 1604, 'all': 881, 'callers': 1603, 'press': 5364, 'copy': 1987, 'friends': 2985, 'winner': 7476, 'valued': 7195, 'network': 4722, 'customer': 2107, 'have': 3328, 'selected': 5954, 'receivea': 5592, '900': 699, 'prize': 5393, 'reward': 5738, 'claim': 1804, 'call': 1595, '09061701461': 195, 'code': 1861, 'kl341': 3936, 'valid': 7191, '12': 280, 'hours': 3482, 'had': 3262, 'mobile': 4519, '11': 272, 'months': 4559, 'or': 4946, 'more': 4563, 'entitled': 2598, 'update': 7137, 'the': 6768, 'latest': 4014, 'colour': 1878, 'mobiles': 4520, 'camera': 1615, 'co': 1852, 'on': 4907, '08002986030': 54, 'gonna': 3158, 'be': 1253, 'home': 3440, 'soon': 6276, 'want': 7322, 'talk': 6654, 'about': 736, 'this': 6807, 'stuff': 6504, 'anymore': 968, 'tonight': 6920, 've': 7207, 'cried': 2057, 'enough': 2588, 'today': 6894, 'six': 6154, 'chances': 1712, 'cash': 1661, 'from': 3001, '100': 259, '20': 343, '000': 1, 'pounds': 5314, 'csh11': 2074, '87575': 678, 'cost': 1998, '150p': 304, 'day': 2161, '6days': 585, '16': 313, 'tsandcs': 7014, 'reply': 5684, 'hl': 3416, 'info': 3642, 'urgent': 7153, 'won': 7522, 'membership': 4419, 'our': 4976, 'jackpot': 3761, '81010': 632, 'www': 7587, 'dbuk': 2166, 'net': 4718, 'lccltd': 4031, 'pobox': 5237, '4403ldnw1a7rw18': 481, 'searching': 5929, 'right': 5749, 'words': 7537, 'thank': 6756, 'breather': 1482, 'promise': 5424, 'wont': 7529, 'take': 6646, 'help': 3366, 'granted': 3202, 'will': 7463, 'fulfil': 3017, 'wonderful': 7526, 'blessing': 1368, 'at': 1090, 'times': 6859, 'date': 2154, 'sunday': 6558, 'xxxmobilemovieclub': 7605, 'use': 7166, 'credit': 2048, 'click': 1823, 'wap': 7327, 'link': 4114, 'next': 4738, 'message': 4435, 'http': 3503, 'com': 1880, 'qjkgighjjgcbl': 5492, 'oh': 4884, 'watching': 7345, 'eh': 2527, 'remember': 5655, 'how': 3488, 'spell': 6332, 'his': 3408, 'name': 4656, 'yes': 7638, 'did': 2274, 'naughty': 4681, 'make': 4302, 'wet': 7416, 'fine': 2841, 'if': 3572, 'thatåõs': 6767, 'way': 7355, 'feel': 2788, 'its': 3739, 'gota': 3179, 'england': 2580, 'macedonia': 4267, 'dont': 2384, 'miss': 4487, 'goals': 3142, 'team': 6693, 'news': 4734, 'ur': 7149, 'national': 4675, '87077': 672, 'eg': 2522, 'try': 7010, 'wales': 7305, 'scotland': 5911, '4txt': 514, 'ì¼1': 7699, 'poboxox36504w45wq': 5248, 'that': 6764, 'seriously': 5986, 'going': 3150, 'ha': 3258, 'ì_': 7698, 'pay': 5087, 'first': 2854, 'when': 7426, 'da': 2121, 'stock': 6445, 'comin': 1889, 'aft': 822, 'finish': 2844, 'lunch': 4237, 'str': 6469, 'down': 2404, 'lor': 4184, 'ard': 1020, 'smth': 6225, 'ffffffffff': 2806, 'alright': 894, 'can': 1618, 'meet': 4404, 'sooner': 6277, 'just': 3859, 'forced': 2923, 'myself': 4641, 'eat': 2495, 'slice': 6181, 'really': 5578, 'hungry': 3521, 'tho': 6814, 'sucks': 6534, 'mark': 4334, 'getting': 3100, 'worried': 7547, 'knows': 3946, 'sick': 6106, 'turn': 7030, 'pizza': 5194, 'lol': 4167, 'always': 903, 'convincing': 1977, 'catch': 1670, 'bus': 1554, 'are': 1021, 'frying': 3006, 'an': 928, 'egg': 2524, 'tea': 6687, 'eating': 2498, 'mom': 4540, 'left': 4051, 'over': 4995, 'dinner': 2304, 'do': 2349, 'love': 4204, 'amp': 921, 'we': 7358, 're': 5559, 'packing': 5015, 'car': 1635, 'll': 4142, 'let': 4069, 'know': 3943, 'room': 5783, 'ahhh': 846, 'work': 7538, 'vaguely': 7187, 'what': 7420, 'does': 2360, 'wait': 7299, 'clear': 1819, 'were': 7405, 'sure': 6583, 'being': 1289, 'sarcastic': 5869, 'why': 7447, 'doesn': 2362, 'live': 4135, 'us': 7162, 'yeah': 7627, 'was': 7334, 'apologetic': 986, 'fallen': 2748, 'out': 4978, 'she': 6033, 'actin': 775, 'spoilt': 6352, 'child': 1766, 'caught': 1674, 'till': 6856, 'but': 1561, 'doing': 2374, 'too': 6924, 'badly': 1178, 'cheers': 1748, 'tell': 6710, 'anything': 972, 'fear': 2781, 'of': 4866, 'fainting': 2740, 'housework': 3486, 'quick': 5501, 'cuppa': 2096, 'thanks': 6757, 'subscription': 6523, 'ringtone': 5758, 'uk': 7073, 'charged': 1720, 'month': 4556, 'please': 5218, 'confirm': 1939, 'by': 1576, 'replying': 5685, 'yup': 7679, 'look': 4175, 'timings': 6863, 'msg': 4591, 'again': 829, 'xuhui': 7600, 'learn': 4043, '2nd': 399, 'her': 3376, 'lesson': 4067, '8am': 693, 'oops': 4928, 'roommate': 5784, 'done': 2382, 'see': 5942, 'letter': 4071, 'decide': 2182, 'hello': 3363, 'saturday': 5880, 'texting': 6748, 'decided': 2183, 'tomo': 6909, 'trying': 7012, 'invite': 3698, 'pls': 5225, 'ahead': 845, 'watts': 7351, 'wanted': 7324, 'weekend': 7383, 'abiola': 732, 'forget': 2928, 'need': 4700, 'crave': 2038, 'most': 4570, 'sweet': 6607, 'arabian': 1018, 'steed': 6430, 'mmmmmm': 4512, 'yummy': 7674, '07732584351': 27, 'rodger': 5774, 'burns': 1551, 'tried': 6989, 'sms': 6221, 'nokia': 4777, 'camcorder': 1613, '08000930705': 50, 'delivery': 2215, 'tomorrow': 6911, 'who': 7440, 'seeing': 5943, 'hope': 3456, 'man': 4312, 'well': 7398, 'endowed': 2571, 'am': 905, 'lt': 4224, 'gt': 3234, 'inches': 3617, 'calls': 1609, 'messages': 4437, 'missed': 4489, 'didn': 2276, 'get': 3093, 'hep': 3375, 'immunisation': 3597, 'nigeria': 4747, 'fair': 2741, 'hopefully': 3459, 'tyler': 7058, 'could': 2007, 'maybe': 4378, 'ask': 1069, 'bit': 1347, 'stubborn': 6494, 'hospital': 3469, 'kept': 3898, 'telling': 6711, 'weak': 7359, 'sucker': 6532, 'hospitals': 3470, 'suckers': 6533, 'thinked': 6800, 'time': 6858, 'saw': 5886, 'class': 1811, 'gram': 3195, 'usually': 7177, 'runs': 5822, 'half': 3274, 'eighth': 2530, 'smarter': 6202, 'gets': 3096, 'almost': 889, 'whole': 7441, 'second': 5933, 'fyi': 3035, 'ride': 5748, 'morning': 4566, 'crashing': 2037, 'place': 5196, 'wow': 7561, 'never': 4726, 'realized': 5576, 'embarassed': 2553, 'accomodations': 759, 'thought': 6818, 'liked': 4097, 'since': 6131, 'best': 1304, 'seemed': 5947, 'happy': 3307, 'cave': 1678, 'sorry': 6286, 'give': 3121, 'offered': 4871, 'embarassing': 2554, 'ac': 747, 'sptv': 6373, 'new': 4729, 'jersey': 3798, 'devils': 2259, 'detroit': 2254, 'red': 5612, 'wings': 7475, 'play': 5209, 'ice': 3554, 'hockey': 3426, 'correct': 1992, 'incorrect': 3625, 'end': 2568, 'mallika': 4311, 'sherawat': 6040, 'yesterday': 7640, 'find': 2838, 'url': 7158, 'congrats': 1945, 'year': 7628, 'special': 6319, 'cinema': 1799, 'pass': 5068, 'yours': 7662, '09061209465': 191, 'suprman': 6581, 'matrix3': 4365, 'starwars3': 6411, 'etc': 2634, 'bx420': 1574, 'ip4': 3707, '5we': 549, '150pm': 306, 'later': 4013, 'meeting': 4406, 'where': 7429, 'reached': 5562, 'gauti': 3064, 'sehwag': 5952, 'odi': 4865, 'series': 5984, 'pick': 5169, 'burger': 1546, 'yourself': 7663, 'move': 4579, 'pain': 5022, 'killing': 3920, 'good': 3160, 'joke': 3824, 'girls': 3118, 'situation': 6152, 'seekers': 5944, 'part': 5058, 'checking': 1743, 'iq': 3713, 'roommates': 5785, 'took': 6925, 'forever': 2925, 'come': 1885, 'double': 2397, 'check': 1739, 'hair': 3269, 'dresser': 2426, 'said': 5846, 'wun': 7586, 'cut': 2108, 'short': 6072, 'nice': 4741, 'pleased': 5219, 'advise': 807, 'following': 2906, 'recent': 5595, 'review': 5736, 'mob': 4517, 'awarded': 1147, '1500': 303, 'bonus': 1404, '09066364589': 234, 'song': 6271, 'dedicated': 2191, 'which': 7435, 'dedicate': 2190, 'valuable': 7193, 'frnds': 2993, 'rply': 5799, 'complimentary': 1915, 'trip': 6990, 'eurodisinc': 2638, 'trav': 6978, 'aco': 772, 'entry41': 2602, '1000': 260, 'dis': 2313, '18': 316, 'morefrmmob': 4564, 'shracomorsglsuplt': 6095, '10': 258, 'ls1': 4220, '3aj': 450, 'hear': 3347, 'divorce': 2339, 'barbie': 1207, 'comes': 1887, 'ken': 3896, 'plane': 5202, 'wah': 7292, 'lucky': 4231, 'save': 5883, 'money': 4547, 'hee': 3356, 'finished': 2845, 'hi': 3392, 'babe': 1166, 'im': 3587, 'wanna': 7321, 'something': 6260, 'xx': 7601, 'performed': 5121, 'waiting': 7302, 'machan': 4269, 'once': 4911, 'thats': 6766, 'cool': 1982, 'gentleman': 3087, 'dignity': 2295, 'respect': 5707, 'peoples': 5114, 'very': 7221, 'much': 4606, 'shy': 6101, 'pa': 5011, 'operate': 4933, 'after': 823, 'same': 5858, 'looking': 4179, 'job': 3813, 'ta': 6632, 'earn': 2484, 'ah': 843, 'stop': 6454, 'urgnt': 7155, 'real': 5571, 'yo': 7650, 'tickets': 6846, 'one': 4913, 'jacket': 3760, 'used': 7167, 'multis': 4613, 'started': 6406, 'requests': 5692, 'came': 1614, 'bed': 1269, 'coins': 1866, 'factory': 2732, 'gotta': 3183, 'nitros': 4765, 'ela': 2535, 'kano': 3878, 'il': 3584, 'download': 2405, 'wen': 7401, 'stand': 6395, 'close': 1830, 'another': 952, 'night': 4749, 'spent': 6337, 'late': 4010, 'afternoon': 825, 'casualty': 1668, 'means': 4392, 'haven': 3329, 'any': 965, 'stuff42moro': 6505, 'includes': 3620, 'sheets': 6035, 'smile': 6209, 'pleasure': 5221, 'trouble': 6997, 'pours': 5316, 'rain': 5522, 'sum1': 6550, 'hurts': 3531, 'becoz': 1267, 'someone': 6256, 'loves': 4212, 'smiling': 6213, 'service': 5989, 'representative': 5689, '0800': 46, '169': 315, '6031': 555, 'between': 1313, '10am': 267, '9pm': 714, 'guaranteed': 3236, '5000': 521, 'havent': 3330, 'planning': 5205, 'buy': 1566, 'lido': 4081, '530': 536, 'show': 6087, 'collected': 1872, 'simply': 6128, 'password': 5075, 'mix': 4503, '85069': 661, 'verify': 7217, 'usher': 7172, 'britney': 1501, 'fml': 2899, 'telugu': 6715, 'movie': 4582, 'abt': 742, 'loads': 4148, 'loans': 4150, 'wk': 7503, 'hols': 3438, 'run': 5820, 'forgot': 2933, 'hairdressers': 3271, 'appointment': 1001, 'four': 2950, 'shower': 6089, 'beforehand': 1279, 'cause': 1675, 'prob': 5398, 'ham': 3280, 'nothing': 4806, 'else': 2547, 'okay': 4890, 'price': 5377, 'long': 4172, 'legal': 4053, 'them': 6777, 'ave': 1135, 'ams': 925, 'gone': 3156, '4the': 513, 'driving': 2435, 'test': 6735, 'yet': 7641, 'mean': 4388, 'guess': 3241, 'gave': 3065, 'boston': 1424, 'men': 4422, 'changed': 1714, 'search': 5928, 'location': 4153, 'nyc': 4842, 'cuz': 2115, 'signin': 6116, 'page': 5018, 'says': 5890, 'umma': 7079, 'life': 4084, 'vava': 7205, 'lot': 4192, 'dear': 2174, 'wishes': 7487, 'birthday': 1345, 'making': 4306, 'truly': 7005, 'memorable': 4420, 'aight': 852, 'hit': 3410, 'would': 7559, 'ip': 3706, 'address': 791, 'considering': 1956, 'computer': 1920, 'isn': 3727, 'minecraft': 4469, 'server': 5988, 'grumpy': 3232, 'old': 4899, 'people': 5113, 'better': 1310, 'lying': 4251, 'jokes': 3825, 'worry': 7549, 'busy': 1560, 'plural': 5229, 'noun': 4811, 'research': 5696, 'cos': 1996, 'things': 6798, 'scared': 5896, 'mah': 4292, 'loud': 4199, 'gent': 3085, 'contact': 1961, 'last': 4007, 'weekends': 7384, 'draw': 2419, 'shows': 6094, '09064012160': 213, 'k52': 3863, '12hrs': 289, '150ppm': 308, 'wa': 7287, 'openin': 4931, 'sentence': 5978, 'formal': 2936, 'anyway': 975, 'juz': 3862, 'tt': 7018, 'eatin': 2497, 'puttin': 5482, 'weight': 7389, 'haha': 3265, 'anythin': 971, 'happened': 3300, 'entered': 2591, 'cabin': 1583, 'boss': 1423, 'felt': 2796, 'askd': 1070, 'invited': 3699, 'apartment': 980, 'went': 7403, 'specially': 6323, 'holiday': 3435, 'flights': 2876, 'inc': 3615, 'operator': 4934, '0871277810910p': 118, 'min': 4463, 'goodo': 3169, 'must': 4629, 'friday': 2981, 'potato': 5308, 'ratio': 5548, 'tortilla': 6941, 'needed': 4702, 'hmm': 3421, 'uncle': 7088, 'informed': 3645, 'paying': 5092, 'school': 5902, 'directly': 2308, 'food': 2911, 'private': 5390, '2004': 347, 'account': 762, 'statement': 6414, '07742676969': 29, '786': 607, 'unredeemed': 7124, 'points': 5257, '08719180248': 152, 'identifier': 3565, '45239': 489, 'expires': 2708, '2000': 345, 'caller': 1602, '03': 13, 'landline': 3989, '09064019788': 217, 'box42wr29c': 1448, 'apples': 997, 'pairs': 5026, 'malarky': 4308, 'todays': 6895, 'voda': 7259, 'numbers': 4829, 'ending': 2570, '7548': 603, '350': 438, 'award': 1146, 'match': 4354, '08712300220': 101, 'quoting': 5510, '4041': 470, 'standard': 6396, 'rates': 5546, 'app': 990, 'sao': 5864, 'mu': 4605, 'ìï': 7700, 'predict': 5344, 'buying': 1569, 'yetunde': 7643, 'hasn': 3320, 'sent': 5977, 'bother': 1427, 'sending': 5970, 'involve': 3703, 'shouldn': 6082, 'imposed': 3603, 'apologise': 987, 'girl': 3115, 'del': 2205, 'bak': 1185, 'sum': 6549, 'lucyxx': 4234, 'tmorrow': 6883, 'accomodate': 758, 'answer': 955, 'sunshine': 6565, 'quiz': 5506, 'top': 6933, 'sony': 6273, 'dvd': 2474, 'player': 5211, 'country': 2013, 'algarve': 875, 'ansr': 954, '82277': 638, 'sp': 6307, 'tyrone': 7062, 'laid': 3983, 'dogging': 2369, 'locations': 4154, 'direct': 2307, 'join': 3821, 'largest': 4004, 'bt': 1524, 'txting': 7052, 'gravel': 3206, '69888': 580, 'nt': 4819, 'ec2a': 2500, '31p': 431, 'haf': 3264, 'msn': 4597, 'yijue': 7647, 'hotmail': 3477, 'him': 3402, 'rooms': 5786, 'befor': 1277, 'activities': 780, 'msgs': 4596, 'chat': 1730, 'svc': 6596, 'hardcore': 3309, 'services': 5990, '69988': 584, 'age': 832, 'yr': 7669, 'lazy': 4030, 'type': 7059, 'lect': 4049, 'pouch': 5311, 'sir': 6142, 'mail': 4296, 'swt': 6621, 'nver': 4836, 'tired': 6865, 'little': 4134, 'lovable': 4203, 'persons': 5137, 'coz': 2024, 'somtimes': 6268, 'those': 6815, 'occupy': 4858, 'biggest': 1327, 'their': 6774, 'hearts': 3352, 'gud': 3237, 'ni8': 4739, 'open': 4929, 'ya': 7614, 'dot': 2396, 'whats': 7422, 'staff': 6388, 'taking': 6651, 'replied': 5682, 'randy': 5540, 'sexy': 6004, 'female': 2797, 'local': 4152, 'luv': 4242, 'netcollex': 4719, 'ltd': 4225, '08700621170150p': 72, 'ummma': 7081, 'begin': 1283, 'qatar': 5488, 'pray': 5339, 'hard': 3308, 'deleted': 2209, 'sindu': 6133, 'birla': 1341, 'soft': 6243, 'wine': 7473, 'flowing': 2890, 'nevering': 4727, 'thk': 6808, 'plaza': 5216, 'typical': 7061, 'everywhere': 2662, 'dirt': 2311, 'floor': 2885, 'windows': 7470, 'shirt': 6052, 'sometimes': 6262, 'mouth': 4578, 'dream': 2421, 'without': 7497, 'chores': 1788, 'joy': 3838, 'lots': 4194, 'tv': 7035, 'exist': 2695, 'hail': 3268, 'mist': 4497, 'become': 1265, 'aaooooright': 723, 'leaving': 4048, 'house': 3483, 'interview': 3686, 'boy': 1453, 'missing': 4491, 'annoncement': 945, 'years': 7629, '07046744435': 22, 'arrange': 1048, '0871277810810': 117, 'keep': 3891, 'safe': 5842, 'because': 1263, 'envy': 2606, 'everyone': 2656, 'parents': 5052, 'hand': 3283, 'excited': 2683, 'each': 2478, 'spend': 6335, 'bootydelious': 1416, '32': 432, 'inviting': 3700, 'friend': 2984, '434': 478, 'frnd': 2992, '62468': 562, 'bangbabes': 1198, 'order': 4954, 'should': 6080, 'content': 1964, 'goto': 3182, 'bangb': 1197, 'internet': 3685, 'menu': 4428, 'cultures': 2092, 'module': 4533, '09061701939': 197, 's89': 5832, 'avoid': 1140, 'missunderstding': 4495, 'wit': 7492, 'beloved': 1298, 'escape': 2624, 'fancy': 2758, 'bridge': 1487, 'needs': 4705, 'lager': 3982, 'completely': 1911, 'form': 2935, 'clark': 1809, 'also': 896, 'utter': 7179, 'waste': 7338, 'axis': 1153, 'bank': 1200, 'hmmm': 3422, 'hop': 3455, 'muz': 4633, 'discuss': 2323, 'liao': 4075, 'coming': 1890, 'bloody': 1382, 'hell': 3361, 'cant': 1628, 'believe': 1290, 'surname': 6587, 'mr': 4587, 'ill': 3585, 'clue': 1844, 'spanish': 6313, 'begins': 1284, 'bath': 1228, 'carlos': 1652, 'mall': 4310, 'turns': 7033, 'staying': 6421, 'til': 6855, 'smoke': 6215, 'worth': 7553, 'doesnt': 2363, 'log': 4160, 'spoke': 6353, 'maneesha': 4320, 'satisfied': 5877, 'experience': 2704, 'toll': 6905, 'lifted': 4090, 'hopes': 3460, 'offer': 4870, 'especially': 2628, 'approaches': 1005, 'studying': 6502, 'anyways': 976, 'gr8': 3190, 'trust': 7007, 'guys': 3253, 'bye': 1578, 'handsome': 3289, 'finding': 2839, 'working': 7542, 'towards': 6954, 'mummy': 4615, 'boytoy': 1458, 'awesome': 1149, 'minute': 4479, 'freephone': 2972, '0808': 58, '145': 296, '4742': 493, '9am': 712, '11pm': 279, 'xmas': 7598, 'radio': 5515, 'jus': 3858, 'bathe': 1229, 'sis': 6144, 'using': 7173, 'finishes': 2846, 'unique': 7112, '30th': 427, 'august': 1118, 'areyouunique': 1027, 'joined': 3822, 'league': 4041, 'touch': 6949, 'deal': 2170, 'personal': 5134, 'finally': 2835, 'completed': 1910, 'course': 2018, 'itself': 3740, 'however': 3492, 'suggest': 6543, 'stays': 6422, 'able': 734, 'ors': 4965, 'every': 2651, 'stool': 6453, 'settled': 5996, 'wishin': 7488, 'mrng': 4588, 'hav': 3326, 'story': 6468, 'hamster': 3282, 'dead': 2169, 'tmr': 6884, '1pm': 332, 'orchard': 4953, 'mrt': 4589, 'kate': 3882, 'evening': 2645, 'babyjontet': 1171, 'found': 2949, 'enc': 2567, 'bucks': 1527, 'darlin': 2145, 'ive': 3746, 'college': 1876, 'refilled': 5619, 'successfully': 6530, 'inr': 3660, 'decimal': 2185, 'keralacircle': 3900, 'prepaid': 5353, 'balance': 1188, 'rs': 5801, 'transaction': 6968, 'id': 3560, 'kr': 3959, 'goodmorning': 3165, 'sleeping': 6175, 'ga': 3038, 'alter': 897, 'dat': 2152, 'ericsson': 2614, 'oso': 4969, 'cannot': 1627, 'oredi': 4957, 'dats': 2158, 'straight': 6471, 'dogg': 2367, 'connection': 1949, 'before': 1278, 'refund': 5624, 'bill': 1329, 'both': 1426, 'shoot': 6067, 'big': 1325, 'ready': 5570, 'bruv': 1519, 'break': 1474, 'rewarding': 5739, 'semester': 5964, 'study': 6501, 'noe': 4772, 'leh': 4055, 'sounds': 6298, 'heading': 3342, 'prediction': 5346, 'slept': 6180, 'past': 5077, 'few': 2803, 'nights': 4752, 'easy': 2494, 'sen': 5967, 'exam': 2679, 'march': 4330, 'atm': 1097, 'register': 5632, 'os': 4967, 'called': 1601, 'ubandu': 7064, 'installing': 3669, 'disk': 2326, 'important': 3601, 'files': 2823, 'system': 6628, 'repair': 5676, 'shop': 6068, 'happen': 3298, 'romantic': 5780, 'nite': 4763, 'scenery': 5899, '500': 520, '89545': 690, 'collect': 1871, 'tc': 6683, 'biz': 1352, '2optout': 403, '087187262701': 142, '50gbp': 524, 'mtmsg18': 4603, 'appreciate': 1003, 'partner': 5062, 'career': 1643, 'off': 4867, 'flyng': 2897, 'start': 6405, 'horo': 3466, 'followed': 2904, 'star': 6400, 'sign': 6112, 'aries': 1034, 'company': 1901, 'elama': 2539, 'po': 5235, 'mudyadhu': 4609, 'strict': 6481, 'than': 6754, 'teacher': 6689, 'bcoz': 1249, 'teaches': 6691, 'conducts': 1934, 'lessons': 4068, 'gandhipuram': 3049, 'walk': 7307, 'cross': 2061, 'road': 5766, 'side': 6108, 'street': 6476, 'rubber': 5809, 'battery': 1234, 'died': 2281, 'flirt': 2880, '10p': 269, 'sam': 5854, '25': 366, 'recd': 5588, 'thirtyeight': 6805, 'pence': 5109, 'printed': 5383, 'upstairs': 7146, 'closer': 1833, 'wil': 7459, 'reach': 5560, 'theory': 6783, 'argument': 1032, 'wins': 7479, 'loses': 4188, 'person': 5132, 'argue': 1030, 'kick': 3910, '447801259231': 484, 'secret': 5936, 'admirer': 796, 'reveal': 5733, 'thinks': 6803, '09058094597': 181, 'tomarrow': 6907, 'hearing': 3349, 'laptop': 4000, 'case': 1660, 'pleassssssseeeeee': 5220, 'tel': 6706, 'avent': 1137, 'sportsx': 6362, 'shining': 6047, 'meant': 4393, 'signing': 6117, 'although': 899, 'told': 6902, 'into': 3690, 'baig': 1183, 'face': 2729, 'watches': 7343, 'watch': 7342, 'fr': 2954, 'thanx': 6761, 'everything': 2660, 'touched': 6950, 'commercial': 1893, 'website': 7372, 'slippers': 6187, 'asked': 1071, 'kallis': 3873, 'bat': 1225, 'innings': 3655, 'didnt': 2277, 'goodnight': 3166, 'fix': 2861, 'wake': 7303, 'dearly': 2177, 'sleep': 6174, 'congratulations': 1946, 'cd': 1684, 'vouchers': 7272, '125gift': 287, 'music': 4626, '87066': 670, 'tncs': 6888, 'ldew': 4033, 'com1win150ppmx3age16': 1881, 'ranjith': 5543, 'cal': 1589, 'drpd': 2442, 'deeraj': 2195, 'deepak': 2194, '5min': 544, 'hold': 3431, 'bcums': 1251, 'angry': 938, 'wid': 7451, 'dnt': 2348, 'childish': 1767, 'true': 7002, 'showing': 6092, 'deep': 2193, 'affection': 814, 'care': 1640, 'kettoda': 3902, 'manda': 4316, 'ups': 7144, '3days': 452, 'shipping': 6051, 'takes': 6649, '2wks': 412, 'other': 4970, 'usps': 7175, 'lag': 3981, 'bribe': 1485, 'nipost': 4761, 'lemme': 4058, 'necessarily': 4694, 'expect': 2700, 'headin': 3341, 'mmm': 4509, 'jolt': 3829, 'suzy': 6595, 'lover': 4209, 'video': 7230, 'handset': 3288, '750': 602, 'anytime': 974, 'networks': 4724, 'mins': 4476, 'unlimited': 7120, 'parked': 5056, 'mini': 4470, 'shopping': 6069, 'own': 5005, 'disturb': 2333, 'luton': 4241, '0125698789': 7, 'ring': 5755, 'horny': 3465, 'naked': 4653, 'hot': 3474, '69698': 576, 'unsubscribe': 7128, 'dint': 2305, 'wana': 7320, 'plan': 5201, 'sometme': 6263, 'credits': 2050, 'club4mobiles': 1841, 'choose': 1786, 'club': 1839, '87070': 671, 'club4': 1840, 'box1146': 1437, 'mk45': 4506, '2wt': 413, 'evo': 2668, 'flash': 2869, 'jealous': 3788, 'singles': 6137, 'chart': 1726, 'quality': 5494, 'charge': 1719, 'sorting': 6290, 'narcotics': 4668, 'ended': 2569, 'sunny': 6561, 'rays': 5552, 'leaves': 4047, 'worries': 7548, 'blue': 1387, 'bay': 1236, 'hmv': 3423, 'genuine': 3089, 'questions': 5500, '86688': 668, '100percent': 263, 'might': 4453, 'objection': 4852, 'bf': 1316, 'rob': 5769, 'mack': 4273, 'gf': 3102, 'theater': 6771, 'handed': 3284, 'celebrations': 1691, 'full': 3018, 'swing': 6616, 'tool': 6927, 'far': 2763, 'okie': 4893, 'usual': 7176, 'guy': 3252, 'passed': 5070, 'ahold': 848, 'anybody': 966, 'throw': 6829, 'lets': 4070, 'baby': 1169, 'cruisin': 2067, 'hour': 3480, 'fone': 2909, 'jenny': 3794, 'ge': 3076, 'shall': 6019, 'tonite': 6922, 'varunnathu': 7200, 'edukkukayee': 2513, 'raksha': 5532, 'ollu': 4901, 'sense': 5974, 'gautham': 3063, 'stupid': 6507, 'cam': 1612, 'buzy': 1570, 'accidentally': 756, 'resend': 5697, 'phone': 5158, 'upgrade': 7139, 'sim': 6124, 'card': 1636, 'loyalty': 4219, '0845': 64, '021': 12, '3680': 443, 'ends': 2572, '28thfeb': 377, 'unless': 7119, 'gurl': 3251, 'appropriate': 1007, 'hurt': 3529, 'tease': 6697, 'cry': 2069, 'die': 2280, 'plz': 5232, 'rose': 5788, 'grave': 3205, 'bslvyl': 1520, 'coffee': 1862, 'somebody': 6254, 'high': 3396, 'diesel': 2282, 'shit': 6054, 'shocking': 6064, 'scary': 5897, 'imagine': 3591, 'def': 2196, 'somewhere': 6265, 'crash': 2035, 'taxi': 6676, 'fridge': 2983, 'meal': 4386, 'womdarfull': 7520, 'actor': 781, 'blind': 1371, '4u': 515, 'rodds1': 5773, '21': 354, 'aberdeen': 729, 'united': 7113, 'kingdom': 3927, 'img': 3593, 'icmb3cktz8r7': 3558, 'dates': 2156, 'hide': 3394, 'remb': 5654, 'book': 1406, 'jos': 3835, 'friendship': 2987, 'hanging': 3294, 'thread': 6822, 'themob': 6779, 'newest': 4731, 'selection': 5955, 'games': 3047, 'tones': 6914, 'gossip': 3177, 'babes': 1167, 'sport': 6360, 'fit': 2858, 'funky': 3027, '82468': 640, 'garage': 3054, 'keys': 3904, 'aren': 1023, 'bookshelf': 1412, 'accept': 751, 'sister': 6145, 'dear1': 2175, 'best1': 1305, 'clos1': 1829, 'lvblefrnd': 4248, 'jstfrnd': 3844, 'cutefrnd': 2110, 'lifpartnr': 4088, 'belovd': 1297, 'swtheart': 6622, 'bstfrnd': 1523, 'enemy': 2574, 'smart': 6200, '200': 344, 'weekly': 7385, '85222': 662, 'cs': 2071, 'winnersclub': 7477, 'box': 1436, '84': 652, 'm26': 4255, '3uz': 464, 'gbp1': 3072, 'definitely': 2200, '2day': 381, 'normal': 4794, 'rest': 5714, 'mylife': 4637, 'wot': 7555, 'lost': 4191, 'made': 4280, 'advance': 804, 'pongal': 5272, 'kb': 3888, 'power': 5318, 'yoga': 7651, 'dunno': 2467, 'tahan': 6642, 'anot': 951, 'lo': 4146, 'dude': 2460, 'afraid': 820, 'december': 2181, '11mths': 278, '08002986906': 55, 'cake': 1587, 'merry': 4432, 'christmas': 1793, 'kisses': 3931, 'cud': 2087, 'ppl': 5320, 'gona': 3155, 'l8': 3966, 'buses': 1556, 'gon': 3154, 'waitin': 7301, 'pete': 5142, 'guild': 3246, 'bristol': 1499, 'plans': 5206, 'flight': 2875, 'problem': 5400, 'track': 6958, 'record': 5605, 'reading': 5569, 'women': 7521, 'read': 5566, 'light': 4092, 'apo': 985, 'return': 5728, 'immediately': 3596, 'germany': 3092, 'fixed': 2862, 'line': 4108, 'via': 7224, 'access': 752, 'number': 4828, '0844': 62, '861': 667, '85': 658, 'prepayment': 5356, 'chance': 1711, 'evaporated': 2641, 'violated': 7241, 'privacy': 5389, 'stealing': 6427, 'employer': 2564, 'paperwork': 5043, 'report': 5687, 'supervisor': 6571, 'valentines': 7190, 'lifetime': 4087, '83600': 650, 'rcvd': 5557, 'custcare': 2105, '08718720201': 139, 'daaaaa': 2122, 'wined': 7474, 'dined': 2301, 'surfing': 6585, 'calling': 1607, 'post': 5301, '1000s': 261, 'texts': 6751, 'wiv': 7501, 'caroline': 1653, 'favourite': 2779, 'bless': 1366, 'hiding': 3395, 'stranger': 6474, 'interested': 3681, 'cleared': 1820, 'two': 7045, 'round': 5791, 'gudnite': 3239, 'practice': 5329, 'huiming': 3514, 'num': 4827, 'small': 6199, 'prestige': 5367, 'shag': 6012, 'sextextuk': 6002, 'xxuk': 7603, '69876': 579, 'txts': 7054, 'jeremiah': 3795, 'iphone': 3711, 'apeshit': 982, 'ever': 2650, 'misbehaved': 4484, 'slap': 6172, 'urself': 7161, 'fault': 2774, 'basically': 1221, 'figure': 2819, 'alcohol': 868, 'jay': 3780, 'safely': 5843, 'weed': 7380, 'ish': 3724, 'minutes': 4480, 'ago': 841, 'wtf': 7579, 'onam': 4908, 'sirji': 6143, 'remembered': 5656, 'met': 4442, 'insurance': 3675, 'insha': 3662, 'allah': 882, 'rakhesh': 5531, 'ex': 2676, 'tata': 6670, 'aig': 851, 'tissco': 6871, 'tayseer': 6680, 'currently': 2100, 'maximize': 4373, 'cc': 1681, '08708800282': 93, 'hg': 3390, 'suite342': 6545, '2lands': 392, 'row': 5794, 'w1j6hl': 7282, 'unemployed': 7103, 'moment': 4541, 'st': 6385, 'andrews': 935, 'cold': 1868, 'posted': 5305, 'chikku': 1765, 'db': 2165, 'audrey': 1116, 'status': 6417, 'forward': 2945, 'dawns': 2160, 'refreshed': 5623, 'alive': 880, 'breathe': 1480, 'air': 855, 'update_now': 7138, 'motorola': 4577, 'sonyericsson': 6274, 'bluetooth': 1388, 'orange': 4950, 'mobileupd8': 4523, '08000839402': 49, 'call2optout': 1597, 'f4q': 2725, 'discount': 2321, 'rp176781': 5797, 'further': 3031, 'regalportfolio': 5628, '08717205546': 133, 'uniform': 7111, 'geeee': 3078, 'woke': 7517, 'wish': 7485, 'cuddling': 2090, 'spoil': 6350, 'talking': 6657, 'agree': 842, 'willing': 7464, 'reference': 5616, 't91': 6631, 'gbp': 3071, '09057039994': 174, 'seen': 5949, 'recognise': 5603, 'happening': 3302, 'lindsay': 4107, 'sighs': 6110, 'bars': 1216, 'ptbo': 5455, 'heron': 3380, 'payasam': 5088, 'rinu': 5761, 'brings': 1497, 'taught': 6673, 'becaus': 1262, 'hes': 3382, 'verifying': 7218, 'project': 5420, 'prabu': 5326, 'mistake': 4498, 'body': 1396, 'repairs': 5677, 'quite': 5505, 'slow': 6193, 'tests': 6737, 'guide': 3245, 'ovulation': 5001, 'relax': 5643, 'reason': 5580, 'followin': 2905, 'couple': 2015, 'wallet': 7313, 'leave': 4046, '945': 704, '6months': 590, 'phones': 5161, 'n9dx': 4644, 'owl': 5004, 'licks': 4080, 'mm': 4508, '4mths': 509, 'rental': 5673, 'mobilesdirect': 4521, '08000938767': 51, 'or2stoptxt': 4948, 'having': 3334, 'huh': 3512, 'sat': 5873, 'intro': 3692, 'pilates': 5183, 'kickboxing': 3911, 'office': 4874, 'lap': 3998, 'days': 2162, 'shut': 6100, 'bout': 1432, '30ish': 424, 'performance': 5120, 'calculated': 1590, 'current': 2099, 'period': 5124, 'actually': 783, 'rock': 5771, 'putting': 5483, 'business': 1558, 'put': 5480, 'pictures': 5176, 'ass': 1078, 'facebook': 2730, 'picture': 5175, 'al': 865, 'salam': 5849, 'wahleykkum': 7297, 'sharing': 6028, 'grace': 3193, 'god': 3144, 'inshah': 3663, 'sometime': 6261, 'visitor': 7252, 'india': 3633, 'change': 1713, 'field': 2808, 'quickly': 5502, 'administrator': 795, '87131': 674, 'poly': 5265, 'tone': 6913, '2814032': 374, '1st': 333, '3xå': 465, '150pw': 311, 'eå': 2724, 'nd': 4686, 'chechi': 1738, 'cream': 2044, 'shipped': 6050, 'none': 4784, 'yep': 7636, 'loxahatchee': 4218, 'tree': 6985, 'burning': 1550, 'starts': 6408, 'stoners': 6451, 'slightly': 6185, 'disastrous': 2316, 'pm': 5233, 'fav': 2775, 'darlings': 2147, 'wld': 7511, 'stay': 6418, 'drink': 2427, 'busetop': 1557, 'sender': 5969, 'fullonsms': 3019, 'iron': 3716, 'thing': 6797, 'okies': 4894, 'yan': 7619, 'jiu': 3809, 'skip': 6165, 'den': 2220, 'blah': 1356, 'bring': 1495, 'wendy': 7402, 'dating': 2157, '09064012103': 212, 'box334sk38ch': 1443, 'whatsup': 7423, 'goal': 3141, '250': 367, 'competition': 1904, '80086': 622, 'txttowin': 7056, 'head': 3339, 'logo': 4163, 'names': 4660, 'heart': 3350, 'name1': 4657, 'name2': 4658, 'mobno': 4524, 'adam': 785, 'eve': 2642, '07123456789': 25, 'yahoo': 7615, 'pobox36504w45wq': 5243, 'txtno': 7053, 'ads': 801, 'contacted': 1962, '09111032124': 254, 'pobox12n146tf150p': 5241, 'siva': 6153, 'hostel': 3472, 'aha': 844, '09058094455': 178, 'land': 3988, '3030': 422, 'voice': 7262, 'speaking': 6318, 'expression': 2715, 'sentiment': 5980, 'rowdy': 5795, 'ful': 3016, 'attitude': 1107, 'attractive': 1109, 'funny': 3028, 'irritating': 3720, 'aathi': 724, 'urination': 7157, 'esplanade': 2629, 'mind': 4465, 'giving': 3124, 'lift': 4089, 'wnt': 7515, 'bmw': 1392, 'urgently': 7154, 'vry': 7274, 'hv': 3536, 'shortage': 6073, 'lacs': 3977, 'source': 6302, 'arng': 1042, 'amt': 926, 'fifteen': 2812, 'fucking': 3011, 'respond': 5709, '3650': 441, '09066382422': 238, '3mins': 458, 'vary': 7201, '300603': 420, 'bcm4284': 1247, 'ldn': 4034, 'wc1n3xx': 7357, 'booked': 1407, 'ticket': 6845, 'hillsborough': 3401, 'th': 6753, 'askin': 1072, 'dollars': 2379, 'shoul': 6079, 'iouri': 3705, 'ten': 6719, 'applebees': 996, 'journey': 3837, 'hasnt': 3321, 'gd': 3075, 'bhaji': 1318, 'cricketer': 2055, 'sachin': 5835, 'tough': 6951, 'supposed': 6579, 'oic': 4886, 'tot': 6945, 'din': 2299, 'group': 3227, 'werethe': 7408, 'monkeespeople': 4548, 'monkeyaround': 4550, 'howdy': 3491, 'gorgeous': 3174, 'blimey': 1370, 'exercise': 2690, 'kinda': 3924, 'concentration': 1927, 'hanks': 3295, 'lotsly': 4195, 'detail': 2249, 'transfer': 6970, 'acc': 749, 'optimistic': 4942, 'improve': 3610, 'loan': 4149, 'purpose': 5474, '75': 601, 'homeowners': 3441, 'tenants': 6720, 'welcome': 7396, 'previously': 5375, 'refused': 5626, '1956669': 321, 'si': 6102, 'oreo': 4958, 'truffles': 7004, 'amy': 927, 'ure': 7151, 'beautiful': 1259, 'intelligent': 3676, 'woman': 7519, 'donåõt': 2388, 'result': 5722, 'consistently': 1957, 'kind': 3923, 'asking': 1073, 'practicum': 5331, 'links': 4115, 'ears': 2486, 'ttyl': 7019, 'isnt': 3728, 'bad': 1177, 'thru': 6834, 'different': 2288, 'feeling': 2790, 'wavering': 7353, 'decisions': 2187, 'coping': 1986, 'individual': 3637, 'heal': 3345, 'gives': 3123, 'reasons': 5582, 'upgrdcentre': 7141, '0207': 9, '153': 312, '9153': 701, '26th': 371, 'july': 3852, 'opt': 4940, 'railway': 5521, 'princess': 5382, 'receiving': 5594, 'oral': 4949, 'doggy': 2370, 'style': 6508, 'fave': 2776, 'position': 5293, 'enjoy': 2582, 'roads': 5767, 'slippery': 6188, 'bike': 1328, 'many': 4326, 'language': 3995, 'okmail': 4895, 'dave': 2159, 'notice': 4807, 'tenerife': 6722, '09061743806': 200, 'tcs': 6685, 'sae': 5840, 'box326': 1441, 'cw25wx': 2116, 'screamed': 5917, 'enters': 2592, 'remove': 5667, 'flat': 2870, 'transfered': 6971, 'removed': 5668, 'banks': 1201, 'differ': 2286, 'charges': 1721, '9ja': 713, 'details': 2251, 'moan': 4516, '69888nyt': 581, 'broken': 1506, 'cum': 2093, 'infront': 3647, 'wise': 7484, '9t': 715, 'tension': 6724, 'machi': 4270, '8th': 697, 'thinking': 6802, 'mcr': 4384, 'sec': 5932, 'taste': 6668, 'fb': 2780, 'jaykwon': 3782, 'thuglyfe': 6838, 'falconerf': 2746, 'activate': 778, 'terms': 6727, 'conditions': 1933, 'visit': 7250, '07781482378': 32, 'depends': 2228, 'boye': 1454, 'faded': 2734, 'glory': 3132, 'ralphs': 5534, 'dry': 2451, 'trade': 6960, 'reunion': 5732, 'meh': 4409, 'nope': 4788, 'monday': 4545, 'accenture': 750, 'jackson': 3762, 'rec': 5587, 'center': 1694, '7ish': 611, 'reache': 5561, 'fighting': 2816, 'either': 2533, 'lose': 4186, 'fightng': 2817, 'some1': 6253, 'dificult': 2291, 'nuerologist': 4826, 'lolnice': 4168, 'fish': 2855, 'water': 7346, '123': 285, '1450': 297, '09050002311': 167, 'b4280703': 1159, '08718727868': 146, 'bored': 1418, 'outside': 4989, 'westshore': 7415, 'hyde': 3540, 'park': 5055, 'village': 7240, 'near': 4689, 'anthony': 963, 'bringing': 1496, 'fees': 2792, 'rent': 5672, 'significance': 6114, 'opinion': 4935, 'jada': 3764, 'kusruthi': 3963, 'silent': 6120, 'spl': 6346, 'character': 1718, 'matured': 4369, 'stylish': 6510, 'simple': 6126, 'scrounge': 5921, 'ammo': 916, 'ak': 863, 'prabha': 5325, 'soryda': 6293, 'realy': 5579, 'frm': 2991, 'sory': 6292, 'forgiven': 2931, 'jst': 3843, 'tat': 6669, '40gb': 472, 'ipod': 3712, 'mp3': 4586, '83355': 646, 'ibhltd': 3547, 'ldnw15h': 4035, 'mtmsgrcvd18': 4604, 'boltblue': 1402, 'mono': 4552, 'poly3': 5266, 'cha': 1702, 'slide': 6183, 'jamz': 3768, 'toxic': 6956, 'topped': 6936, 'bubbletext': 1526, 'renewal': 5669, 'pin': 5187, 'tgxxrz': 6752, 'transport': 6975, 'less': 4065, 'problematic': 5401, 'bday': 1252, 'definite': 2199, 'nos': 4797, 'booking': 1409, 'fri': 2980, 'unconscious': 7092, 'children': 1768, 'adults': 803, 'behave': 1286, 'abnormally': 735, 'ebay': 2499, 'elsewhere': 2548, 'pickle': 5172, 'tacos': 6637, 'rude': 5810, 'campus': 1617, '02': 8, '09': 158, 'attempt': 1102, '0871': 96, '872': 676, '9755': 706, 'box95qu': 1451, 'mas': 4346, '150': 302, '85023': 660, 'savamob': 5882, 'member': 4417, 'offers': 4873, '08717898035': 137, '00': 0, 'sub': 6512, 'unsub': 7127, 'pretty': 5371, 'lady': 3980, 'single': 6136, 'recieve': 5601, 'within': 7496, '24hrs': 364, 'channel': 1716, 'teletext': 6709, 'pg': 5146, 'faggot': 2735, '2003': 346, '07815296484': 37, '800': 617, 'un': 7083, 'redeemed': 5614, '08718738001': 150, '41782': 474, '04': 14, 'while': 7436, 'hoping': 3462, 'l8r': 3967, 'malaria': 4307, 'bani': 1199, 'leads': 4039, 'passionate': 5073, 'kiss': 3930, 'across': 773, 'sea': 5927, 'probably': 5399, 'fat': 2768, 'fingers': 2843, 'these': 6786, 'buttons': 1565, 'ummmmmaah': 7082, 'returns': 5731, 'tirupur': 6869, 'applausestore': 995, 'monthlysubscription': 4558, '50p': 525, 'max6': 4372, 'csc': 2073, 'web': 7367, 'age16': 833, '2stop': 407, 'famous': 2755, 'quote': 5509, 'develop': 2256, 'ability': 731, 'listen': 4126, 'unconditionally': 7091, 'losing': 4189, 'temper': 6717, 'self': 5956, 'confidence': 1937, 'married': 4341, 'oclock': 4862, 'mine': 4468, 'bash': 1219, 'recovery': 5608, 'rather': 5547, 'cooped': 1983, 'hotel': 3475, 'invitation': 3697, 'cali': 1592, 'english': 2581, 'bloke': 1377, 'weddin': 7374, 'omw': 4906, 'btw': 1525, 'alibi': 879, 'cutting': 2114, 'sink': 6138, 'through': 6828, 'paces': 5012, 'cage': 1586, 'cock': 1858, 'surrounded': 6590, 'reminding': 5663, 'owns': 5007, 'cuck': 2086, 'hurry': 3528, 'deficient': 2198, 'three': 6824, 'acknowledgement': 769, 'astoundingly': 1087, 'tactless': 6639, 'generally': 3083, 'faggy': 2736, 'demand': 2219, 'blood': 1381, 'oath': 4848, 'fo': 2900, 'warm': 7329, 'milk': 4458, 'magic': 4289, 'loose': 4182, 'pan': 5029, 'cheap': 1734, 'perhaps': 5122, 'silly': 6122, 'likely': 4098, 'uv': 7182, 'causes': 1676, 'mutations': 4632, 'sunscreen': 6564, 'essential': 2631, 'thesedays': 6787, 'online': 4917, 'pics': 5173, 'aiyo': 862, 'mei': 4410, 'fast': 2765, 'workin': 7541, 'bao': 1205, 'sugardad': 6542, 'gee': 3077, 'brownie': 1513, 'geeeee': 3079, 'barely': 1210, 'fuck': 3008, '2mrw': 398, 'ninish': 4759, 'icky': 3557, 'american': 910, 'freek': 2969, 'callin': 1606, 'jen': 3792, 'oooh': 4926, 'ridden': 5747, 'ey': 2721, 'gym': 3256, 'whatever': 7421, 'smiles': 6211, 'daddy': 2126, 'scream': 5916, 'dick': 2271, 'missy': 4496, 'yar': 7620, 'mum': 4614, 'sch': 5900, 'clean': 1817, 'lab': 3973, 'goggles': 3147, 'door': 2390, 'call09050000327': 1596, 'arguing': 1031, 'claims': 1806, '09050005321': 169, 'arngd': 1043, 'marriage': 4340, 'walkin': 7310, 'unfortuntly': 7107, 'snake': 6227, 'bites': 1350, 'dancing': 2136, 'frnt': 2998, 'sayin': 5888, 'bite': 1349, 'izzit': 3751, 'textand': 6742, '08002988890': 56, 'wife': 7454, 'kids': 3916, 'jjc': 3810, 'tendencies': 6721, 'headache': 3340, 'quit': 5504, 'jazz': 3784, 'yogasana': 7652, 'em': 2550, 'meive': 4411, 'hardly': 3312, 'gotany': 3180, 'srsly': 6382, 'yi': 7645, 'spree': 6369, '80878': 631, '08715705022': 130, '1x150p': 341, 'pound': 5312, '08712402050': 107, 'lines': 4111, '10ppm': 270, 'ag': 828, 'promo': 5427, '07753741225': 30, '08715203677': 127, '42478': 476, '24': 363, 'grand': 3198, 'prix': 5391, 'stands': 6398, 'nitz': 4767, 'announcement': 947, '542': 538, '0825': 61, 'exhausted': 2693, 'train': 6963, 'pie': 5177, 'present': 5361, 'ar': 1016, 'blastin': 1363, 'tsunamis': 7017, 'occur': 4859, 'rajnikant': 5530, 'stopped': 6460, 'swimming': 6614, 'indian': 3634, 'ocean': 4861, 'noon': 4786, 'xclusive': 7596, 'clubsaisai': 1842, '2morow': 395, '28': 373, 'soiree': 6246, 'speciale': 6320, 'zouk': 7690, 'nichols': 4742, 'paris': 5053, 'roses': 5789, 'ladies': 3979, '07946746291': 41, '07880867867': 39, 'bridgwater': 1488, 'banter': 1204, 'neva': 4725, 'imma': 3595, 'somethin': 6259, '22': 357, 'euro2004': 2637, 'results': 5723, 'daily': 2129, '83222': 644, 'valentine': 7189, 'game': 3046, 'answers': 959, 'ques': 5497, 'suits': 6547, 'dependents': 2227, 'thanx4': 6762, 'cer': 1697, 'often': 4881, 'future': 3033, 'hundreds': 3519, 'handsomes': 3290, 'beauties': 1258, 'aunties': 1121, 'uncles': 7089, 'shock': 6063, 'shuhui': 6098, 'leona': 4062, 'reaction': 5565, 'family': 2754, 'happiness': 3306, 'snow': 6234, 'weather': 7366, 'together': 6898, 'friendships': 2988, 'grow': 3228, 'dismay': 2328, 'alex': 873, 'concerned': 1929, 'pub': 5457, 'bud': 1528, 'drinks': 2430, 'useful': 7168, 'officially': 4876, 'paid': 5021, 'market': 4335, 'tootsie': 6932, 'pop': 5281, 'longer': 4173, 'darren': 2148, 'textbuddy': 6744, 'area': 1022, '25p': 369, 'postcode': 5304, 'gaytextbuddy': 3069, '89693': 692, 'vodafone': 7260, '4882': 496, 'matches': 4356, '09064019014': 216, 'forwarded': 2946, 'seventeen': 5999, 'seven': 5998, 'hundred': 3518, 'ml': 4507, 'ûò': 7708, 'voucher': 7271, 'holder': 3432, 'weeks': 7386, 'pc': 5097, 'tlp': 6879, 'expressoffer': 2716, 'ts': 7013, '80062': 619, 'sweetheart': 6609, 'biola': 1338, 'login': 4162, 'dad': 2125, 'fetching': 2801, 'restock': 5716, 'thanksgiving': 6759, 'sound': 6296, 'effects': 2521, 'brighten': 1491, 'wee': 7379, 'thursday': 6840, 'allo': 886, 'braved': 1469, 'taken': 6648, 'trains': 6966, 'triumphed': 6994, 'jolly': 3828, 'cartoon': 1659, 'listening': 4129, 'temple': 6718, 'church': 1796, 'uncomfortable': 7090, '08715203694': 128, '40533': 471, '31': 428, 'email': 2551, 'rstm': 5802, 'sw7': 6597, '3ss': 463, 'gentle': 3086, 'sonetimes': 6270, 'rough': 5790, 'starting': 6407, 'panic': 5033, 'tuesday': 7022, 'wesleys': 7410, 'town': 6955, 'bet': 1306, 'hella': 3362, 'drugs': 2445, 'drug': 2443, 'dealer': 2171, 'impatient': 3599, 'sun': 6556, 'earth': 2487, 'cloud': 1838, 'river': 5765, 'evng': 2667, 'wikipedia': 7458, '88800': 684, '89034': 687, 'premium': 5352, '08718711108': 138, 'under': 7096, 'lays': 4029, 'envelope': 2604, 'paper': 5041, 'repent': 5679, 'fetch': 2800, 'de': 2168, 'prepare': 5354, 'positions': 5294, 'kama': 3875, 'sutra': 6593, 'en': 2566, 'nange': 4664, 'bakra': 1186, 'kalstiya': 3874, 'lakhs': 3984, 'ho': 3425, 'belly': 1295, 'laugh': 4017, 'sun0819': 6557, 'posts': 5307, 'seem': 5946, '08452810071': 66, 'ditto': 2336, 'saying': 5889, 'peace': 5100, 'knw': 3947, 'wetherspoons': 7417, 'piggy': 5182, 'awake': 1145, 'freaky': 2963, 'yelling': 7632, 'scrappy': 5913, 'lonely': 4171, 'hex': 3386, 'explain': 2710, 'sdryb8i': 5925, 'xy': 7612, 'sue': 6536, 'lapdancer': 3999, 'sex': 6001, 'bedroom': 1271, '89555': 691, 'textoperator': 6749, 'g2': 3036, '1da': 325, '150ppmsg': 310, 'king': 3926, 'crying': 2070, 'building': 1538, 'map': 4327, 'imprtant': 3612, 'tomorw': 6912, 'cherthala': 1756, 'cochin': 1857, 'bfore': 1317, 'accordingly': 761, 'tmorow': 6882, 'engaged': 2577, 'ans': 953, 'torch': 6939, 'bold': 1399, '448712404000': 485, '08712404000': 112, 'farm': 2764, '4d': 499, '1405': 294, '1680': 314, '1843': 317, 'law': 4025, 'purchase': 5469, 'poop': 5278, 'looks': 4180, 'gpu': 3189, 'entrepreneurs': 2599, 'corporation': 1990, 'gap': 3052, 'û_': 7701, 'prevent': 5372, 'dehydration': 2204, 'fluids': 2891, 'weird': 7391, 'idea': 3562, 'away': 1148, 'trek': 6986, 'harri': 3316, 'drivin': 2434, 'fantastic': 2761, 'gage': 3039, 'deck': 2188, 'cnupdates': 1851, 'newsletter': 4736, 'alerts': 872, 'height': 3358, 'aeronautics': 809, 'professors': 5413, 'wer': 7404, 'calld': 1600, 'sit': 6146, 'aeroplane': 810, 'aftr': 827, 'ws': 7576, 'students': 6499, 'dey': 2261, 'hurried': 3527, 'seems': 5948, 'timing': 6862, 'shitstorm': 6059, 'attributed': 1111, '08714712388': 122, '7pm': 614, 'stress': 6477, 'dorm': 2392, 'sell': 5960, '449071512431': 487, '1250': 286, '09071512433': 241, 'b4': 1157, '050703': 17, 'csbcm4235wc1n3xx': 2072, 'callcost': 1599, 'mobilesvary': 4522, 'maxå': 4375, 'sth': 6438, 'specs': 6326, 'px3748': 5486, '08714712394': 123, 'macha': 4268, 'upset': 7145, 'assume': 1082, 'mindset': 4467, 'wondar': 7523, 'flim': 2877, 'cookies': 1980, 'jelly': 3791, 'running': 5821, 'admit': 797, 'mad': 4276, 'correction': 1993, 'scrumptious': 5922, 'wants': 7326, 'ba': 1162, 'dao': 2140, 'half8th': 3275, 'exactly': 2678, 'jide': 3808, 'visiting': 7251, 'alertfrom': 871, 'jeri': 3796, 'stewartsize': 6437, '2kbsubject': 391, 'low': 4216, 'prescripiton': 5358, 'drvgsto': 2450, 'spring': 6370, 'yay': 7625, 'steak': 6425, 'twice': 7039, 'neglect': 4708, 'opportunity': 4937, 'add': 786, 'prayers': 5340, 'nokia6650': 4779, 'txtauction': 7050, '81151': 633, '4t': 511, 'ctxt': 2085, 'mtmsg': 4602, 'mayb': 4377, 'rite': 5764, 'faster': 2766, 'gals': 3044, 'attached': 1100, 'glad': 3125, 'hadn': 3263, 'clocks': 1828, 'shouted': 6083, 'realised': 5573, 'wahay': 7294, 'shorter': 6075, 'gaze': 3070, 'eyes': 2723, '930': 702, 'subscribed': 6521, '82324': 639, 'helpline': 3371, '08706091795': 86, 'spoken': 6354, 'gist': 3119, 'realize': 5575, '40': 466, 'thousands': 6820, 'tattoos': 6671, 'premier': 5351, 'gimme': 3112, 'lip': 4121, 'caveboy': 1679, 'library': 4078, 'confused': 1943, 'holla': 3436, 'anyone': 969, 'spare': 6314, 'faith': 2742, 'makes': 4303, 'possible': 5299, 'vibrate': 7225, 'acting': 776, '79': 609, '08704439680ts': 85, 'grandmas': 3200, 'hungover': 3520, 'unclaimed': 7087, '09066368327': 235, 'closingdate04': 1835, 'claimcode': 1805, 'm39m51': 4257, '50pmmorefrommobile2bremoved': 528, 'mobypobox734ls27yf': 4529, 'gua': 3235, 'mt': 4598, 'faber': 2728, 'yest': 7639, 'wishing': 7489, 'city': 1801, 'summer': 6552, 'store': 6464, '88039': 679, 'skilgme': 6160, 'tscs087147403231winawk': 7016, '50perwksub': 526, 'goin': 3148, 'meetin': 4405, 'wonder': 7525, 'tis': 6870, 'dramatic': 2417, 'schools': 5903, 'closed': 1832, 'apparently': 991, 'drive': 2432, 'inch': 3616, 'anywhere': 977, 'damn': 2131, 'hunting': 3525, 'drunkard': 2448, 'wats': 7350, 'idc': 3561, 'weaseling': 7364, 'space': 6308, 'picking': 5171, 'trash': 6976, 'smokes': 6217, 'begging': 1282, 'lovely': 4207, 'sing': 6134, 'slave': 6173, 'punish': 5466, 'beerage': 1275, '0578': 18, 'randomlly': 5538, 'opening': 4932, 'couldn': 2008, 'fixes': 2864, 'spelling': 6334, 'diff': 2285, 'living': 4139, 'perfect': 5118, 'community': 1896, '100p': 262, 'polyphonic': 5270, '087018728737': 79, 'toppoly': 6937, 'tune': 7028, 'subpoly': 6517, '81618': 635, 'pole': 5261, '08718727870': 147, 'enjoyed': 2583, 'fondly': 2908, 'bein': 1288, 'thot': 6816, 'dogbreath': 2366, 'sounding': 6297, 'jan': 3769, 'omg': 4905, 'weighed': 7388, 'woohoo': 7533, 'uncountable': 7095, 'dictionary': 2273, 'pieces': 5179, '9996': 710, '14thmarch': 300, 'availa': 1130, 'petey': 5143, 'whereare': 7430, 'friendsare': 2986, 'thekingshead': 6776, 'canlove': 1625, 'nic': 4740, 'pobox84': 5247, 'm263uz': 4256, 'appt': 1011, 'no1': 4769, '8077': 630, 'mates': 4358, 'getzed': 3101, '36504': 442, 'w45wq': 7286, 'norm150p': 4793, 'cashto': 1663, '08000407165': 47, 'getstop': 3098, '88222': 682, 'php': 5164, 'rg21': 5740, '4jx': 507, 'dled': 2344, '3d': 451, 'imp': 3598, 'ain': 853, 'smokin': 6218, 'boooo': 1413, 'bec': 1261, 'ugh': 7067, 'nervous': 4716, 'costumes': 2002, 'gift': 3107, 'yowifes': 7667, 'hint': 3405, 'borrow': 1422, 'bag': 1180, 'outbid': 4981, 'simonwatson5120': 6125, 'shinco': 6046, 'plyr': 5231, 'bid': 1323, 'smsrewards': 6223, 'notifications': 4808, 'ones': 4914, 'model': 4531, 'youi': 7656, 'galileo': 3043, 'dobby': 2351, 'responding': 5710, 'boo': 1405, 'enjoyin': 2584, 'yourjob': 7661, 'gettin': 3099, 'hunny': 3523, 'iåõllspeak': 3753, '2u': 410, 'soonlots': 6278, 'loveme': 4208, 'xxxx': 7606, 'starshine': 6404, 'ache': 766, 'sips': 6141, 'cappuccino': 1631, 'teasing': 6698, 'smsservices': 6224, 'yourinclusive': 7660, 'comuk': 1923, '3qxj9': 461, 'extra': 2719, '08702840625': 82, '220': 358, 'cm2': 1846, '9ae': 711, 'alfie': 874, 'moon': 4561, 'm8s': 4261, 'charity': 1722, '8007': 620, 'nokias': 4780, 'polys': 5271, 'zed': 7684, '08701417012': 74, 'profit': 5416, 'bits': 1351, 'hahaha': 3266, 'brain': 1461, 'turned': 7031, 'green': 3214, 'burial': 1548, 'mojibiola': 4537, '09065174042': 221, 'cust': 2104, '07821230901': 38, 'mate': 4357, 'rv': 5826, 'hol': 3430, 'havenåõt': 3332, 'ages': 838, 'rvx': 5827, 'skyped': 6170, 'kz': 3965, 'sura': 6582, 'given': 3122, 'ultimatum': 7077, 'countin': 2011, 'aburo': 744, 'surely': 6584, 'successful': 6529, 'five': 2860, '08002888812': 53, 'inconsiderate': 3624, 'nag': 4648, 'recession': 5598, 'hence': 3374, 'wed': 7373, 'soo': 6275, 'understand': 7098, '2morrow': 397, 'comprehensive': 1916, 'prashanthettan': 5337, 'mother': 4572, '09066350750': 226, 'ibiza': 3548, 'await': 1143, 'collection': 1874, 'sk3': 6157, '8wp': 698, 'ppm': 5322, 'meanwhile': 4394, 'suite': 6544, 'xavier': 7594, 'seconds': 5935, 'warning': 7332, 'samantha': 5856, 'playing': 5214, 'guitar': 3248, 'impress': 3606, 'doug': 2402, 'realizes': 5577, 'stomach': 6448, 'trauma': 6977, 'swear': 6604, 'matter': 4366, 'shoes': 6065, 'wan': 7318, 'inner': 3654, 'tigress': 6852, 'version': 7219, 'poor': 5279, 'urfeeling': 7152, 'bettersn': 1311, 'probthat': 5406, 'overdose': 4997, 'careful': 1645, 'spk': 6345, 'sn': 6226, 'lovejen': 4206, 'returned': 5729, 'fall': 2747, 'worlds': 7546, 'discreet': 2322, 'vip': 7244, '83110': 643, 'hai': 3267, 'ana': 929, 'sathy': 5875, 'rto': 5806, 'spoons': 6358, 'named': 4659, 'tampa': 6661, 'genius': 3084, 'whenever': 7427, 'connections': 1950, 'sort': 6287, 'lotta': 4196, 'corvettes': 1995, 'lately': 4011, 'yrs': 7670, 'supply': 6576, 'cds': 1686, 'virgin': 7246, 'records': 5607, 'mystery': 4643, '09061104283': 190, 'smsco': 6222, '50pm': 527, 'approx': 1009, 'consider': 1955, 'walls': 7314, 'bunkers': 1543, 'peaceful': 5101, '07808': 36, 'xxxxxx': 7608, '08719899217': 156, '41685': 473, '07': 20, 'posh': 5291, 'birds': 1340, 'chaps': 1717, 'user': 7170, 'trial': 6988, 'prods': 5409, 'champneys': 1710, 'dob': 2350, 'asap': 1064, '0721072': 26, 'philosophical': 5154, 'hole': 3434, 'saved': 5884, 'drop': 2438, 'cuddle': 2088, 'nap': 4667, 'atleast': 1096, 'otherwise': 4972, 'shakespeare': 6017, 'shesil': 6042, '10k': 268, '5k': 543, 'travel': 6979, '09064011000': 211, 'ntt': 4822, 'cr01327bt': 2028, 'fixedline': 2863, 'castor': 1667, 'liverpool': 4137, 'played': 5210, 'mid': 4449, '09058094565': 179, '09065171142': 220, 'stopsms': 6462, '08': 45, 'reminder': 5662, 'downloaded': 2406, 'doit': 2375, 'mymoby': 4638, 'knew': 3939, 'woul': 7558, 'lead': 4037, 'wanting': 7325, 'curfew': 2097, 'gibe': 3106, 'midnight': 4451, 'getsleep': 3097, 'studdying': 6496, 'ear': 2480, 'training': 6964, 'massages': 4349, 'oil': 4887, 'sup': 6567, 'yoyyooo': 7668, 'permissions': 5128, 'mac': 4266, 'usb': 7164, 'gibbs': 3105, 'unsold': 7126, 'mike': 4455, 'hussey': 3533, 'failed': 2738, 'sad': 5839, 'unbelievable': 7085, 'faglord': 2737, 'murder': 4620, 'nutter': 4835, 'cutter': 2113, 'ctter': 2083, 'cttergg': 2084, 'cttargg': 2082, 'ctargg': 2078, 'ctagg': 2077, 'ie': 3571, 'thus': 6841, 'superb': 6569, 'grateful': 3204, 'happier': 3304, 'agents': 837, 'experiment': 2705, 'due': 2462, 'several': 6000, 'outstanding': 4991, 'invoices': 3702, 'teach': 6688, 'smell': 6206, 'tobacco': 6891, 'derek': 2234, 'taylor': 6679, 'assumed': 1083, 'worst': 7552, 'charles': 1723, 'lastest': 4008, 'stereophonics': 6434, 'marley': 4338, 'dizzee': 2342, 'racal': 5512, 'libertines': 4077, 'strokes': 6486, 'nookii': 4785, 'bookmark': 1410, 'plus': 5230, 'grinule': 3221, 'greet': 3215, 'white': 7438, 'fudge': 3013, 'oreos': 4959, 'stores': 6465, 'january': 3773, 'male': 4309, 'sale': 5851, 'gay': 3066, 'cheaper': 1735, '08709222922': 94, '5p': 545, '8p': 695, 'peak': 5102, '08712460324': 115, 'zaher': 7682, 'ym': 7648, 'nauseous': 4682, 'pissed': 5191, 'sweets': 6611, 'pig': 5181, 'dieting': 2284, 'chip': 1781, 'iam': 3544, 'addicted': 789, 'msging': 4593, 'wrong': 7573, 'photo': 5162, 'registered': 5633, 'yck': 7626, 'ma': 4263, 'ashley': 1065, 'avalarr': 1132, 'hollalater': 3437, 'attend': 1104, 'rounds': 5793, 'blogging': 1375, 'magicalsongs': 4291, 'blogspot': 1376, 'diet': 2283, 'ate': 1091, 'slices': 6182, 'kvb': 3964, '88600': 683, '1million': 331, 'ppt150x3': 5324, 'box403': 1446, 'w1t1jy': 7284, 'alternative': 898, 'term': 6726, 'ore': 4956, 'mo': 4515, 'owo': 5008, 'moments': 4542, 'fro': 2999, 'wherever': 7431, 'samus': 5859, 'shoulders': 6081, 'matthew': 4368, '09063440451': 207, 'lux': 4245, 'ppm150': 5323, 'box334': 1442, 'sk38xh': 6158, 'wear': 7362, 'jeans': 3789, 'fever': 2802, 'vomitin': 7267, '09061749602': 204, '528': 535, 'hp20': 3496, '1yf': 342, 'stuffed': 6506, 'bleh': 1365, 'least': 4045, 'writhing': 7567, 'tons': 6923, 'paypal': 5096, 'voila': 7264, 'pockets': 5251, 'theyre': 6793, 'places': 5199, 'medical': 4400, 'folks': 2902, 'sorta': 6288, 'blown': 1385, 'recently': 5596, 'scores': 5908, 'sophas': 6282, 'secondary': 5934, 'application': 998, 'applying': 1000, 'ogunrinde': 4883, 'expensive': 2703, 'photos': 5163, '114': 276, '14': 293, 'tcr': 6684, 'w1': 7278, 'lodging': 4159, 'chk': 1782, 'ms': 4590, 'dict': 2272, 'shb': 6031, 'truth': 7009, 'against': 830, 'gravity': 3207, 'carefully': 1646, 'feels': 2791, 'heavy': 3354, 'bowl': 1434, 'filthy': 2831, 'stories': 6466, 'brand': 1465, 'decision': 2186, 'simpler': 6127, 'magical': 4290, 'welp': 7400, 'retired': 5726, 'natwest': 4680, '09050001808': 166, 'm95': 4262, 'valid12hrs': 7192, 'chad': 1704, 'gymnastics': 3257, 'site': 6147, 'christians': 1792, 'necklace': 4698, 'token': 6900, 'liking': 4101, 'aptitude': 1015, '15': 301, 'horse': 3468, 'racing': 5513, 'earlier': 2481, 'chicken': 1762, 'rice': 5744, 'closes': 1834, 'wrongly': 7574, 'ad': 784, 'crap': 2034, 'borin': 1419, 'boggy': 1397, 'boring': 1420, 'biatch': 1322, 'nxt': 4840, 'hesitate': 3384, 'weakness': 7360, 'notebook': 4803, 'salary': 5850, 'chocolate': 1783, 'potential': 5309, 'talent': 6652, 'reckon': 5602, 'eightish': 2531, 'carpark': 1654, '3g': 453, 'videophones': 7232, '09063458130': 209, 'videochat': 7231, 'java': 3779, 'dload': 2346, 'polyph': 5269, 'noline': 4781, 'rentl': 5675, 'fuckin': 3010, 'dropped': 2439, 'loving': 4214, 'yun': 7675, 'ubi': 7065, '67441233': 570, 'irene': 3715, 'ere': 2612, 'bus8': 1555, '65': 565, '61': 557, '66': 567, '382': 448, 'cres': 2053, 'tech': 6699, '6ph': 591, '5wkg': 550, 'sd': 5924, 'butt': 1562, 'sore': 6283, 'relaxing': 5644, '7am': 610, 'party': 5065, '5ish': 542, 'stripes': 6484, 'skirt': 6166, 'miracle': 4482, 'jesus': 3800, 'blessed': 1367, 'escalator': 2623, 'quiet': 5503, 'beth': 1308, 'aunts': 1122, 'charlie': 1724, 'helen': 3360, 'heard': 3348, 'syllabus': 6623, 'panasonic': 5031, 'bluetoothhdset': 1389, 'doublemins': 2398, 'doubletxt': 2400, 'contract': 1969, '30pm': 425, 'poyyarikatur': 5319, 'kolathupalayam': 3952, 'unjalur': 7116, 'erode': 2616, 'hero': 3378, 'apt': 1014, 'kerala': 3899, 'terrible': 6729, 'fan': 2756, 'meat': 4396, 'lovers': 4211, 'supreme': 6580, 'regret': 5635, 'cudnt': 2091, 'drove': 2441, 'ctla': 2080, 'ente': 2589, 'ishtamayoo': 3725, 'bakrid': 1187, 'exe': 2688, 'glorious': 3131, 'anniversary': 944, 'finds': 2840, 'prey': 5376, 'coaxing': 1854, 'images': 3589, 'fond': 2907, 'souveniers': 6306, 'cougar': 2004, 'pen': 5108, 'secretly': 5938, 'fancies': 2757, '09065394514': 222, 'datebox1282essexcm61xn': 2155, 'pattern': 5083, 'throat': 6827, 'scratches': 5914, 'plm': 5223, 'asleep': 1075, 'foreign': 2924, 'stamps': 6394, 'lecture': 4050, 'sheffield': 6036, 'nanny': 4665, 'raise': 5524, 'zoe': 7687, 'shitin': 6056, 'defo': 2201, 'hardest': 3311, 'millions': 4461, 'lekdog': 4057, 'setting': 5993, 'filling': 2826, 'loverboy': 4210, 'blankets': 1362, 'sufficient': 6539, 'thx': 6842, 'nyt': 4844, 'edison': 2507, 'rightly': 5751, 'fool': 2912, 'speechless': 6327, 'during': 2471, 'viva': 7256, 'gm': 3134, 'atten': 1103, 'roast': 5768, 'iåõd': 3752, '09058097218': 186, 'ls15hb': 4221, 'concentrate': 1925, 'educational': 2512, 'flirting': 2881, 'chatting': 1733, 'walked': 7309, 'doesnåõt': 2364, 'serious': 5985, 'kickoff': 3912, 'euro': 2636, 'june': 3854, '3rd': 462, 'sells': 5962, 'data': 2153, 'analysis': 931, 'thesis': 6788, 'belligerent': 1294, 'hiya': 3415, 'april': 1012, 'les': 4064, 'rudi': 5811, 'snoring': 6233, 'drunk': 2447, 'sends': 5971, 'ink': 3651, '515': 531, 'throwing': 6831, 'deciding': 2184, 'eastenders': 2492, 'flower': 2888, 'compare': 1902, 'herself': 3381, 'violet': 7243, 'tulip': 7026, 'lily': 4103, '84025': 653, 'wkent': 7505, '150p16': 305, 'technical': 6700, 'support': 6577, 'process': 5407, 'networking': 4723, 'prepared': 5355, 'finalise': 2834, 'works': 7544, 'flirtparty': 2882, 'replys150': 5686, 'bitch': 1348, 'dentist': 2224, '09058091854': 175, 'revealed': 5734, 'box385': 1444, 'm6': 4258, '6wu': 594, 'bathing': 1230, '09050003091': 168, 'c52': 1581, 'xchat': 7595, 'lul': 4236, 'juicy': 3848, 'nurses': 4831, 'shes': 6041, 'obese': 4850, 'oyea': 5009, 'oi': 4885, 'ami': 911, 'parchi': 5050, 'na': 4645, 'kicchu': 3909, 'kaaj': 3866, 'korte': 3957, 'iccha': 3553, 'korche': 3954, 'tul': 7025, 'movies': 4583, 'copies': 1985, 'sculpture': 5923, 'convey': 1974, 'regards': 5631, 'surya': 6592, 'vijay': 7236, 'pokkiri': 5260, 'pic': 5168, 'dearer': 2176, 'dem': 2218, 'attraction': 1108, 'thoughts': 6819, 'breath': 1479, 'sorrows': 6285, 'fight': 2815, 'craziest': 2040, 'proove': 5434, 'planet': 5203, 'singing': 6135, 'praises': 5333, 'curry': 2101, 'makiing': 4304, 'sambar': 5857, 'ndship': 4687, 'needle': 4704, 'clock': 1827, 'evn': 2666, 'itz': 3743, '4few': 500, 'alwys': 904, 'conected': 1935, 'spatula': 6316, 'hands': 3287, 'sipix': 6140, 'digital': 2293, '09061221061': 192, '28days': 375, 'box177': 1439, 'm221bp': 4254, '2yr': 416, 'warranty': 7333, 'på': 5487, '99': 709, '09061790121': 205, 'doctor': 2355, 'complexities': 1914, 'freely': 2970, 'taxes': 6675, 'outrageous': 4987, 'tomorro': 6910, 'ryder': 5830, 'subscriber': 6522, 'receipt': 5589, 'elvis': 2549, 'presleys': 5363, 'fret': 2979, 'strips': 6485, 'postal': 5302, 'gifts': 3109, 'cliff': 1824, 'ne': 4688, 'interesting': 3682, 'wrking': 7569, 'uni': 7110, 'depressed': 2231, 'sittin': 6150, 'wind': 7468, 'drops': 2440, 'black': 1354, 'aiyah': 860, 'information': 3644, 'o2': 4846, 'onto': 4922, 'urawinner': 7150, 'surprise': 6588, 'awaiting': 1144, 'hen': 3373, 'italian': 3733, 'grins': 3220, 'smoked': 6216, 'math': 4359, 'dhoni': 2265, 'rocks': 5772, 'teju': 6705, 'hourish': 3481, 'ground': 3226, 'amla': 914, 'durban': 2469, 'convenience': 1971, 'evaluation': 2640, '449050000301': 486, '09050000301': 160, 'speed': 6328, 'speedchat': 6329, '80155': 624, 'swap': 6601, 'chatter': 1732, 'chat80155': 1731, 'rcd': 5554, 'cancel': 1622, 'cheyyamo': 1758, '08000776320': 48, 'aiyar': 861, 'survey': 6591, '80160': 625, 'txt43': 7048, 'catching': 1672, 'throws': 6833, 'gal': 3042, 'falls': 2750, 'brothers': 1510, 'whos': 7444, 'hmv1': 3424, 'errors': 2618, 'difficulties': 2290, 'howz': 3494, 'tau': 6672, 'sar': 5866, 'piah': 5167, '1stchoice': 335, '08707808226': 91, 'wearing': 7363, 'film': 2828, 'shade': 6010, 'copied': 1984, 'notified': 4809, 'luck': 4229, 'marketing': 4336, '84122': 654, '08450542832': 65, 'raining': 5523, 'station': 6416, 'tank': 6662, 'virgins': 7247, '4fil': 501, 'sexual': 6003, 'theirs': 6775, 'cute': 2109, '69911': 582, 'sitter': 6149, 'kaitlyn': 3869, 'adult': 802, 'danger': 2139, 'peeps': 5105, 'comment': 1892, 'veggie': 7210, 'neighbors': 4711, 'computerless': 1921, 'balloon': 1190, 'silently': 6121, 'drms': 2437, 'wrc': 7562, 'rally': 5533, 'oz': 5010, 'lucozade': 4232, 'energy': 2575, 'le': 4036, '61200': 558, 'packs': 5016, 'itcould': 3734, 'melody': 4415, 'horrible': 3467, 'macs': 4275, 'toot': 6929, 'bigger': 1326, 'nw': 4839, 'hme': 3420, 'islands': 3726, 'chennai': 1754, 'velachery': 7212, 'flippin': 2879, 'breaking': 1478, 'cstore': 2076, 'annoying': 949, 'hangin': 3293, 'makin': 4305, 'lodge': 4158, 'worrying': 7550, 'shame': 6020, 'quizzes': 5508, 'popcorn': 5282, 'jordan': 3833, 'celeb': 1688, 'pocketbabe': 5250, '087016248': 77, 'voicemail': 7263, '08719181503': 154, 'thin': 6796, 'arguments': 1033, 'fed': 2786, 'himso': 3404, '2go': 388, 'neft': 4707, 'credited': 2049, 'beneficiary': 1302, 'tuition': 7024, 'understanding': 7099, 'choice': 1784, 'enter': 2590, 'subs16': 6519, '1win150ppmx3': 339, 'appreciated': 1004, 'semi': 5965, 'apart': 979, 'delivered': 2213, 'exp': 2699, '30apr': 423, 'strong': 6487, 'arms': 1041, 'maaaan': 4264, 'guessin': 3243, 'walmart': 7315, 'ilol': 3586, 'personally': 5136, 'wuldnt': 7585, 'mite': 4500, 'creepy': 2052, 'lunchtime': 4238, 'organise': 4960, '08719181513': 155, 'complete': 1909, 'passable': 5069, 'score': 5907, 'phd': 5151, '5years': 552, 'easier': 2488, 'nok': 4776, '87021': 669, 'txtin': 7051, '4info': 506, 'prakesh': 5334, 'apps': 1010, 'rofl': 5775, 'betta': 1309, 'invest': 3695, 'anti': 964, 'aging': 840, 'products': 5410, '1hr': 327, 'delay': 2206, 'accommodation': 757, 'various': 7199, 'global': 3130, 'phb1': 5150, 'ph': 5147, '08700435505150p': 70, 'submitting': 6516, '84128': 655, 'textcomp': 6745, '08712405020': 113, 'snatch': 6229, 'purse': 5475, 'drivby': 2431, '0quit': 257, 'edrunk': 2509, 'iff': 3573, 'pthis': 5456, 'senrd': 5973, 'dnot': 2347, 'dancce': 2133, 'drum': 2446, 'basq': 1224, 'ihave': 3579, '2nhite': 400, 'ros': 5787, 'xxxxxxx': 7609, 'morn': 4565, 'relieved': 5647, 'westonzoyland': 7414, 'greatness': 3212, 'europe': 2639, 'nobody': 4771, 'chinese': 1777, 'docs': 2354, 'songs': 6272, 'havin': 3333, 'goin2bed': 3149, 'only1more': 4920, 'mc': 4380, 'hun': 3517, '2nite': 402, 'every1': 2652, 'ava': 1129, 'goodtime': 3171, 'oli': 4900, 'rang': 5541, 'melnite': 4414, 'ifink': 3574, 'sorted': 6289, 'everythin': 2659, 'mon': 4544, 'l8rs': 3968, '08712402779': 109, 'flip': 2878, 'shun': 6099, 'bian': 1321, 'glass': 3128, 'exhibition': 2694, 'el': 2534, 'nino': 4760, 'himself': 3403, 'cbe': 1680, 'honey': 3446, 'jd': 3786, 'accounts': 764, 'executive': 2689, 'picked': 5170, 'downstem': 2410, '08718730555': 148, 'wahala': 7293, 'inperialmusic': 3658, 'listening2the': 4130, 'weirdest': 7392, 'byåóleafcutter': 1579, 'johnåó': 3820, 'insects': 3661, 'molested': 4539, 'plumbing': 5228, 'remixed': 5665, 'evil': 2665, 'acid': 768, 'didntgive': 2278, 'bellearlier': 1293, 'exact': 2677, '09096102316': 247, '2moro': 394, 'jane': 3771, 'callså': 1610, 'minmoremobsemspobox45po139wa': 4474, 'tee': 6702, 'cheery': 1749, 'cell': 1692, 'thts': 6837, 'dough': 2403, 'control': 1970, '80488': 628, 'weirdo': 7393, 'mode': 4530, 'stalk': 6391, 'profiles': 5415, 'jerry': 3797, 'irritates': 3719, 'fails': 2739, 'express': 2714, 'drinkin': 2428, 'wondering': 7527, 'others': 4971, 'dog': 2365, 'tour': 6953, '5pm': 546, '95': 705, 'pax': 5086, 'deposit': 2229, 'jap': 3775, 'disappeared': 2314, 'birthdate': 1344, 'certificate': 1701, 'publish': 5459, 'dreams': 2422, 'nydc': 4843, 'wheellock': 7425, 'destination': 2247, 'fifty': 2814, 'favour': 2778, 'settling': 5997, 'happenin': 3301, 'ola': 4896, 'cocksuckers': 1859, 'ipads': 3710, 'worthless': 7554, 'garbage': 3055, 'novelty': 4812, 'items': 3735, 'fran': 2956, 'broke': 1505, 'knackered': 3937, 'janx': 3774, 'dads': 2127, 'designation': 2240, 'software': 6244, 'developer': 2258, 'jamster': 3767, 'videosound': 7233, 'gold': 3151, 'videosounds': 7234, 'logos': 4165, 'musicnews': 4628, '09701213186': 255, 'lions': 4120, 'lionm': 4118, 'lionp': 4119, 'ringtones': 5760, 'original': 4963, '3gbp': 454, 'jokin': 3826, 'spirit': 6343, 'bb': 1237, 'shattered': 6029, 'alrite': 895, 'idiot': 3567, 'girlie': 3117, 'colours': 1879, 'darker': 2143, 'styling': 6509, 'whenevr': 7428, 'gray': 3209, 'remembr': 5658, 'listn': 4131, 'watevr': 7347, 'ûïharry': 7707, 'potter': 5310, 'phoenix': 5157, 'harry': 3317, 'among': 917, 'readers': 5567, 'shd': 6032, 'minus': 4478, 'paragraphs': 5047, 'coveragd': 2022, 'vasai': 7202, 'retard': 5725, 'bathroom': 1231, 'sang': 5861, 'uptown': 7148, '80': 616, 'february': 2785, 'rush': 5824, 'icic': 3555, 'syria': 6627, 'canada': 1619, 'cares': 1648, 'goodnoon': 3168, 'gauge': 3062, 'patty': 5084, 'interest': 3680, 'vl': 7258, 'completing': 1913, 'ax': 1152, 'chill': 1771, '6hrs': 587, 'surgical': 6586, 'emergency': 2558, 'unfolds': 7105, 'frens': 2976, 'korean': 3955, 'fredericksburg': 2964, 'que': 5495, 'pases': 5067, 'buen': 1532, 'tiempo': 6848, 'chillin': 1773, 'super': 6568, 'free2day': 2966, 'george': 3090, '89080': 688, 'saucy': 5881, '0870241182716': 80, 'theres': 6785, 'tmrw': 6885, 'compass': 1903, 'soul': 6295, 'gnun': 3138, 'way2sms': 7356, 'baaaaabe': 1165, 'misss': 4494, 'youuuuu': 7664, 'ned': 4699, 'convince': 1976, 'tht': 6836, 'witot': 7499, 'hurting': 3530, 'main': 4299, 'sweetie': 6610, 'blackberry': 1355, 'buyer': 1567, '4a': 498, 'pple': 5321, 'marry': 4342, 'becz': 1268, 'undrstndng': 7102, 'avoids': 1142, 'problems': 5402, 'chain': 1705, 'suffer': 6537, 'whn': 7439, 'arrested': 1050, 'suntec': 6566, 'steamboat': 6429, 'dance': 2134, 'moji': 4536, 'forgive': 2930, 'messenger': 4440, 'reaching': 5563, 'tp': 6957, 'fantasies': 2760, '08707509020': 89, '20p': 353, '1327': 291, 'croydon': 2063, 'cr9': 2029, '5wb': 548, '0870': 69, 'bbq': 1241, '6ish': 588, 'everyso': 2658, 'panicks': 5034, 'fill': 2824, 'bar': 1206, 'write': 7566, 'cover': 2021, 'screen': 5919, 'gently': 3088, 'bears': 1257, 'nick': 4743, 'tom': 6906, 'fact': 2731, 'types': 7060, 'upload': 7142, '08718730666': 149, 'auntie': 1120, 'huai': 3504, 'juan': 3846, 'linerental': 4110, 'lf56': 4074, 'tlk': 6878, 'ideal': 3563, 'path': 5080, 'appear': 993, 'front': 3003, 'paths': 5082, 'walking': 7311, 'arm': 1038, 'shot': 6078, 'reserve': 5699, 'thirunelvali': 6806, 'tirunelvali': 6868, 'tackle': 6636, 'storming': 6467, 'phne': 5156, 'wt': 7577, 'meaning': 4389, 'margaret': 4332, 'girlfrnd': 3116, 'grahmbell': 3194, 'invnted': 3701, 'telphone': 6714, 'moral': 4562, '4get': 502, 'popped': 5283, 'tonght': 6918, 'ploughing': 5224, 'pile': 5184, 'ironing': 3717, 'chinky': 1778, 'wi': 7448, 'nz': 4845, 'players': 5212, 'effect': 2520, 'aust': 1124, 'bk': 1353, 'cafe': 1585, 'recharged': 5600, 'kidding': 3915, 'papa': 5040, 'shld': 6061, 'stretch': 6479, 'detailed': 2250, 'sinco': 6132, 'payee': 5091, 'icicibank': 3556, 'urn': 7160, 'beware': 1314, 'frauds': 2959, 'share': 6026, 'disclose': 2318, 'vote': 7269, 'caring': 1649, 'losers': 4187, 'kaiez': 3868, 'option': 4944, 'beta': 1307, 'practicing': 5330, 'babies': 1168, 'noncomittal': 4783, 'beneath': 1301, 'pale': 5027, 'goodnite': 3167, 'msgrcvdhg': 4595, 'snickering': 6231, 'tells': 6712, 'totally': 6947, 'chords': 1787, 'rem': 5651, 'silver': 6123, 'lmao': 4144, 'silence': 6119, 'win150ppmx3age16': 7467, 'exams': 2680, 'revision': 5737, 'boyf': 1455, 'interviw': 3688, 'exeter': 2691, 'spreadsheet': 6368, 'whose': 7445, 'determine': 2252, 'entire': 2596, 'arsenal': 1055, 'dartboard': 2149, 'condition': 1932, 'doubles': 2399, 'trebles': 6984, 'coat': 1853, 'painful': 5023, 'everybody': 2653, 'recognises': 5604, 'alone': 890, 'wisheds': 7486, 'intrepid': 3691, 'duo': 2468, 'missin': 4490, 'guilty': 3247, 'aiya': 859, 'cardiff': 1637, 'addie': 790, 'tues': 7021, 'breeze': 1483, 'bright': 1490, 'fresh': 2977, 'twittering': 7044, 'restaurant': 5715, 'textpod': 6750, 'pod': 5253, 'ducking': 2459, 'chinchillas': 1776, 'function': 3022, 'headstart': 3344, 'desperate': 2244, 'rummer': 5818, 'flying': 2896, 'monkeys': 4551, 'certainly': 1700, 'optin': 4943, 'bbc': 1238, 'charts': 1727, 'thanks2': 6758, 'rajini': 5529, 'practical': 5328, 'summers': 6553, 'matched': 4355, 'optout': 4945, 'help08714742804': 3368, 'spys': 6375, 'mails': 4298, 'claire': 1807, '09099725823': 248, 'bought': 1430, 'costing': 2000, 'offering': 4872, 'yalru': 7617, 'lyfu': 4250, 'astne': 1086, 'innu': 3657, 'mundhe': 4617, 'lyf': 4249, 'ali': 877, 'halla': 3277, 'ke': 3889, 'bilo': 1335, 'program': 5417, 'edhae': 2506, 'ovr': 5000, 'vargu': 7198, 'meow': 4429, 'twelve': 7037, 'aah': 721, '09066362231': 231, '07xxxxxxxxx': 44, '06': 19, 'prone': 5432, '07801543489': 35, 'latests': 4015, 'llc': 4143, 'ny': 4841, 'usa': 7163, 'msgrcvd18': 4594, 'permission': 5127, 'lucy': 4233, 'hubby': 3505, 'meetins': 4407, 'cumin': 2094, '09099726395': 249, 'minmobsmorelkpobox177hp51fl': 4473, 'wonders': 7528, '7th': 615, '6th': 593, '5th': 547, '4th': 512, 'personality': 5135, 'nature': 4679, 'dose': 2394, 'tablet': 6634, 'incomm': 3623, 'blake': 1357, 'lotr': 4193, 'keeping': 3892, 'google': 3172, 'maps': 4328, 'tiring': 6866, 'modules': 4534, 'concentrating': 1926, 'browsin': 1516, 'compulsory': 1918, 'purity': 5472, 'musthu': 4630, 'investigate': 3696, 'vomit': 7266, 'aint': 854, 'sha': 6009, 'vitamin': 7255, 'centre': 1695, 'crucial': 2064, 'jsco': 3842, '2channel': 380, 'leadership': 4038, 'skills': 6162, 'psychic': 5452, 'host': 3471, 'based': 1218, 'idps': 3569, 'linux': 4116, 'systems': 6629, 'total': 6946, 'converter': 1973, 'along': 891, 'stars': 6403, 'karaoke': 3880, 'testing': 6736, 'sayy': 5891, 'loved': 4205, 'except': 2682, 'nit': 4762, 'leanne': 4042, 'eight': 2529, 'file': 2822, 'format': 2938, 'disc': 2317, 'hows': 3493, 'champ': 1708, 'glasgow': 3127, 'lovin': 4213, 'arrive': 1052, 'shortly': 6076, 'install': 3667, 'browse': 1515, 'artists': 1057, 'corect': 1988, 'speling': 6331, 'sarcasm': 5868, '4719': 492, '523': 533, 'forum': 2943, 'ron': 5782, 'cts': 2081, 'employee': 2563, 'aunt': 1119, 'nike': 4755, 'sooo': 6279, 'screaming': 5918, 'shouting': 6084, 'dang': 2138, 'unfortunately': 7106, 'airport': 857, '7250i': 598, 'auction': 1113, '86021': 666, 'w1jhl': 7283, 'difficult': 2289, 'earliest': 2482, 'nordstrom': 4791, 'konw': 3953, 'waht': 7298, 'rael': 5517, 'gving': 3255, 'yuo': 7677, 'exmpel': 2696, 'jsut': 3845, 'ese': 2625, 'tihs': 6853, 'evrey': 2671, 'splleing': 6349, 'wrnog': 7572, 'sitll': 6148, 'raed': 5516, 'wihtuot': 7457, 'ayn': 1155, 'mitsake': 4501, 'conference': 1936, 'ow': 5002, 'degree': 2202, 'joining': 3823, 'finance': 2836, 'prospects': 5442, 'bleak': 1364, 'filled': 2825, 'shant': 6024, 'jia': 3806, 'bishan': 1346, 'nearer': 4691, 'sux': 6594, 'raiden': 5520, 'buff': 1533, 'south': 6304, 'preferably': 5348, 'kegger': 3894, 'totes': 6948, 'pierre': 5180, 'cardin': 1638, 'costs': 2001, 'rhythm': 5743, 'establish': 2632, 'truro': 7006, 'ext': 2717, 'gas': 3060, 'gang': 3051, 'adventure': 805, 'cloth': 1836, 'pack': 5013, 'tablets': 6635, 'sunroof': 6563, 'excellent': 2681, 'finishing': 2847, 'doors': 2391, 'wifi': 7456, 'blanked': 1360, 'image': 3588, 'rumour': 5819, 'kalainar': 3871, 'thenampet': 6781, '7250': 597, 'nosy': 4800, 'idk': 3568, 'reacting': 5564, 'freaked': 2961, 'whom': 7442, 'satanic': 5874, 'imposter': 3605, 'destiny': 2248, 'companion': 1900, 'chef': 1753, 'listener': 4128, 'organizer': 4961, 'boyfriend': 1456, 'sympathetic': 6625, 'athletic': 1092, 'courageous': 2017, 'determined': 2253, 'dependable': 2226, 'psychologist': 5453, 'pest': 5141, 'exterminator': 2718, 'psychiatrist': 5451, 'healer': 3346, 'stylist': 6511, 'driver': 2433, 'aaniye': 722, 'pudunga': 5460, 'venaam': 7214, 'brothas': 1508, 'chasing': 1729, 'chez': 1759, 'jules': 3850, 'hhahhaahahah': 3391, 'nig': 4746, 'leonardo': 4063, 'kicks': 3913, 'john': 3819, '2years': 415, 'strain': 6472, 'dime': 2297, 'withdraw': 7494, 'anyhow': 967, 'falling': 2749, 'force': 2922, 'smeone': 6207, 'millers': 4459, 'fire': 2850, 'spark': 6315, 'flame': 2868, 'rawring': 5550, 'xoxo': 7599, 'somewhr': 6267, 'crushes': 2068, 'honeymoon': 3448, 'outfit': 4983, 'propose': 5438, '08719899230': 157, 'blame': 1358, 'gods': 3145, 'blessings': 1369, 'cheque': 1755, 'olympics': 4904, 'leo': 4061, 'haul': 3324, 'wildlife': 7462, 'want2come': 7323, 'that2worzels': 6765, 'wizzle': 7502, 'dippeditinadew': 2306, 'lovingly': 4215, 'itwhichturnedinto': 3741, 'gifted': 3108, 'tomeandsaid': 6908, 'shanghai': 6023, 'instead': 3672, 'cya': 2117, 'freezing': 2973, '645': 564, 'rt': 5803, 'pro': 5397, 'ringtoneking': 5759, '08701237397': 73, 'redeemable': 5613, 'thnx': 6813, 'sef': 5950, 'anjie': 940, 'batch': 1226, 'fring': 2989, 'flaky': 2867, 'sooooo': 6281, 'laughing': 4019, 'winning': 7478, 'tooo': 6928, 'nte': 4820, '09058094599': 182, 'confuses': 1944, 'wating': 7348, 'british': 1500, 'hotels': 3476, 'london': 4170, '02072069400': 10, 'bx': 1573, '526': 534, 'sw73ss': 6598, 'talents': 6653, '6pm': 592, 'animal': 939, 'buzz': 1571, 'adoring': 799, 'eerie': 2518, 'title': 6872, 'dracula': 2414, 'titles': 6873, 'ghost': 3104, 'addamsfa': 787, 'munsters': 4618, 'exorcist': 2698, 'twilight': 7041, 'brought': 1511, 'shiny': 6048, 'warming': 7330, 'constant': 1959, 'cared': 1642, 'wasn': 7336, 'surprised': 6589, 'french': 2975, 'fooled': 2913, '0a': 256, 'allow': 887, 'companies': 1899, 'responsible': 5713, 'suppliers': 6574, 'comedy': 1886, 'feelin': 2789, 'lnly': 4145, 'moby': 4528, '82242': 637, 'msg150p': 4592, '2rcv': 406, 'hlp': 3418, '08712317606': 103, 'keen': 3890, 'switch': 6618, 'dammit': 2130, 'wright': 7565, 'fly': 2895, 'somewhat': 6264, 'event': 2647, 'laden': 3978, 'wrecked': 7563, 'spontaneously': 6356, 'goodevening': 3161, 'lei': 4056, 'action': 777, '80608': 629, 'movietrivia': 4584, '08712405022': 114, 'waking': 7304, 'partnership': 5063, 'rgent': 5742, 'lookin': 4178, 'daytime': 2163, 'busty': 1559, '09099726429': 250, 'janinexx': 3772, 'mostly': 4571, 'inside': 3664, 'spageddies': 6310, 'phasing': 5149, 'fourth': 2951, 'dimension': 2298, 'meaningful': 4390, 'compromised': 1917, '09050001295': 165, 'a21': 719, 'monthly': 4557, 'mobsi': 4526, '391784': 449, 'dub': 2456, 'je': 3787, 'toughest': 6952, 'ideas': 3564, 'sight': 6111, 'remain': 5652, 'maintain': 4300, 'sh': 6008, 'jas': 3777, 'squatting': 6377, 'cramps': 2033, '0089': 4, 'digits': 2294, 'received': 5593, '09063442151': 208, 'nan': 4663, 'sonathaya': 6269, 'soladha': 6248, 'raping': 5544, 'dudes': 2461, 'poker': 5258, 'weightloss': 7390, 'mushy': 4625, 'embarrassed': 2555, 'stash': 6412, 'ran': 5536, 'priya': 5392, 'ordered': 4955, '81303': 634, 'father': 2770, 'messy': 4441, 'kilos': 3922, 'accidant': 754, 'tookplace': 6926, 'ghodbandar': 3103, 'rd': 5558, 'traffic': 6962, 'moves': 4581, 'slovely': 6192, 'slip': 6186, 'wkg': 7506, 'nus': 4833, 'sc': 5892, 'specialise': 6322, 'wad': 7290, 'likes': 4099, 'dislikes': 2327, 'keeps': 3893, 'queen': 5496, 'desparately': 2243, 'fren': 2974, 'promises': 5426, 'gotten': 3184, 'stereo': 6433, 'mi': 4446, 'unknown': 7118, 'album': 867, '121': 283, '60p': 556, 'connect': 1947, '09094646899': 246, 'vu': 7277, 'bcm1896wc1n3xx': 1246, 'classmates': 1814, 'fires': 2853, 'boys': 1457, '2007': 350, 'pre': 5343, 'trackmarque': 6959, 'vipclub4u': 7245, 'missionary': 4492, 'hook': 3452, 'standing': 6397, 'entertaining': 2594, 'hugh': 3510, 'laurie': 4022, 'stick': 6439, 'indeed': 3629, 'praps': 5335, 'jon': 3830, 'bin': 1337, 'spain': 6311, 'dinero': 2302, 'åôrents': 7697, '000pes': 2, '48': 495, 'james': 3766, 'maangalyam': 4265, 'alaipayuthe': 866, 'complaining': 1906, 'mandy': 4319, 'sullivan': 6548, 'hotmix': 3478, 'fm': 2898, 'chosen': 1789, 'easter': 2493, 'telephone': 6707, '09041940223': 159, '29': 378, '05': 16, 'transferred': 6972, 'finn': 2849, 'di': 2266, 'bahamas': 1182, 'callfreefone': 1605, '08081560665': 60, 'cruise': 2066, 'ofå': 4882, '07786200117': 33, 'calm': 1611, 'downon': 2408, 'theacusations': 6770, 'itxt': 3742, 'iwana': 3747, 'wotu': 7556, 'doin': 2372, 'thew': 6791, 'haventcn': 3331, 'up4': 7134, 'nething': 4721, 'dine': 2300, 'conacted': 1924, '09111030116': 253, 'pobox12n146tf15': 5240, 'iåõm': 3754, 'social': 6241, 'inspection': 3665, 'nursery': 4830, 'slowly': 6196, 'becomes': 1266, 'habit': 3260, 'follow': 2903, 'panren': 5035, 'paru': 5066, 'chuckin': 1795, 'trainners': 6965, 'carryin': 1656, 'bac': 1174, 'schedule': 5901, 'dhanush': 2263, 'needing': 4703, 'stuck': 6495, 'habba': 3259, 'hw': 3539, 'dileep': 2296, 'muchand': 4607, 'contacts': 1963, 'venugopal': 7215, 'mentioned': 4426, 'remembrs': 5659, 'forgets': 2929, 'everytime': 2661, 'mandan': 4317, '07734396839': 28, 'ibh': 3546, 'nokia6600': 4778, 'regarding': 5630, '3230': 433, 'textbook': 6743, 'algorithms': 876, 'edition': 2508, 'selling': 5961, 'buns': 1544, 'adore': 798, 'invaders': 3694, 'orig': 4962, 'arcade': 1019, 'console': 1958, 'settings': 5994, 'alert': 870, '09064018838': 215, 'cro1327': 2059, 'atlanta': 1094, 'recharge': 5599, 'created': 2045, 'fills': 2827, 'gaps': 3053, 'holding': 3433, 'arun': 1061, 'transfr': 6973, 'takin': 6650, 'philosophy': 5155, 'didnåõt': 2279, 'intend': 3677, 'iwas': 3748, 'marine': 4333, 'itried2tell': 3738, 'urmom': 7159, 'careabout': 1641, 'foley': 2901, 'exciting': 2684, 'prizes': 5395, 'eye': 2722, '82050': 636, 'desparate': 2242, 'learned': 4044, 'fake': 2743, 'answering': 958, 'iraq': 3714, 'afghanistan': 819, 'stable': 6386, 'honest': 3443, 'traveling': 6980, '1225': 284, '50award': 523, '3100': 429, 'pai': 5020, 'seh': 5951, 'beer': 1274, 'combine': 1884, 'parts': 5064, 'walsall': 7316, 'tue': 7020, 'terry': 6732, 'jess': 3799, 'sian': 6103, 'ccna': 1683, 'shrek': 6096, 'dirty': 2312, 'fellow': 2795, 'dying': 2476, 'lifting': 4091, 'teresa': 6725, 'package': 5014, 'dec': 2180, 'ld': 4032, 'bam': 1192, 'aid': 849, 'usmle': 7174, 'squishy': 6380, 'mwahs': 4635, 'hottest': 3479, 'g696ga': 3037, 'prominent': 5423, 'cheek': 1745, 'september': 5982, 'husband': 3532, 'hack': 3261, 'backdoor': 1176, 'fraction': 2955, 'neo69': 4715, '09050280520': 171, 'subscribe': 6520, 'dps': 2412, 'bcm': 1245, '8027': 627, 'norm': 4792, 'list': 4124, 'joanna': 3812, 'comingdown': 1891, 'replacement': 5680, 'murali': 4619, 'sts': 6492, 'engalnd': 2578, 'telly': 6713, 'mia': 4447, 'elliot': 2545, 'kissing': 3932, 'upto': 7147, '12mths': 290, '2price': 404, '100txt': 264, 'mth': 4600, 'tooth': 6930, '08001950382': 52, 'd3wv': 2120, 'wipro': 7481, 'matric': 4364, '850': 659, 'toa': 6890, 'payoh': 5095, '650': 566, '08718726970': 143, 'payments': 5094, 'fedex': 2787, 'reception': 5597, 'hate': 3322, 'consensus': 1952, 'entertain': 2593, 'delete': 2208, 'tag': 6640, 'wednesday': 7377, 'skype': 6169, 'laundry': 4021, 'underwear': 7101, 'bras': 1467, 'strewn': 6480, 'pillows': 5185, 'waheed': 7295, 'fathima': 2771, 'mmmm': 4510, 'weaknesses': 7361, 'pushes': 5478, 'knee': 3938, 'exposes': 2713, 'pulls': 5463, 'wicked': 7449, 'supports': 6578, 'srt': 6383, 'thnk': 6811, 'ps3': 5450, 'jontin': 3832, 'nearly': 4692, 'banned': 1202, 'beyond': 1315, 'biro': 1342, 'masters': 4352, '09058094594': 180, 'shell': 6038, 'unconsciously': 7093, 'avoiding': 1141, 'unhappy': 7109, 'excuse': 2685, 'jog': 3817, '0776xxxxxxx': 31, '18yrs': 319, '09061743811': 202, 'abta': 743, '326': 435, 'season': 5930, 'lark': 4005, '09090900040': 244, 'extreme': 2720, 'sic': 6105, '7mp': 612, '0870753331018': 90, 'fones': 2910, 'wild': 7460, 'stop2stop': 6456, 'uh': 7069, 'heads': 3343, 'lim': 4104, 'vday': 7206, 'parachute': 5045, 'placed': 5197, '80182': 626, '08452810073': 67, 'table': 6633, 'lambda': 3985, 'build': 1537, 'snowman': 6237, 'angels': 937, 'snowball': 6235, 'fights': 2818, 'ello': 2546, 'ikea': 3581, 'ofice': 4878, 'cn': 1848, 'duffer': 2463, 'grr': 3231, 'prescription': 5359, 'pharmacy': 5148, 'cook': 1978, 'electricity': 2543, '08715500022': 129, 'rpl': 5798, 'cnl': 1849, 'nor': 4789, 'fffff': 2805, 'kadeem': 3867, 'fujitsu': 3015, 'lifebook': 4085, 'scold': 5905, 'zhong': 7685, 'se': 5926, 'qing': 5491, 'act': 774, 'hypertension': 3542, 'wud': 7583, 'annoyin': 948, '08702490080': 81, '09066358152': 227, 'prompts': 5431, 'vpod': 7273, 'carry': 1655, 'disturbing': 2335, 'avatar': 1133, 'nigro': 4754, 'scratching': 5915, 'anyplaces': 970, 'stops': 6461, 'cleaning': 1818, 'priority': 5387, 'constantly': 1960, 'ecstasy': 2503, '09090204448': 243, 'minded': 4466, 'aå': 1156, 'minapn': 4464, 'ls278bb': 4222, 'flies': 2874, 'hittng': 3414, 'reflex': 5621, 'costa': 1999, 'sol': 6247, '09050090044': 170, 'toclaim': 6893, 'pobox334': 5242, 'stockport': 6447, 'costå': 2003, 'max10mins': 4371, 'lousy': 4201, 'cat': 1669, 'woken': 7518, 'hip': 3406, 'adewale': 792, 'aka': 864, 'egbon': 2523, 'ic': 3552, 'mary': 4345, 'deduct': 2192, 'wrks': 7570, 'monkey': 4549, 'asshole': 1079, 'grab': 3192, 'sliding': 6184, '09065394973': 223, 'payback': 5089, 'honeybee': 3447, 'sweetest': 6608, 'laughed': 4018, 'havnt': 3335, 'crack': 2031, 'gn': 3136, 'tescos': 6733, 'feathery': 2782, 'bowa': 1433, 'infra': 3646, 'nvm': 4837, 'gep': 3091, 'delhi': 2210, 'thinkin': 6801, '2006': 349, 'fifa': 2811, 'held': 3359, '87239': 677, 'boat': 1394, 'moms': 4543, 'shhhhh': 6043, 'related': 5639, 'arul': 1060, 'amk': 913, '09061743810': 201, 'length': 4059, 'fringe': 2990, 'distract': 2332, 'antha': 962, 'corrct': 1991, 'dane': 2137, 'basket': 1222, 'proof': 5433, 'rupaul': 5823, '61610': 559, '08712400602450p': 105, 'provided': 5445, 'tones2you': 6916, 'practising': 5332, 'curtsey': 2102, 'yeh': 7631, 'memory': 4421, 'converted': 1972, 'downloads': 2407, 'members': 4418, 'african': 821, 'soil': 6245, 'major': 4301, 'roles': 5778, 'outreach': 4988, 'mel': 4412, 'birth': 1343, '8lb': 694, '7oz': 613, 'brilliantly': 1493, 'forwarding': 2947, 'intention': 3678, 'visitors': 7253, 'rules': 5816, 'responsibility': 5712, 'bend': 1300, 'rule': 5815, 'thia': 6795, 'inlude': 3652, 'previews': 5373, 'freefone': 2968, '08006344447': 57, 'ambrith': 909, 'madurai': 4284, 'dha': 2262, 'marrge': 4339, 'kitty': 3935, 'shaved': 6030, 'natural': 4678, 'onwards': 4924, 'tactful': 6638, 'tscs': 7015, 'skillgame': 6161, '1winaweek': 340, '150ppermesssubscription': 307, 'theatre': 6772, 'obviously': 4855, 'eggs': 2525, 'pert': 5139, 'crammed': 2032, 'satsgettin': 5879, '47per': 494, 'lie': 4082, 'apologize': 988, 'pei': 5107, 'kid': 3914, 'boost': 1414, 'subtoitles': 6527, 'sitting': 6151, 'jot': 3836, 'cereals': 1698, 'gari': 3057, 'infernal': 3641, 'affair': 812, 'including': 3621, 'bold2': 1400, 'calicut': 1593, '09094100151': 245, 'cast': 1665, 'aom': 978, 'gbp5': 3074, 'box61': 1450, 'm60': 4259, '1er': 326, 'thkin': 6809, 'parco': 5051, 'nb': 4684, 'resubbing': 5720, 'shadow': 6011, 'breadstick': 1473, 'ahmad': 847, 'saeed': 5841, 'hallaq': 3278, '09066362220': 230, 'box97n7qp': 1452, 'purple': 5473, 'pink': 5188, 'lyk': 4252, 'yelow': 7634, 'bck': 1244, 'brown': 1512, 'giv': 3120, 'color': 1877, 'arranging': 1049, 'eldest': 2541, 'drugdealer': 2444, 'gender': 3081, 'wither': 7495, '23f': 361, '23g': 362, 'sleepwell': 6178, 'wondarfull': 7524, 'web2mobile': 7368, 'txt250': 7047, 'box139': 1438, 'la32wu': 3972, 'txtx': 7057, 'normally': 4795, 'onbus': 4909, 'donyt': 2387, 'latelyxxx': 4012, '85233': 663, 'mca': 4381, 'rich': 5745, 'official': 4875, 'flag': 2865, 'yer': 7637, '84199': 656, 'eng': 2576, 'box39822': 1445, 'w111wx': 7279, 'yor': 7653, 'stressed': 6478, 'jason': 3778, 'soooo': 6280, 'provider': 5446, 'tming': 6881, 'subs': 6518, 'cutest': 2111, 'dice': 2270, 'art': 1056, 'inclusive': 3622, '08700469649': 71, 'box420': 1447, 'howda': 3490, 'mathe': 4360, 'samachara': 5855, 'audrie': 1117, 'autocorrect': 1127, 'simulate': 6130, 'readiness': 5568, 'armand': 1039, 'vomiting': 7268, 'rub': 5808, 'feet': 2793, 'lara': 4002, 'supplies': 6575, 'clever': 1822, 'guesses': 3242, 'attach': 1099, '087123002209am': 102, 'med': 4399, 'stamped': 6393, '113': 274, 'bray': 1470, 'wicklow': 7450, 'eire': 2532, 'washob': 7335, 'nobbing': 4770, 'nickey': 4744, 'platt': 5208, 'ryan': 5829, 'vikky': 7237, 'idew': 3566, 'argh': 1029, 'spotty': 6365, 'province': 5447, 'sterling': 6435, 'looked': 4177, 'xam': 7593, 'hall': 3276, 'manage': 4313, 'hesitation': 3385, 'intha': 3689, 'ponnungale': 5273, 'ipaditan': 3709, 'rejected': 5638, 'shitload': 6058, 'diamonds': 2269, 'tessy': 6734, 'favor': 2777, 'nimya': 4758, 'shijas': 6045, 'aunty': 1123, 'china': 1774, 'noisy': 4774, 'needa': 4701, 'mcat': 4382, 'manual': 4325, 'reset': 5702, 'troubleshooting': 6998, 'b4u': 1160, '27': 372, 'marsms': 4343, 'b4utele': 1161, '08717168528': 132, 'strongly': 6488, 'sacrifice': 5838, 'beg': 1280, 'expecting': 2702, 'creativity': 2047, 'stifled': 6441, 'morphine': 4568, 'requirements': 5694, 'stayin': 6420, 'heåõs': 3388, '2getha': 386, 'buffy': 1535, 'satisfy': 5878, 'pix': 5192, 'qlynnbv': 5493, 'help08700621170150p': 3367, '30': 417, 'cld': 1816, 'prefer': 5347, 'nosh': 4799, 'waaaat': 7289, 'lololo': 4169, 'occupied': 4857, 'kindly': 3925, 'documents': 2357, 'submitted': 6515, 'stapati': 6399, 'miles': 4457, 'cutie': 2112, 'hills': 3400, 'killed': 3919, 'colleagues': 1870, 'sed': 5941, 'mood': 4560, 'minuts': 4481, 'latr': 4016, 'kidz': 3917, 'sofa': 6242, 'honesty': 3445, 'specialisation': 6321, 'labor': 3974, 'shakara': 6015, 'beggar': 1281, 'smashed': 6204, 'dent': 2223, 'crickiting': 2056, 'imin': 3594, 'dontmatter': 2386, 'urgoin': 7156, 'outl8r': 4986, 'yavnt': 7622, 'popping': 5284, 'ibuprofens': 3551, 'sip': 6139, 'ps': 5449, 'grown': 3230, 'chinatown': 1775, 'porridge': 5286, 'claypot': 1815, 'yam': 7618, 'fishhead': 2856, 'beehoon': 1272, 'tok': 6899, 'specific': 6324, 'jaklin': 3765, 'nearby': 4690, 'cliffs': 1825, '49': 497, 'ntwk': 4823, 'bundle': 1542, 'deals': 2173, 'avble': 1134, 'mf': 4444, 'pages': 5019, 'figures': 2820, 'ooh': 4925, '4got': 504, 'moseley': 4569, 'weds': 7378, 'thankyou': 6760, 'pending': 5110, 'aluable': 901, 'ffectionate': 2804, 'oveable': 4994, 'ternal': 6728, 'oble': 4853, 'ruthful': 5825, 'ntimate': 4821, 'atural': 1112, 'namous': 4662, 'textin': 6747, 'cousin': 2020, 'frndship': 2994, 'excuses': 2687, 'raji': 5528, 'legs': 4054, 'neck': 4697, 'amigos': 912, 'burn': 1549, 'progress': 5419, 'continue': 1968, 'holy': 3439, 'weren': 7407, 'arty': 1059, 'collages': 1869, 'tryin': 7011, 'billion': 1332, 'classes': 1812, '2hrs': 390, 'waliking': 7306, 'cartons': 1658, 'shelves': 6039, '08714712379': 121, 'distance': 2331, 'mirror': 4483, 'youre': 7659, 'turning': 7032, 'freak': 2960, 'ref': 5615, 'k718': 3865, '09065069120': 218, 'jod': 3816, 'keris': 3901, 'smidgin': 6208, 'belive': 1291, 'intentions': 3679, 'empty': 2565, 'slots': 6191, 'accordin': 760, 'discussed': 2324, 'knocking': 3942, 'como': 1897, 'listened2the': 4127, 'plaid': 5200, 'air1': 856, 'hilarious': 3398, 'boughtåóbraindanceåóa': 1431, 'ofstuff': 4880, 'aphexåõs': 983, 'abel': 728, 'nelson': 4714, 'temp': 6716, 'unmits': 7121, 'display': 2330, 'newspapers': 4737, 'soup': 6301, 'yummmm': 7673, 'management': 4314, 'puzzeles': 5484, 'include': 3619, '4goten': 505, 'scammers': 5894, 'regular': 5637, 'prem': 5349, '2morro': 396, 'passion': 5072, '09099726481': 251, 'dena': 2221, 'spoiled': 6351, 'r836': 5511, '09065069154': 219, 'threats': 6823, 'sales': 5852, 'shifad': 6044, 'raised': 5525, 'complaint': 1907, 'doctors': 2356, 'reminds': 5664, 'lounge': 4200, 'lk': 4140, 'role': 5777, 'lov': 4202, 'checked': 1741, 'splashmobile': 6347, 'subscrition': 6526, '300p': 421, 'dust': 2473, 'u4': 7063, '01223585334': 6, '2c': 379, 'shagged': 6013, '8552': 664, '2end': 382, '88877': 685, '88066': 680, '3pound': 460, 'watchin': 7344, 'meaningless': 4391, 'brdget': 1471, 'jones': 3831, 'inever': 3639, 'hype': 3541, '700': 595, 'studio': 6500, 'bedrm': 1270, 'unable': 7084, 'waited': 7300, 'velly': 7213, 'wkend': 7504, 'huge': 3508, 'marking': 4337, 'letters': 4072, 'mids': 4452, 'oranges': 4951, 'upd8': 7135, '2stoptx': 408, 'annie': 943, 'remind': 5660, '08718738034': 151, '21870000': 355, 'mailbox': 4297, 'messaging': 4438, '09056242159': 173, 'retrieve': 5727, 'va': 7184, 'hrishi': 3499, 'nothin': 4805, 'hanger': 3292, 'poem': 5254, 'cheer': 1746, 'tear': 6695, 'duchess': 2458, 'cornwall': 1989, '008704050406': 3, 'arrow': 1054, 'bags': 1181, 'blanket': 1361, '08718726971': 144, 'tddnewsletter': 6686, 'emc1': 2557, 'thedailydraw': 6773, 'dozens': 2411, 'prizeswith': 5396, 'significant': 6115, 'waqt': 7328, 'pehle': 5106, 'naseeb': 4670, 'zyada': 7691, 'kisi': 3929, 'ko': 3948, 'kuch': 3961, 'nahi': 4651, 'milta': 4462, 'zindgi': 7686, 'wo': 7516, 'jo': 3811, 'hum': 3515, 'sochte': 6240, 'jeetey': 3790, 'worse': 7551, 'stalking': 6392, 'dan': 2132, 'reminded': 5661, 'varaya': 7197, 'elaya': 2540, '09066368753': 237, '97n7qp': 707, 'anand': 932, 'beach': 1254, 'expected': 2701, 'aww': 1150, 'jez': 3804, 'iscoming': 3723, 'todo': 6896, 'workand': 7540, 'whilltake': 7437, 'zogtorius': 7688, 'iåõve': 3755, 'staring': 6401, 'whether': 7434, 'financial': 2837, 'alian': 878, 'or2optout': 4947, 'hv9d': 3537, 'posible': 5292, 'century': 1696, 'cm': 1845, 'frwd': 3005, 'unnecessarily': 7122, 'affectionate': 815, 'sorts': 6291, 'restrictions': 5719, 'buddys': 1530, '80082': 621, '08712402902': 110, 'owned': 5006, 'possessive': 5296, 'clarification': 1808, 'spook': 6357, 'halloween': 3279, '08701417012150p': 75, 'issue': 3730, 'weigh': 7387, 'fantasy': 2762, 'football': 2916, 'sky': 6167, 'gamestar': 3048, 'active': 779, '250k': 368, 'scoring': 5909, '88088': 681, 'coimbatore': 1864, 'expired': 2707, 'monoc': 4553, 'monos': 4554, 'polyc': 5267, 'stream': 6475, '0871212025016': 100, 'opinions': 4936, 'categories': 1673, 'measure': 4395, 'ethnicity': 2635, 'census': 1693, 'transcribing': 6969, 'propsd': 5440, 'gv': 3254, 'lv': 4247, 'lttrs': 4227, 'threw': 6825, 'thm': 6810, 'aproach': 1013, 'dt': 2454, 'truck': 7001, 'speeding': 6330, 'wn': 7513, 'instantly': 3671, 'thy': 6843, 'lived': 4136, 'happily': 3305, '2gthr': 389, 'drinking': 2429, 'evrydy': 2674, 'paragon': 5046, 'arent': 1024, 'cakes': 1588, 'bluff': 1390, 'impossible': 3604, 'draws': 2420, 'goodmate': 3164, 'sary': 5872, 'asusual': 1089, 'cheered': 1747, 'franyxxxxx': 2958, 'batt': 1233, 'added': 788, 'pussy': 5479, 'becausethey': 1264, '09058098002': 187, 'pobox1': 5238, 'w14rg': 7280, 'responce': 5708, 'happend': 3299, 'piece': 5178, 'wiskey': 7491, 'brandy': 1466, 'rum': 5817, 'gin': 3114, 'vodka': 7261, 'scotch': 5910, 'shampain': 6021, 'kudi': 3962, 'yarasu': 7621, 'dhina': 2264, 'vaazhthukkal': 7185, 'gained': 3041, 'kg': 3907, 'sugar': 6541, 'pressure': 5366, 'limits': 4106, 'dumb': 2464, 'thangam': 6755, 'okey': 4892, 'doke': 2376, 'dressed': 2425, 'laying': 4028, 'kills': 3921, 'neshanth': 4717, 'byatch': 1577, 'whassup': 7419, 'kay': 3886, 'roger': 5776, 'cl': 1803, 'nasty': 4671, 'filthyguys': 2832, 'slo': 6189, '4msgs': 508, 'wasted': 7339, 'chiong': 1780, 'christ': 1791, 'dialogue': 2268, 'reltnship': 5650, 'solve': 6250, 'murdered': 4621, 'police': 5262, 'questioned': 5499, 'cooking': 1981, 'gardener': 3056, 'vegetables': 7209, 'maid': 4295, 'neighbour': 4712, 'murderer': 4622, 'brilliant': 1492, 'pose': 5290, 'comb': 1882, 'dryer': 2452, 'fps': 2953, 'computational': 1919, 'science': 5904, 'push': 5476, 'answered': 956, 'madam': 4279, 'disturbance': 2334, 'dlf': 2345, 'premarica': 5350, 'rgds': 5741, 'gotto': 3185, '220cm2': 359, 'settle': 5995, 'err': 2617, '8pm': 696, 'bloo': 1380, 'hitter': 3413, 'offline': 4877, 'anjola': 941, 'asjesus': 1068, 'wrote': 7575, 'indians': 3635, 'swiss': 6617, 'directors': 2310, 'lac': 3975, 'crore': 2060, 'deposited': 2230, 'taxless': 6677, 'budget': 1531, 'jobs': 3814, 'lane': 3993, 'suply': 6572, 'projects': 5421, 'citizen': 1800, 'imf': 3592, 'blocked': 1373, 'politicians': 5263, 'rights': 5752, 'corrupt': 1994, 'itna': 3737, 'karo': 3881, 'ki': 3908, 'pura': 5468, 'padhe': 5017, 'torrents': 6940, 'particularly': 5061, 'slowing': 6195, 'commit': 1894, 'random': 5537, '83370': 647, 'trivia': 6995, 'rightio': 5750, 'brum': 1518, 'donno': 2383, 'scorable': 5906, 'paranoid': 5048, 'brin': 1494, 'properly': 5436, 'sheet': 6034, 'complain': 1905, 'bettr': 1312, 'bsnl': 1522, 'offc': 4868, 'payed': 5090, 'suganya': 6540, 'dessert': 2246, 'abeg': 727, 'sponsors': 6355, 'onum': 4923, 'poet': 5255, 'imagination': 3590, 'rr': 5800, 'famamus': 2752, '630': 563, 'sry': 6384, 'furniture': 3030, 'lock': 4156, 'locks': 4157, 'key': 3903, 'jenne': 3793, 'easiest': 2489, 'barcelona': 1208, 'ru': 5807, 'sppok': 6367, '09066612661': 239, 'complementary': 1908, 'wa14': 7288, '2px': 405, 'pansy': 5036, 'jungle': 3855, 'kanji': 3877, 'srs': 6381, 'drizzling': 2436, 'appointments': 1002, 'shoving': 6086, 'papers': 5042, 'greetings': 3217, 'excused': 2686, 'drama': 2415, 'struggling': 6491, 'strange': 6473, 'ego': 2526, 'necessity': 4696, 'reppurcussions': 5688, 'released': 5645, 'cosign': 1997, 'hvae': 3538, '09061701444': 194, 'acl03530150pm': 770, 'hcl': 3336, 'requires': 5695, 'freshers': 2978, 'suman': 6551, 'telephonic': 6708, 'indyarocks': 3638, 'dai': 2128, 'resume': 5724, 'cars': 1657, 'bids': 1324, 'reliant': 5646, 'fwiw': 3034, 'afford': 818, 'happens': 3303, 'whr': 7446, 'maga': 4286, 'sq825': 6376, 'arrival': 1051, 'yunny': 7676, 'citylink': 1802, 'er': 2611, 'props': 5439, 'pleasant': 5217, 'statements': 6415, '6230': 561, '83383': 648, 'pobox114': 5239, '14tcr': 299, 'bognor': 1398, 'splendid': 6348, 'ktv': 3960, 'misplaced': 4486, 'computers': 1922, 'mmmmm': 4511, 'medicine': 4401, 'begun': 1285, 'registration': 5634, 'permanent': 5126, 'residency': 5703, 'plenty': 5222, 'relatives': 5642, 'deliver': 2212, 'risks': 5763, 'benefits': 1303, 'amount': 920, 'predicting': 5345, 'accumulation': 765, 'programs': 5418, 'belongs': 1296, 'fated': 2769, 'shoranur': 6070, 'incident': 3618, 'fuelled': 3014, 'concern': 1928, 'prior': 5386, 'grief': 3218, 'violence': 7242, 'environment': 2605, 'terrific': 6730, 'text82228': 6741, 'txt82228': 7049, 'honestly': 3444, 'promptly': 5430, 'burnt': 1552, 'advice': 806, 'snap': 6228, 'quizclub': 5507, '80122300p': 623, 'rwm': 5828, '08704050406': 83, 'gmw': 3135, 'connected': 1948, 'someplace': 6257, 'goods': 3170, 'pressies': 5365, 'dr': 2413, 'superior': 6570, 'ultimately': 7076, 'tor': 6938, 'motive': 4576, 'tui': 7023, 'achieve': 767, 'korli': 3956, 'dock': 2353, 'rolled': 5779, 'newscaster': 4735, 'dabbles': 2123, 'flute': 2894, 'behind': 1287, 'wheel': 7424, 'amazing': 907, 'picsfree1': 5174, 'vid': 7229, 'keyword': 3905, 'ruin': 5813, 'erm': 2615, 'the4th': 6769, 'october': 4863, '83435': 649, 'elaborating': 2537, 'safety': 5844, 'aspects': 1077, 'issues': 3731, 'tarot': 6666, '85555': 665, 'department': 2225, 'ours': 4977, 'hr': 3498, 'conform': 1942, 'horniest': 3464, 'instructions': 3674, '3lp': 456, 'flow': 2887, 'developed': 2257, 'ovarian': 4993, 'cysts': 2119, 'bc': 1242, 'shrink': 6097, 'upping': 7143, 'grams': 3196, 'timin': 6861, 'apes': 981, 'death': 2178, 'ibm': 3549, 'hp': 3495, 'toshiba': 6943, 'gosh': 3175, 'spose': 6363, 'rimac': 5754, 'arestaurant': 1025, 'squid': 6379, 'dosomething': 2395, 'wrk': 7568, 'dabooks': 2124, 'hrs': 3500, 'eachother': 2479, 'luckily': 4230, 'starring': 6402, 'restocked': 5717, 'knock': 3941, 'tkls': 6876, 'stoptxtstopå': 6463, 'innocent': 3656, 'mental': 4424, 'smoothly': 6220, 'hoped': 3457, 'bills': 1333, 'challenging': 1707, '2marrow': 393, 'hon': 3442, 'breakfast': 1476, 'hamper': 3281, 'cc100p': 1682, 'reality': 5574, 'above': 738, '0870737910216yrs': 87, 'unni': 7123, 'lacking': 3976, 'particular': 5060, 'dramastorm': 2416, 'forfeit': 2927, 'treated': 6983, 'digi': 2292, 'fab': 2727, 'coupla': 2014, 'wks': 7509, '077xxx': 34, '09066362206': 229, 'sundayish': 6559, 'prasad': 5336, 'tiwary': 6874, 'rcb': 5553, 'battle': 1235, 'bang': 1196, 'kochi': 3949, 'cancer': 1624, 'checkup': 1744, 'pap': 5039, 'smear': 6205, 'gobi': 3143, 'arts': 1058, 'pandy': 5032, '4w': 516, 'technologies': 6701, 'olowoyey': 4903, 'usc': 7165, 'edu': 2510, 'argentina': 1028, 'secretary': 5937, 'taxt': 6678, 'massage': 4348, 'tie': 6847, 'pos': 5289, 'lool': 4181, 'dollar': 2378, 'pull': 5461, 'spending': 6336, 'shaking': 6018, 'booty': 1415, 'lil': 4102, 'scarcasim': 5895, 'naal': 4646, 'eruku': 2620, 'w4': 7285, '5wq': 551, 'remains': 5653, 'bro': 1502, 'amongst': 918, 'bros': 1507, 'impressively': 3609, 'sensible': 5975, '69696': 575, 'response': 5711, 'nalla': 4654, 'obedient': 4849, 'ft': 3007, 'combination': 1883, 'needy': 4706, 'pouts': 5317, 'stomps': 6449, 'northampton': 4796, 'abj': 733, 'serving': 5991, 'playng': 5215, 'mcfly': 4383, 'ab': 725, 'sara': 5867, 'jorge': 3834, 'smith': 6214, 'anna': 942, 'nagar': 4649, 'yupz': 7680, 'ericson': 2613, 'der': 2233, 'luks': 4235, 'modl': 4532, 'cheesy': 1751, 'frosty': 3004, 'witin': 7498, 'sports': 6361, 'fans': 2759, '0870141701216': 76, '120p': 282, '10th': 271, 'sept': 5981, '09050000555': 162, 'ba128nnfwfly150ppm': 1163, 'shirts': 6053, 'nudist': 4825, 'themed': 6778, 'pump': 5464, 'petrol': 5144, 'feb': 2784, 'ignore': 3577, 'evr': 2670, 'signal': 6113, 'neither': 4713, 'unusual': 7132, 'hugs': 3511, 'snogs': 6232, 'west': 7411, 'palm': 5028, 'printing': 5385, 'handing': 3285, 'uks': 7075, 'fastest': 2767, 'growing': 3229, '83021': 641, 'chase': 1728, 'stated': 6413, 'tariffs': 6665, '2stoptxt': 409, 'perpetual': 5129, 'dd': 2167, 'steam': 6428, 'reg': 5627, 'pract': 5327, 'flung': 2892, 'public': 5458, 'govt': 3186, 'instituitions': 3673, 'justbeen': 3860, 'overa': 4996, 'brains': 1463, 'mush': 4624, 'tunde': 7027, 'missions': 4493, 'luxury': 4246, 'canary': 1621, '20m12aq': 352, 'ûï': 7706, 'eh74rr': 2528, 'sleepy': 6179, 'dare': 2141, 'ben': 1299, 'mag': 4285, 'avo': 1139, 'middle': 4450, 'crashed': 2036, 'cuddled': 2089, 'chachi': 1703, 'pl': 5195, 'tiz': 6875, 'kanagu': 3876, 'prices': 5378, 'ringing': 5756, 'houseful': 3484, 'brats': 1468, 'pulling': 5462, 'diwali': 2340, 'tick': 6844, 'onion': 4916, 'derp': 2235, 'abusers': 746, 'lipo': 4122, 'netflix': 4720, 'thgt': 6794, 'clash': 1810, 'arr': 1047, 'oscar': 4968, 'rebtel': 5586, 'firefox': 2851, 'lower': 4217, '69969': 583, 'bcmsfwc1n3xx': 1248, 'impressed': 3607, 'funs': 3029, 'footy': 2920, 'stadium': 6387, 'large': 4003, 'coca': 1855, 'cola': 1867, 'dark': 2142, 'teenager': 6703, 'exhaust': 2692, 'replacing': 5681, 'mittelschmertz': 4502, 'paracetamol': 5044, 'pee': 5104, 'arrived': 1053, 'cthen': 2079, 'enuff': 2603, 'conclusion': 1931, 'contents': 1966, 'references': 5617, 'success': 6528, 'ûªve': 7705, 'instant': 3670, '08715203028': 125, '9th': 716, 'rugby': 5812, 'affidavit': 817, 'twiggs': 7040, 'division': 2338, 'courtroom': 2019, 'creep': 2051, 'showers': 6091, 'possessiveness': 5297, 'poured': 5315, 'lies': 4083, 'golden': 3153, 'lasting': 4009, 'mobs': 4525, 'breathe1': 1481, 'crazyin': 2042, 'sleepingwith': 6176, 'finest': 2842, 'ymca': 7649, 'pobox365o4w45wq': 5244, 'wtc': 7578, 'weiyi': 7395, 'property': 5437, 'interflora': 3683, 'åòit': 7695, 'flowers': 2889, '505060': 522, 'teeth': 6704, 'paining': 5024, 'romcapspam': 5781, 'presence': 5360, 'outgoing': 4985, 'maggi': 4288, 'mee': 4403, '08712103738': 99, 'cough': 2005, '09058099801': 188, 'b4190604': 1158, '7876150ppm': 608, 'bbd': 1239, 'pooja': 5275, 'pimples': 5186, 'sweatter': 6606, 'ambitious': 908, 'miiiiiiissssssssss': 4454, 'tunji': 7029, 'iz': 3750, 'yellow': 7633, 'misscall': 4488, 'frndz': 2997, '6missed': 589, 'frog': 3000, 'mad1': 4277, 'mad2': 4278, '88888': 686, 'tall': 6659, 'doubt': 2401, 'handle': 3286, 'note': 4802, 'robs': 5770, 'avenge': 1136, 'japanese': 3776, 'proverb': 5444, 'strike': 6482, 'choices': 1785, 'toss': 6944, 'coin': 1865, 'gudni8': 3238, 'dancin': 2135, 'explicitly': 2711, 'nora': 4790, 'gayle': 3067, 'crucify': 2065, 'moved': 4580, 'butting': 1564, 'freedom': 2967, 'vs': 7275, 'cedar': 1687, 'twenty': 7038, 'durham': 2470, 'reserved': 5700, 'seat': 5931, 'porn': 5285, '69855': 577, 'stopbcm': 6457, 'sf': 6006, 'painting': 5025, 'wall': 7312, 'printer': 5384, 'groovy': 3224, 'groovying': 3225, 'harish': 3314, 'transfred': 6974, 'acnt': 771, 'nowadays': 4815, 'showrooms': 6093, 'shaping': 6025, 'attending': 1106, 'talks': 6658, 'probs': 5405, 'doinat': 2373, 'callon': 1608, 'swatch': 6602, 'ganesh': 3050, 'dress': 2424, 'pdate_now': 5099, 'yhl': 7644, 'collecting': 1873, 'configure': 1938, 'trips': 6992, 'ûªm': 7703, 'ûªt': 7704, 'anal': 930, 'pears': 5103, 'helloooo': 3365, 'welcomes': 7397, 'celebrate': 1689, 'such': 6531, 'oooooh': 4927, '09058094454': 177, '54': 537, 'resubmit': 5721, 'expiry': 2709, 'weåõve': 7418, '2geva': 387, 'mint': 4477, 'humans': 3516, 'studyn': 6503, 'wuld': 7584, 'everyboy': 2654, 'xxxxxxxx': 7610, 'solved': 6251, '1thing': 337, 'answr': 960, 'liquor': 4123, 'flaked': 2866, 'loko': 4166, '730': 599, 'lined': 4109, 'tm': 6880, 'ing': 3648, 'laughs': 4020, 'fireplace': 2852, 'icon': 3559, '08712400200': 104, 'fifth': 2813, 'woozles': 7535, 'weasels': 7365, '08718723815': 140, 'gary': 3059, 'machines': 4271, 'fucks': 3012, 'sake': 5847, 'ignorant': 3576, 'mys': 4640, 'bruce': 1517, 'downs': 2409, 'fletcher': 2873, '08714714011': 124, 'teaching': 6692, 'bowls': 1435, 'cozy': 2025, 'buzzzz': 1572, 'chest': 1757, 'vibrator': 7226, 'shake': 6016, 'covers': 2023, 'trends': 6987, 'pros': 5441, 'cons': 1951, 'brief': 1489, 'description': 2237, 'nuclear': 4824, 'fusion': 3032, 'history': 3409, 'iter': 3736, 'jet': 3801, 'nowhere': 4816, 'ikno': 3582, 'doesdiscount': 2361, 'shitinnit': 6057, 'jabo': 3758, 'abi': 730, 'slower': 6194, 'maniac': 4323, 'sapna': 5865, 'manege': 4321, 'hogidhe': 3427, 'chinnu': 1779, 'swalpa': 6599, 'agidhane': 839, 'footbl': 2917, 'crckt': 2043, 'swell': 6612, 'tim': 6857, 'bollox': 1401, 'tol': 6901, 'hang': 3291, 'ingredients': 3649, 'pocy': 5252, 'bell': 1292, 'non': 4782, '4qf2': 510, 'senor': 5972, 'giggle': 3110, 'possibly': 5300, 'person2die': 5133, 'nvq': 4838, 'professional': 5412, 'tiger': 6849, 'woods': 7532, 'reboot': 5584, 'grinder': 3219, 'pt2': 5454, 'buyers': 1568, 'figuring': 2821, 'entirely': 2597, 'understood': 7100, 'bottom': 1429, 'phoned': 5160, 'disconnected': 2320, 'onluy': 4918, 'matters': 4367, 'offcampus': 4869, 'improved': 3611, 'riley': 5753, 'ew': 2675, 'wesley': 7409, 'lingo': 4113, '400mins': 468, 'j5q': 3756, 'hm': 3419, '69200': 573, 'chrgd': 1790, '2exit': 383, 'salon': 5853, 'approaching': 1006, 'sankranti': 5863, 'republic': 5690, 'shivratri': 6060, 'ugadi': 7066, 'fools': 2914, 'independence': 3630, 'teachers': 6690, 'childrens': 1769, 'festival': 2799, 'dasara': 2151, 'mornings': 4567, 'afternoons': 826, 'evenings': 2646, 'rememberi': 5657, 'raj': 5526, 'joys': 3839, 'lifeis': 4086, 'daywith': 2164, 'somewheresomeone': 6266, 'tosend': 6942, 'greeting': 3216, 'selflessness': 5959, 'initiate': 3650, 'tallent': 6660, 'wasting': 7340, 'payment': 5093, 'portal': 5287, 't4get2text': 6630, 'lennon': 4060, 'bothering': 1428, 'crab': 2030, 'shore': 6071, 'waves': 7354, 'footprints': 2919, 'clearing': 1821, 'fox': 2952, 'frndsship': 2996, 'dwn': 2475, 'slaaaaave': 6171, 'summon': 6554, '33': 436, 'changes': 1715, 'appendix': 994, 'range': 5542, 'slob': 6190, 'smiled': 6210, 'topic': 6934, 'webpage': 7371, 'yeesh': 7630, 'unsubscribed': 7129, 'hunks': 3522, 'gotbabes': 3181, 'subscriptions': 6524, 'gopalettan': 3173, 'participate': 5059, 'admin': 794, 'abroad': 739, 'xxsp': 7602, 'visionsms': 7249, 'stopcost': 6458, '08712400603': 106, 'agent': 836, 'goodies': 3163, 'mat': 4353, 'ay': 1154, 'andros': 936, 'steal': 6426, 'isaiah': 3722, 'meets': 4408, 'foot': 2915, 'penis': 5111, 'expert': 2706, 'sigh': 6109, 'thinl': 6804, 'importantly': 3602, 'tightly': 6851, 'wnevr': 7514, 'fal': 2745, 'vth': 7276, 'books': 1411, 'fals': 2751, 'yen': 7635, 'madodu': 4281, 'nav': 4683, 'pretsorginta': 5369, 'nammanna': 4661, 'pretsovru': 5370, 'alwa': 902, 'eveb': 2643, 'window': 7469, 'lord': 4185, 'rings': 5757, 'soundtrack': 6299, 'stdtxtrate': 6424, 'sg': 6007, 'phyhcmk': 5165, 'pc1323': 5098, 'emigrated': 2560, 'hopeful': 3458, 'olol': 4902, 'stagwood': 6389, 'winterstone': 7480, 'victors': 7228, 'hill': 3399, 'jp': 3840, 'mofo': 4535, 'pathaya': 5081, 'enketa': 2586, 'maraikara': 4329, 'priest': 5379, 'reserves': 5701, 'intrude': 3693, 'walkabout': 7308, 'cashed': 1662, 'announced': 946, 'blog': 1374, '28th': 376, 'removal': 5666, '08708034412': 92, 'footie': 2918, 'blow': 1384, 'phil': 5153, 'neville': 4728, 'abbey': 726, 'returning': 5730, 'knowing': 3944, 'punj': 5467, 'str8': 6470, 'classic': 1813, '200p': 351, 'thurs': 6839, 'cancelled': 1623, 'sacked': 5837, 'lookatme': 4176, 'clip': 1826, '35p': 440, 'mmsto': 4513, '32323': 434, 'barred': 1214, 'twat': 7036, 'dungerees': 2466, 'decking': 2189, 'punch': 5465, 'mentionned': 4427, 'vat': 7203, 'planned': 5204, 'grl': 3222, 'hogolo': 3429, 'kodstini': 3950, 'agalla': 831, 'madstini': 4283, 'hogli': 3428, 'mutai': 4631, 'eerulli': 2519, 'kodthini': 3951, 'thasa': 6763, 'messed': 4439, 'tex': 6738, 'mecause': 4398, 'werebored': 7406, 'okden': 4891, 'uin': 7071, 'soundåõs': 6300, 'likeyour': 4100, 'gr8fun': 3191, 'updat': 7136, 'countinlots': 2012, 'xxxxx': 7607, 'tagged': 6641, 'count': 2010, 'challenge': 1706, 'hdd': 3337, 'casing': 1664, 'opened': 4930, 'describe': 2236, '09053750005': 172, '310303': 430, '08718725756': 141, '140ppm': 295, 'asus': 1088, 'randomly': 5539, 'reformat': 5622, 'otside': 4974, 'plumbers': 5227, 'tape': 6664, 'wrench': 7564, 'bcum': 1250, 'films': 2829, 'appeal': 992, 'thriller': 6826, 'director': 2309, 'size': 6155, 'elephant': 2544, 'shove': 6085, 'um': 7078, 'cr': 2027, 'pookie': 5276, 'wouldn': 7560, 'nri': 4818, '08712101358': 98, 'x2': 7589, 'itåõs': 3744, 'deserve': 2239, 'tight': 6850, 'lick': 4079, 'diddy': 2275, 'neighbor': 4710, 'toothpaste': 6931, 'av': 1128, 'poking': 5259, 'everyday': 2655, 'curious': 2098, 'coccooning': 1856, 'auto': 1126, 'mus': 4623, 'newquay': 4733, 'postcard': 5303, '1im': 328, 'talkin': 6656, 'bread': 1472, 'windy': 7472, '09066358361': 228, 'y87': 7613, 'mahal': 4293, 'tirunelvai': 6867, 'dusk': 2472, 'puzzles': 5485, 'x29': 7590, '09065989180': 224, 'stairs': 6390, 'phews': 5152, 'relation': 5640, 'luvs': 4244, 'praying': 5341, 'recycling': 5611, 'earning': 2485, 'toledo': 6903, 'ding': 2303, 'tai': 6643, 'feng': 2798, 'reservations': 5698, 'swimsuit': 6615, 'allowed': 888, 'necessary': 4695, 'squeeeeeze': 6378, 'hug': 3507, 'lik': 4095, 'frndshp': 2995, 'luvd': 4243, 'asks': 1074, 'volcanoes': 7265, 'erupt': 2621, 'arise': 1035, 'hurricanes': 3526, 'sway': 6603, 'aroundn': 1046, 'disasters': 2315, 'lighters': 4093, 'lasagna': 4006, 'chickened': 1763, 'messaged': 4436, 'woould': 7534, '08718726978': 145, 'deus': 2255, '44': 479, '7732584351': 606, '3510i': 439, 'deliveredtomorrow': 2214, '300': 418, 'tap': 6663, 'spile': 6340, 'broad': 1503, 'canal': 1620, 'engin': 2579, 'edge': 2505, 'raviyog': 5549, 'peripherals': 5125, 'bhayandar': 1320, 'east': 2491, 'sunoco': 6562, 'howard': 3489, 'musical': 4627, 'plate': 5207, 'leftovers': 4052, 'starving': 6410, 'cooked': 1979, 'cheat': 1736, 'fatty': 2773, 'badrith': 1179, 'owe': 5003, 'checkin': 1742, 'block': 1372, 'armenia': 1040, 'swann': 6600, '09058097189': 185, '09061221066': 193, 'fromm': 3002, '330': 437, '1120': 273, '1205': 281, 'smoking': 6219, 'wylie': 7588, 'justify': 3861, 'ruining': 5814, 'meds': 4402, 'hunt': 3524, 'in2': 3614, '5226': 532, 'hava': 3327, '1131': 275, 'rct': 5555, 'thnq': 6812, 'adrian': 800, 'vatian': 7204, 'everyones': 2657, 'babysitting': 1173, 'gonnamissu': 3159, 'buttheres': 1563, 'aboutas': 737, 'merememberin': 4431, 'asthere': 1084, 'ofsi': 4879, 'breakin': 1477, 'yaxx': 7623, 'ee': 2516, 'poortiyagi': 5280, 'odalebeku': 4864, 'hanumanji': 3297, 'hanuman': 3296, 'bajarangabali': 1184, 'maruti': 4344, 'pavanaputra': 5085, 'sankatmochan': 5862, 'ramaduth': 5535, 'mahaveer': 4294, 'janarige': 3770, 'ivatte': 3745, 'kalisidare': 3872, 'olage': 4897, 'ondu': 4912, 'keluviri': 3895, 'maretare': 4331, 'inde': 3628, 'dodda': 2358, 'problum': 5404, 'nalli': 4655, 'siguviri': 6118, 'idu': 3570, 'matra': 4363, 'neglet': 4709, 'easily': 2490, 'ijust': 3580, 'talked': 6655, 'opps': 4939, 'gei': 3080, 'tron': 6996, 'dl': 2343, 'selfish': 5958, 'spiffing': 6339, 'workage': 7539, 'craving': 2039, 'supose': 6573, 'babysit': 1172, 'spaces': 6309, 'embassy': 2556, 'lightly': 4094, 'custom': 2106, 'checkboxes': 1740, 'sac': 5834, 'batsman': 1232, 'yetty': 7642, 'jiayin': 3807, '09050000928': 164, 'pobox45w2tg150p': 5245, 'forgotten': 2934, 'reverse': 5735, 'cheating': 1737, 'mathematics': 4361, '2waxsto': 411, 'basic': 1220, 'emailed': 2552, 'yifeng': 7646, 'slurp': 6197, 'minimum': 4471, '3miles': 457, 'brainless': 1462, 'doll': 2377, 'vehicle': 7211, 'sariyag': 5871, 'madoke': 4282, 'barolla': 1213, '07090201529': 23, 'postponed': 5306, 'stocked': 6446, 'elaine': 2538, 'tiime': 6854, 'tears': 6696, 'afternon': 824, 'interviews': 3687, 'resizing': 5704, '09066364349': 233, 'box434sk38wp150ppm18': 1449, 'opposed': 4938, 'drunken': 2449, 'billed': 1330, 'shortcode': 6074, '83332': 645, '08081263000': 59, 'refunded': 5625, 'somerset': 6258, 'overtime': 4999, 'nigpun': 4753, 'dismissial': 2329, 'screwd': 5920, '08712402972': 111, 'bull': 1539, 'floating': 2883, 'mess': 4434, '09058095201': 184, 'heehee': 3357, 'arithmetic': 1037, 'percentages': 5116, 'chillaxin': 1772, 'das': 2150, 'iknow': 3583, 'wellda': 7399, 'peril': 5123, 'studentfinancial': 6498, 'crisis': 2058, 'monster': 4555, '____': 718, 'ths': 6835, 'ias': 3545, 'obey': 4851, 'uhhhhrmm': 7070, 'mb': 4379, '600': 554, '400': 467, 'deltomorrow': 2216, '09066368470': 236, '24m': 365, 'smartcall': 6201, '68866': 571, 'subscriptn3gbp': 6525, '08448714184': 63, 'landlineonly': 3990, 'mths': 4601, 'callback': 1598, 'orno': 4964, 'fink': 2848, '09099726553': 252, 'promised': 5425, 'carlie': 1650, 'minmobsmore': 4472, 'lkpobox177hp51fl': 4141, 'youphone': 7657, 'athome': 1093, 'youwanna': 7665, 'jack': 3759, 'helpful': 3370, 'pretend': 5368, 'hypotheticalhuagauahahuagahyuhagga': 3543, 'brainy': 1464, 'occasion': 4856, 'celebrated': 1690, 'reflection': 5620, 'values': 7196, 'desires': 2241, 'affections': 816, 'traditions': 6961, 'cantdo': 1629, 'anythingtomorrow': 973, 'myparents': 4639, 'aretaking': 1026, 'outfor': 4984, 'katexxx': 3883, 'level': 4073, 'gate': 3061, '89105': 689, 'wedding': 7375, 'lingerie': 4112, 'bridal': 1486, 'petticoatdreams': 5145, 'weddingfriend': 7376, 'board': 1393, 'overheating': 4998, 'reslove': 5705, 'inst': 3666, 'western': 7412, 'outta': 4992, 'notixiquating': 4810, 'laxinorficated': 4026, 'bambling': 1193, 'entropication': 2600, 'oblisingately': 4854, 'opted': 4941, 'masteriastering': 4351, 'amplikater': 922, 'fidalfication': 2807, 'champlaxigating': 1709, 'atrocious': 1098, 'wotz': 7557, 'junna': 3856, 'knickers': 3940, '01223585236': 5, 'nikiyu4': 4756, 'accident': 755, 'a30': 720, 'divert': 2337, 'wadebridge': 7291, 'vill': 7238, '1030': 266, 'orc': 4952, 'bloomberg': 1383, '447797706009': 483, 'careers': 1644, 'seeking': 5945, 'priscilla': 5388, 'wisdom': 7483, 'inform': 3643, 'wherre': 7433, 'phone750': 5159, 'resolution': 5706, 'frank': 2957, 'logoff': 4164, 'parkin': 5057, 'kent': 3897, 'vale': 7188, 'cann': 1626, 'asa': 1063, '09050000878': 163, 'wan2': 7319, 'westlife': 7413, 'm8': 4260, 'unbreakable': 7086, 'untamed': 7130, 'unkempt': 7117, '83049': 642, 'prince': 5381, 'charming': 1725, 'mention': 4425, 'served': 5987, 'arnt': 1044, 'xxxxxxxxxxxxxx': 7611, 'dorothy': 2393, 'kiefer': 3918, 'granite': 3201, 'explosive': 2712, 'nasdaq': 4669, 'symbol': 6624, 'cdgt': 1685, 'alle': 885, 'mone': 4546, 'eppolum': 2608, 'allalo': 883, 'fundamentals': 3024, '1mega': 330, 'pixels': 5193, '3optical': 459, '5digital': 540, 'dooms': 2389, 'noiåõm': 4775, 'js': 3841, 'burgundy': 1547, 'captaining': 1634, 'base': 1217, 'placement': 5198, 'amrita': 924, 'profile': 5414, 'bpo': 1459, 'nighters': 4750, 'persevered': 5130, 'regretted': 5636, 'wasnåõt': 7337, 'spouse': 6366, 'pmt': 5234, 'sumthin': 6555, '4give': 503, 'shldxxxx': 6062, 'scenario': 5898, 'spun': 6374, 'wrld': 7571, '09071517866': 242, '150ppmpobox10183bhamb64xe': 309, 'pounded': 5313, 'lion': 4117, 'devouring': 2260, 'airtel': 858, 'broadband': 1504, 'processed': 5408, 'installation': 3668, 'tensed': 6723, 'coughing': 2006, 'warned': 7331, 'sprint': 6372, 'prolly': 5422, 'gower': 3187, 'åômorrow': 7696, 'åð': 7693, 'chik': 1764, 'filth': 2830, '69669': 574, 'saristar': 5870, 'e14': 2477, '9yt': 717, '08701752560': 78, '450p': 488, 'stop2': 6455, '420': 475, '9061100010': 700, 'wire3': 7482, '1st4terms': 334, 'mobcudb': 4518, 'sabarish': 5833, 'jaya': 3781, '09050000460': 161, 'j89': 3757, 'box245c2150pm': 1440, 'inpersonation': 3659, 'flea': 2872, 'forums': 2944, 'banneduk': 1203, 'highest': 3397, 'maximum': 4374, '71': 596, 'taj': 6645, 'lesser': 4066, 'known': 3945, 'facts': 2733, 'mumtaz': 4616, 'shahjahan': 6014, 'wifes': 7455, 'arises': 1036, 'hari': 3313, '69101': 572, 'rtf': 5804, 'sphosting': 6338, 'webadres': 7369, 'geting': 3095, 'incredible': 3626, 'o2fwd': 4847, '18p': 318, 'ship': 6049, 'maturity': 4370, 'confirmed': 1941, 'passport': 5074, 'multiply': 4612, 'independently': 3631, 'showed': 6088, 'twins': 7043, 'strt': 6489, 'ltdhelpdesk': 4226, '02085076972': 11, 'equally': 2610, 'uneventful': 7104, 'pesky': 5140, 'cyclists': 2118, 'adi': 793, 'entey': 2595, 'nattil': 4677, 'kittum': 3934, 'kavalan': 3885, 'hire': 3407, 'hitman': 3411, '09066660100': 240, '2309': 360, 'cps': 2026, 'causing': 1677, 'outages': 4980, 'conserve': 1954, 'voted': 7270, 'epi': 2607, 'bare': 1209, 'bhaskar': 1319, 'dubsack': 2457, 'gong': 3157, 'kaypoh': 3887, 'basketball': 1223, 'outdoors': 4982, 'macho': 4272, 'interfued': 3684, 'blank': 1359, 'listed': 4125, 'apology': 989, 'hustle': 3534, 'forth': 2941, 'audition': 1115, 'harlem': 3315, 'workout': 7543, 'fats': 2772, 'zac': 7681, 'tonights': 6921, 'hui': 3513, 'xin': 7597, 'lib': 4076, 'difference': 2287, 'versus': 7220, 'underdtand': 7097, 'muchxxlove': 4608, 'locaxx': 4155, '07090298926': 24, '9307622': 703, 'skateboarding': 6159, 'despite': 2245, 'thrown': 6832, 'winds': 7471, 'bandages': 1195, 'html': 3502, 'gbp4': 3073, 'mfl': 4445, 'hectic': 3355, 'fell': 2794, 'swoop': 6620, 'wamma': 7317, 'doggin': 2368, 'dogs': 2371, 'langport': 3994, 'virtual': 7248, 'senthil': 5979, 'apnt': 984, 'pants': 5038, 'go2sri': 3140, 'lanka': 3996, 'merely': 4430, 'relationship': 5641, 'wherevr': 7432, 'forevr': 2926, 'gudnyt': 3240, 'mistakes': 4499, 'plum': 5226, 'smacks': 6198, '50s': 530, 'alot': 892, 'formatting': 2939, 'attracts': 1110, 'promotion': 5429, '8714714': 675, 'vegas': 7208, 'lou': 4198, 'lancaster': 3987, 'neway': 4730, 'couldnåõt': 2009, 'båõday': 1580, 'soc': 6239, 'bsn': 1521, 'advising': 808, 'lobby': 4151, 'texted': 6746, 'showered': 6090, 'ything': 7672, 'vewy': 7223, 'lubly': 4228, '087147123779am': 120, 'catches': 1671, 'specify': 6325, 'domain': 2380, 'nusstu': 4834, 'bari': 1211, 'hudgi': 3506, 'yorge': 7654, 'pataistha': 5078, 'ertini': 2619, 'hasbro': 3319, 'jump': 3853, 'hoops': 3454, 'ummifying': 7080, 'associate': 1080, 'rip': 5762, 'uterus': 7178, 'pool': 5277, 'jacuzzi': 3763, 'x49': 7591, '09065989182': 225, 'txtstar': 7055, '2nights': 401, 'uve': 7183, 'wildest': 7461, 'aldrine': 869, 'rtm': 5805, 'sources': 6303, 'unhappiness': 7108, 'necesity': 4693, 'witout': 7500, 'colleg': 1875, 'wth': 7580, 'functions': 3023, 'events': 2648, 'espe': 2627, 'irritated': 3718, '4wrd': 518, 'wthout': 7581, 'takecare': 6647, 'univ': 7114, 'rajas': 5527, 'burrito': 1553, 'disconnect': 2319, 'terrorist': 6731, 'confirmd': 1940, 'verified': 7216, 'cnn': 1850, 'ibn': 3550, 'stitch': 6444, 'trouser': 6999, '146tf150p': 298, 'cheetos': 1752, 'synced': 6626, 'shangela': 6022, 'hppnss': 3497, 'sorrow': 6284, 'goodfriend': 3162, 'passes': 5071, '08704439680': 84, 'poo': 5274, 'gloucesterroad': 3133, 'uup': 7181, 'ouch': 4975, 'stayed': 6419, 'forgiveness': 2932, 'glo': 3129, '09058095107': 183, 's3xy': 5831, 'wlcome': 7510, 'eaten': 2496, 'timi': 6860, 'mila': 4456, 'age23': 834, 'blonde': 1379, 'mtalk': 4599, '69866': 578, '30pp': 426, '5free': 541, 'increments': 3627, 'help08718728876': 3369, 'fishrman': 2857, 'sack': 5836, 'stones': 6452, 'strtd': 6490, 'throwin': 6830, 'atlast': 1095, '1stone': 336, '08717895698': 136, 'mobstorequiz10ppm': 4527, 'physics': 5166, 'praveesh': 5338, 'delicious': 2211, 'salad': 5848, 'desert': 2238, 'beers': 1276, 'whore': 7443, 'funk': 3026, 'tones2u': 6915, 'twinks': 7042, 'scallies': 5893, 'skins': 6164, 'jocks': 3815, '08712466669': 116, 'nat': 4672, 'flood': 2884, 'beads': 1255, 'wishlist': 7490, 'section': 5939, 'nitro': 4764, 'comfort': 1888, 'sold': 6249, 'creative': 2046, 'reffering': 5618, 'getiing': 3094, 'weirdy': 7394, 'brownies': 1514, '09061701851': 196, 'k61': 3864, '12hours': 288, 'restrict': 5718, 'funeral': 3025, 'vivek': 7257, '74355': 600, 'tnc': 6887, 'brah': 1460, 'possession': 5295, 'greece': 3213, 'protect': 5443, 'sib': 6104, 'sensitive': 5976, 'passwords': 5076, 'recorded': 5606, 'someday': 6255, 'grandfather': 3199, 'blu': 1386, 'concert': 1930, 'november': 4813, '09061104276': 189, '75max': 604, 'yuou': 7678, 'spot': 6364, 'ipad': 3708, 'bunch': 1541, 'lotto': 4197, 'bird': 1339, 'purchases': 5470, 'authorise': 1125, '45pm': 490, 'gimmi': 3113, 'goss': 3176, 'ystrday': 7671, 'chile': 1770, 'subletting': 6514, 'ammae': 915, 'steering': 6431, 'sleeps': 6177, 'rounder': 5792, 'required': 5693, 'lambu': 3986, 'ji': 3805, 'batchlor': 1227, 'zoom': 7689, '62220cncl': 560, 'stopcs': 6459, '08717890890å': 135, 'cheese': 1750, 'åòharry': 7694, 'tms': 6886, 'widelive': 7452, 'index': 3632, 'wml': 7512, '1b6a5ecef91ff9': 323, '37819': 446, 'true18': 7003, '0430': 15, 'jul': 3849, 'xafter': 7592, 'cst': 2075, 'chg': 1760, 'pure': 5471, 'hearted': 3351, 'enemies': 2573, 'smiley': 6212, 'gail': 3040, 'l8tr': 3969, 'yaxxx': 7624, 'theoretically': 6782, 'hooked': 3453, 'formally': 2937, 'multimedia': 4611, 'hsbc': 3501, 'vague': 7186, 'accounting': 763, 'delayed': 2207, 'housing': 3487, 'agency': 835, 'renting': 5674, 'presents': 5362, 'nicky': 4745, 'gumby': 3249, 'alto18': 900, 'wave': 7352, 'asp': 1076, '44345': 482, 'sized': 6156, 'tarpon': 6667, 'springs': 6371, 'cab': 1582, 'steps': 6432, 'limited': 4105, 'hf8': 3389, '09061702893': 198, '08719181259': 153, '26': 370, 'radiator': 5514, 'proper': 5435, 'tongued': 6919, 'shorts': 6077, 'qi': 5490, 'suddenly': 6535, 'flurries': 2893, 'melt': 4416, 'eek': 2517, 'born': 1421, 'real1': 5572, 'pushbutton': 5477, 'dontcha': 2385, 'babygoodbye': 1170, 'golddigger': 3152, 'webeburnin': 7370, 'perform': 5119, 'cards': 1639, 'rebooting': 5585, 'nigh': 4748, 'nooooooo': 4787, 'cable': 1584, 'outage': 4979, 'sos': 6294, 'playin': 5213, 'guoyang': 3250, 'rahul': 5519, 'dengra': 2222, 'antelope': 961, 'toplay': 6935, 'fieldof': 2809, 'selfindependence': 5957, 'contention': 1965, 'gnarls': 3137, 'barkleys': 1212, 'borderline': 1417, '545': 539, 'nightnight': 4751, 'possibility': 5298, 'grooved': 3223, 'affairs': 813, 'mising': 4485, 'secured': 5940, 'unsecured': 7125, '195': 320, '6669': 568, 'lanre': 3997, 'fakeye': 2744, 'eckankar': 2502, '3000': 419, '09061743386': 199, 'heater': 3353, 'degrees': 2203, 'dodgey': 2359, '674': 569, 'seing': 5953, 'asssssholeeee': 1081, 'ceri': 1699, 'rebel': 5583, 'dreamz': 2423, 'buddy': 1529, 'blokes': 1378, '84484': 657, 'nationwide': 4676, 'newport': 4732, 'juliana': 3851, 'nachos': 4647, 'eta': 2633, 'dizzamn': 2341, 'suitemates': 6546, 'nimbomsons': 4757, 'continent': 1967, 'housewives': 3485, '0871750': 134, '77': 605, 'landlines': 3991, '087104711148': 97, 'emerging': 2559, 'fiend': 2810, 'impede': 3600, 'hesitant': 3383, '60': 553, '400thousad': 469, 'nose': 4798, 'essay': 2630, 'tram': 6967, 'vic': 7227, 'coherently': 1863, 'triple': 6991, 'echo': 2501, 'gran': 3197, 'onlyfound': 4921, 'afew': 811, 'cusoon': 2103, 'honi': 3449, 'dial': 2267, 'bx526': 1575, 'university': 7115, 'southern': 6305, 'california': 1594, 'rayan': 5551, 'macleran': 4274, 'balls': 1191, 'olave': 4898, 'mandara': 4318, 'trishul': 6993, 'woo': 7530, 'hoo': 3451, 'panties': 5037, 'thout': 6821, '09066364311': 232, 'flatter': 2871, 'pints': 5189, 'carlin': 1651, 'literally': 4132, 'ciao': 1797, 'starve': 6409, 'impression': 3608, 'motivate': 4574, 'darkness': 2144, 'wknd': 7508, 'yalrigu': 7616, 'heltini': 3372, 'iyo': 3749, 'kothi': 3958, 'shared': 6027, 'uttered': 7180, 'trusting': 7008, 'noice': 4773, 'esaplanade': 2622, 'accessible': 753, '08709501522': 95, '139': 292, 'la3': 3971, '2wu': 414, 'occurs': 4860, 'prof': 5411, 'sem': 5963, 'student': 6497, 'enna': 2587, 'kalaachutaarama': 3870, 'coco': 1860, 'sporadically': 6359, '09064017305': 214, 'pobox75ldns7': 5246, 'tbs': 6682, 'persolvo': 5131, 'forå': 2948, '38': 447, 'kath': 3884, 'manchester': 4315, 'youåõre': 7666, 'burden': 1545, 'noworriesloans': 4817, '08717111821': 131, 'actual': 782, 'harder': 3310, 'nbme': 4685, 'sickness': 6107, 'villa': 7239, 'sathya': 5876, 'gam': 3045, 'smash': 6203, 'religiously': 5648, 'heroes': 3379, 'tips': 6864, '07973788240': 43, '08715203649': 126, 'dealing': 2172, 'muhommad': 4610, 'penny': 5112, 'doc': 2352, 'fiting': 2859, 'load': 4147, 'mj': 4504, 'unconvinced': 7094, 'elaborate': 2536, 'willpower': 7465, 'value': 7194, 'absence': 740, 'answerin': 957, 'reasonable': 5581, 'åè10': 7692, 'evey': 2663, 'mnth': 4514, 'prin': 5380, 'û_thanks': 7702, 'gsoh': 3233, 'spam': 6312, 'gigolo': 3111, 'mens': 4423, 'oncall': 4910, 'mjzgroup': 4505, '08714342399': 119, '50rcvd': 529, 'ashwini': 1066, '08707500020': 88, 'ukp': 7074, '09061790125': 206, 'thet': 6790, 'skinny': 6163, 'casting': 1666, 'elections': 2542, '116': 277, 'hlday': 3417, 'camp': 1616, 'amrca': 923, 'serena': 5983, 'prescribed': 5357, 'kappa': 3879, 'meatballs': 4397, 'approve': 1008, 'panalam': 5030, 'spjanuary': 6344, 'fortune': 2942, 'allday': 884, 'piss': 5190, 'perf': 5117, 'outsider': 4990, 'receipts': 5590, 'ûówell': 7709, '98321561': 708, 'familiar': 2753, 'depression': 2232, 'infact': 3640, 'simpsons': 6129, 'band': 1194, 'canåõt': 1630, 'isnåõt': 3729, 'shite': 6055, 'kip': 3928, 'hont': 3450, 'amanda': 906, 'regard': 5629, 'renewing': 5671, 'upgrading': 7140, 'subject': 6513, 'nannys': 4666, 'puts': 5481, 'perspective': 5138, 'conveying': 1975, 'debating': 2179, 'wtlp': 7582, 'guessing': 3244, 'jb': 3785, 'florida': 2886, 'hidden': 3393, 'royal': 5796, 'tog': 6897, 'teams': 6694, 'swhrt': 6613, '0906346330': 210, '47': 491, 'po19': 5236, '2ez': 384, 'general': 3082, 'jetton': 3802, 'cmon': 1847, 'sticky': 6440, 'replies': 5683, 'lunsford': 4239, 'enjoying': 2585, '0796xxxxxx': 42, 'prizeawaiting': 5394, 'kfc': 3906, 'meals': 4387, 'gravy': 3208, '07008009200': 21, 'attended': 1105, 'mw': 4634, 'tuth': 7034, 'eviction': 2664, 'spiral': 6342, 'michael': 4448, 'riddance': 5746, 'suffers': 6538, 'raglan': 5518, 'edward': 2514, 'cricket': 2054, 'closeby': 1831, 'skye': 6168, 'bookedthe': 1408, 'hut': 3535, 'drastic': 2418, 'indicate': 3636, '3750': 445, 'garments': 3058, 'sez': 6005, 'arab': 1017, 'evry1': 2673, 'eshxxxxxxxxxxx': 2626, 'lay': 4027, 'bimbo': 1336, 'ugo': 7068, '3lions': 455, 'portege': 5288, 'm100': 4253, 'semiobscure': 5966, 'gprs': 3188, 'repeat': 5678, 'loosu': 4183, 'careless': 1647, 'freaking': 2962, 'myspace': 4642, 'logged': 4161, 'method': 4443, 'calculation': 1591, 'blur': 1391, 'clothes': 1837, 'jewelry': 3803, 'breaker': 1475, 'deluxe': 2217, 'features': 2783, 'graphics': 3203, 'bbdeluxe': 1240, 'lush': 4240, 'fumbling': 3020, '2find': 385, 'stone': 6450, 'taunton': 6674, 'weekdays': 7382, 'haiz': 3273, 'nails': 4652, 'common': 1895, 'asia': 1067, 'greatest': 3211, 'courage': 2016, 'bear': 1256, 'defeat': 2197, 'stil': 6442, 'fucked': 3009, 'tobed': 6892, '430': 477, 'beauty': 1260, 'natalja': 4674, '440': 480, 'nat27081980': 4673, 'asthma': 1085, 'attack': 1101, 'ball': 1189, 'moving': 4585, 'spin': 6341, 'haiyoh': 3272, 'million': 4460, 'prsn': 5448, 'saves': 5885, 'sunlight': 6560, 'loss': 4190, 'audiitions': 1114, 'relocate': 5649, 'pocked': 5249, 'motivating': 4575, 'brison': 1498, 'spelled': 6333, 'caps': 1632, 'bullshit': 1540, 'motherfucker': 4573, 'kit': 3933, 'strip': 6483, '1013': 265, 'ig11': 3575, 'oja': 4888, '08712402578': 108, 'thesmszone': 6789, 'anonymous': 950, 'masked': 4347, 'abuse': 745, 'woodland': 7531, 'avenue': 1138, 'parish': 5054, 'magazine': 4287, 'billy': 1334, 'jogging': 3818, 'awww': 1151, 'useless': 7169, 'loo': 4174, 'ed': 2504, 'shelf': 6037, 'swollen': 6619, 'glands': 3126, 'previous': 5374, 'captain': 1633, 'bcaz': 1243, 'stu': 6493, 'truble': 7000, 'evone': 2669, 'hates': 3323, 'mokka': 4538, 'view': 7235, 'gays': 3068, 'dual': 2455, 'hostile': 3473, 'haircut': 3270, 'breezy': 1484, '09061744553': 203, 'polyh': 5268, '1apple': 322, '1tulsi': 338, 'leaf': 4040, '1lemon': 329, '1cup': 324, 'bone': 1403, 'problms': 5403, 'litres': 4133, 'watr': 7349, 'diseases': 2325, 'snd': 6230, 'lavender': 4024, 'manky': 4324, 'scouse': 5912, 'steve': 6436, 'travelling': 6981, 'inmind': 3653, 'recreation': 5610, 'epsilon': 2609, 'mesages': 4433, 'judgemental': 3847, 'fridays': 2982, 'waheeda': 7296, 'bot': 1425, 'notes': 4804, 'eventually': 2649, 'tolerance': 6904, 'hits': 3412, '0789xxxxxxx': 40, 'hellogorgeous': 3364, 'lst': 4223, 'nitw': 4766, 'texd': 6739, 'hopeu': 3461, '4ward': 517, 'jaz': 3783, '09058091870': 176, 'exorcism': 2697, 'emily': 2561, 'evry': 2672, 'emotion': 2562, 'dsn': 2453, 'prayrs': 5342, 'othrwise': 4973, 'ujhhhhhhh': 7072, 'sandiago': 5860, 'parantella': 5049, 'hugging': 3509, 'sweater': 6605, 'mango': 4322, 'massive': 4350, 'involved': 3704, 'landmark': 3992, 'bob': 1395, 'barry': 1215, '83738': 651, 'absolutly': 741, 'consent': 1953, 'forms': 2940, 'tonexs': 6917, 'renewed': 5670, 'clubzed': 1843, 'billing': 1331, 'polo': 5264, '373': 444, 'w1j': 7281, '6hl': 586, 'mathews': 4362, 'tait': 6644, 'edwards': 2515, 'anderson': 934, 'haunt': 3325, 'promoting': 5428, 'crowd': 2062, '8000930705': 618, 'snowboarding': 6236, 'christmassy': 1794, 'recpt': 5609, 'baaaaaaaabe': 1164, 'ignoring': 3578, 'shola': 6066, 'academic': 748, 'sagamu': 5845, 'lautech': 4023, 'vital': 7254, 'completes': 1912, 'education': 2511, 'zealand': 7683, 'qet': 5489}\n"
          ]
        }
      ]
    },
    {
      "cell_type": "markdown",
      "source": [
        "The **vocabulary** is a dictionary where each key is a word in the corpus and the corresponding value is an integer index that represents that word in the vectorized representation. In the example above, the word \"go\" has the index 3139, \"until\" has the index 7131, and so on."
      ],
      "metadata": {
        "id": "rMEVQa9dS9ZI"
      }
    },
    {
      "cell_type": "code",
      "source": [
        "print(train_vectors)"
      ],
      "metadata": {
        "colab": {
          "base_uri": "https://localhost:8080/"
        },
        "id": "JEC8taPwSGPN",
        "outputId": "2a7687ce-50ce-4227-bd81-a8a029fbec8d"
      },
      "execution_count": 16,
      "outputs": [
        {
          "output_type": "stream",
          "name": "stdout",
          "text": [
            "  (0, 3139)\t1\n",
            "  (0, 7131)\t1\n",
            "  (0, 3857)\t1\n",
            "  (0, 5256)\t1\n",
            "  (0, 2041)\t1\n",
            "  (0, 1131)\t1\n",
            "  (0, 4919)\t1\n",
            "  (0, 3613)\t1\n",
            "  (0, 1536)\t1\n",
            "  (0, 3210)\t1\n",
            "  (0, 7545)\t1\n",
            "  (0, 3970)\t1\n",
            "  (0, 1534)\t1\n",
            "  (0, 1798)\t1\n",
            "  (0, 6784)\t1\n",
            "  (0, 3178)\t1\n",
            "  (0, 919)\t1\n",
            "  (0, 7341)\t1\n",
            "  (1, 4889)\t1\n",
            "  (1, 4001)\t1\n",
            "  (1, 3827)\t1\n",
            "  (1, 7453)\t1\n",
            "  (1, 4915)\t1\n",
            "  (2, 3613)\t1\n",
            "  (2, 2965)\t1\n",
            "  :\t:\n",
            "  (4397, 2225)\t1\n",
            "  (4397, 5937)\t1\n",
            "  (4397, 6066)\t1\n",
            "  (4397, 748)\t2\n",
            "  (4397, 5845)\t1\n",
            "  (4397, 4023)\t1\n",
            "  (4397, 7254)\t1\n",
            "  (4397, 1912)\t1\n",
            "  (4397, 2511)\t1\n",
            "  (4397, 7683)\t1\n",
            "  (4398, 4138)\t1\n",
            "  (4398, 3732)\t1\n",
            "  (4398, 4976)\t1\n",
            "  (4398, 7345)\t1\n",
            "  (4398, 7638)\t1\n",
            "  (4398, 3859)\t1\n",
            "  (4398, 4204)\t1\n",
            "  (4398, 4866)\t1\n",
            "  (4398, 2845)\t1\n",
            "  (4398, 2162)\t1\n",
            "  (4399, 3139)\t1\n",
            "  (4399, 5928)\t1\n",
            "  (4399, 3862)\t1\n",
            "  (4399, 3172)\t1\n",
            "  (4399, 5489)\t1\n"
          ]
        }
      ]
    },
    {
      "cell_type": "markdown",
      "source": [
        "Train vectors looks like:\n",
        "\n",
        "(sentence no., word no. in vocab) frequency of a word\n",
        "\n",
        "(0, 3139)\t1\n",
        "\n",
        "(0, 7131)\t1\n",
        "\n",
        "Where (0, 3139) represents in first sentence (#0) word no. 3139 apprears one time in the sentence.\n"
      ],
      "metadata": {
        "id": "QASZdQjpRdCP"
      }
    },
    {
      "cell_type": "code",
      "source": [
        "# Transform the testing data into vectors\n",
        "test_vectors = vectorizer.transform(test_data[\"text\"])"
      ],
      "metadata": {
        "id": "fgh3iwtuokN7"
      },
      "execution_count": 17,
      "outputs": []
    },
    {
      "cell_type": "markdown",
      "source": [
        "***Train Naive Bayes classifier***"
      ],
      "metadata": {
        "id": "RTiAuwRfop_j"
      }
    },
    {
      "cell_type": "code",
      "source": [
        "# Create a Multinomial Naive Bayes classifier object\n",
        "nb_classifier = MultinomialNB()\n",
        "\n",
        "# Train the classifier on the training vectors and labels\n",
        "nb_classifier.fit(train_vectors, train_data[\"label\"])\n"
      ],
      "metadata": {
        "colab": {
          "base_uri": "https://localhost:8080/",
          "height": 74
        },
        "id": "pr0g-h5volx_",
        "outputId": "b5ce038a-0fa6-473d-c37c-f64ffe7cd45f"
      },
      "execution_count": 18,
      "outputs": [
        {
          "output_type": "execute_result",
          "data": {
            "text/plain": [
              "MultinomialNB()"
            ],
            "text/html": [
              "<style>#sk-container-id-1 {color: black;background-color: white;}#sk-container-id-1 pre{padding: 0;}#sk-container-id-1 div.sk-toggleable {background-color: white;}#sk-container-id-1 label.sk-toggleable__label {cursor: pointer;display: block;width: 100%;margin-bottom: 0;padding: 0.3em;box-sizing: border-box;text-align: center;}#sk-container-id-1 label.sk-toggleable__label-arrow:before {content: \"▸\";float: left;margin-right: 0.25em;color: #696969;}#sk-container-id-1 label.sk-toggleable__label-arrow:hover:before {color: black;}#sk-container-id-1 div.sk-estimator:hover label.sk-toggleable__label-arrow:before {color: black;}#sk-container-id-1 div.sk-toggleable__content {max-height: 0;max-width: 0;overflow: hidden;text-align: left;background-color: #f0f8ff;}#sk-container-id-1 div.sk-toggleable__content pre {margin: 0.2em;color: black;border-radius: 0.25em;background-color: #f0f8ff;}#sk-container-id-1 input.sk-toggleable__control:checked~div.sk-toggleable__content {max-height: 200px;max-width: 100%;overflow: auto;}#sk-container-id-1 input.sk-toggleable__control:checked~label.sk-toggleable__label-arrow:before {content: \"▾\";}#sk-container-id-1 div.sk-estimator input.sk-toggleable__control:checked~label.sk-toggleable__label {background-color: #d4ebff;}#sk-container-id-1 div.sk-label input.sk-toggleable__control:checked~label.sk-toggleable__label {background-color: #d4ebff;}#sk-container-id-1 input.sk-hidden--visually {border: 0;clip: rect(1px 1px 1px 1px);clip: rect(1px, 1px, 1px, 1px);height: 1px;margin: -1px;overflow: hidden;padding: 0;position: absolute;width: 1px;}#sk-container-id-1 div.sk-estimator {font-family: monospace;background-color: #f0f8ff;border: 1px dotted black;border-radius: 0.25em;box-sizing: border-box;margin-bottom: 0.5em;}#sk-container-id-1 div.sk-estimator:hover {background-color: #d4ebff;}#sk-container-id-1 div.sk-parallel-item::after {content: \"\";width: 100%;border-bottom: 1px solid gray;flex-grow: 1;}#sk-container-id-1 div.sk-label:hover label.sk-toggleable__label {background-color: #d4ebff;}#sk-container-id-1 div.sk-serial::before {content: \"\";position: absolute;border-left: 1px solid gray;box-sizing: border-box;top: 0;bottom: 0;left: 50%;z-index: 0;}#sk-container-id-1 div.sk-serial {display: flex;flex-direction: column;align-items: center;background-color: white;padding-right: 0.2em;padding-left: 0.2em;position: relative;}#sk-container-id-1 div.sk-item {position: relative;z-index: 1;}#sk-container-id-1 div.sk-parallel {display: flex;align-items: stretch;justify-content: center;background-color: white;position: relative;}#sk-container-id-1 div.sk-item::before, #sk-container-id-1 div.sk-parallel-item::before {content: \"\";position: absolute;border-left: 1px solid gray;box-sizing: border-box;top: 0;bottom: 0;left: 50%;z-index: -1;}#sk-container-id-1 div.sk-parallel-item {display: flex;flex-direction: column;z-index: 1;position: relative;background-color: white;}#sk-container-id-1 div.sk-parallel-item:first-child::after {align-self: flex-end;width: 50%;}#sk-container-id-1 div.sk-parallel-item:last-child::after {align-self: flex-start;width: 50%;}#sk-container-id-1 div.sk-parallel-item:only-child::after {width: 0;}#sk-container-id-1 div.sk-dashed-wrapped {border: 1px dashed gray;margin: 0 0.4em 0.5em 0.4em;box-sizing: border-box;padding-bottom: 0.4em;background-color: white;}#sk-container-id-1 div.sk-label label {font-family: monospace;font-weight: bold;display: inline-block;line-height: 1.2em;}#sk-container-id-1 div.sk-label-container {text-align: center;}#sk-container-id-1 div.sk-container {/* jupyter's `normalize.less` sets `[hidden] { display: none; }` but bootstrap.min.css set `[hidden] { display: none !important; }` so we also need the `!important` here to be able to override the default hidden behavior on the sphinx rendered scikit-learn.org. See: https://github.com/scikit-learn/scikit-learn/issues/21755 */display: inline-block !important;position: relative;}#sk-container-id-1 div.sk-text-repr-fallback {display: none;}</style><div id=\"sk-container-id-1\" class=\"sk-top-container\"><div class=\"sk-text-repr-fallback\"><pre>MultinomialNB()</pre><b>In a Jupyter environment, please rerun this cell to show the HTML representation or trust the notebook. <br />On GitHub, the HTML representation is unable to render, please try loading this page with nbviewer.org.</b></div><div class=\"sk-container\" hidden><div class=\"sk-item\"><div class=\"sk-estimator sk-toggleable\"><input class=\"sk-toggleable__control sk-hidden--visually\" id=\"sk-estimator-id-1\" type=\"checkbox\" checked><label for=\"sk-estimator-id-1\" class=\"sk-toggleable__label sk-toggleable__label-arrow\">MultinomialNB</label><div class=\"sk-toggleable__content\"><pre>MultinomialNB()</pre></div></div></div></div></div>"
            ]
          },
          "metadata": {},
          "execution_count": 18
        }
      ]
    },
    {
      "cell_type": "markdown",
      "source": [
        "***Make predictions on the test data***"
      ],
      "metadata": {
        "id": "p6qC4fIUpHlz"
      }
    },
    {
      "cell_type": "code",
      "source": [
        "# Use the trained classifier to make predictions on the test vectors\n",
        "predictions = nb_classifier.predict(test_vectors)"
      ],
      "metadata": {
        "id": "M9tkj5pCpD13"
      },
      "execution_count": 19,
      "outputs": []
    },
    {
      "cell_type": "markdown",
      "source": [
        "***Evaluate Model Performance using accuracy***"
      ],
      "metadata": {
        "id": "S8a8gEd_prhH"
      }
    },
    {
      "cell_type": "code",
      "source": [
        "# Calculate the accuracy of the classifier\n",
        "accuracy = accuracy_score(test_data[\"label\"], predictions)\n",
        "\n",
        "# Print the accuracy of the classifier\n",
        "print(\"Accuracy:\", accuracy)"
      ],
      "metadata": {
        "colab": {
          "base_uri": "https://localhost:8080/"
        },
        "id": "Q5Plmh1vpvd7",
        "outputId": "524f3524-7f82-4c4d-b359-2cbc8e4ad217"
      },
      "execution_count": 20,
      "outputs": [
        {
          "output_type": "stream",
          "name": "stdout",
          "text": [
            "Accuracy: 0.9863481228668942\n"
          ]
        }
      ]
    },
    {
      "cell_type": "markdown",
      "source": [
        "***Visualize the Model Performance using confusion matrix***"
      ],
      "metadata": {
        "id": "y_PPI3a7qAMF"
      }
    },
    {
      "cell_type": "code",
      "source": [
        "# Print the confusion matrix of the classifier\n",
        "print(\"Confusion Matrix:\")\n",
        "print(confusion_matrix(test_data[\"label\"], predictions))\n"
      ],
      "metadata": {
        "colab": {
          "base_uri": "https://localhost:8080/"
        },
        "id": "_nudxFzBpPkU",
        "outputId": "e1a07a76-0d65-4447-cd49-0107e5c983c1"
      },
      "execution_count": 21,
      "outputs": [
        {
          "output_type": "stream",
          "name": "stdout",
          "text": [
            "Confusion Matrix:\n",
            "[[1015    8]\n",
            " [   8  141]]\n"
          ]
        }
      ]
    },
    {
      "cell_type": "code",
      "source": [
        "cm = confusion_matrix(test_data[\"label\"], predictions)\n",
        "ax = plt.subplot()\n",
        "sns.heatmap(cm, annot=True, ax=ax, cmap='Blues', fmt='g')\n",
        "ax.set_xlabel('Predicted labels')\n",
        "ax.set_ylabel('True labels')\n",
        "ax.set_title('Confusion Matrix')\n",
        "# Add labels, title, and axis ticks\n",
        "ax.xaxis.set_ticklabels(['ham', 'spam'])\n",
        "ax.yaxis.set_ticklabels(['ham', 'spam'])\n",
        "\n",
        "# Show the plot\n",
        "plt.show()"
      ],
      "metadata": {
        "colab": {
          "base_uri": "https://localhost:8080/",
          "height": 472
        },
        "id": "7LlVDJARp52d",
        "outputId": "e2b3b33a-7337-4e5a-8396-3886323a64ee"
      },
      "execution_count": 22,
      "outputs": [
        {
          "output_type": "display_data",
          "data": {
            "text/plain": [
              "<Figure size 640x480 with 2 Axes>"
            ],
            "image/png": "[encoded data removed]"
          },
          "metadata": {}
        }
      ]
    }
  ]
}